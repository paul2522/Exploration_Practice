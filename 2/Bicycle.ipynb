{
 "cells": [
  {
   "cell_type": "markdown",
   "metadata": {},
   "source": [
    "EP_02. 날씨 좋은 월요일 오후 세 시, 자전거 타는 사람은 몇 명?\n",
    "-----\n",
    "## 학습 전제\n",
    "---\n",
    "- numpy, pandas, matplotlib 등의 라이브러리를 자유롭게 활용할 수 있다.\n",
    "- 원핫인코딩 등의 간단한 데이터 전처리 방식의 개념에 대해 알고있다.\n",
    "- 고등 수학 과정 중 도함수의 정의와 미분계수 수식, 그리고 간단한 미분 공식을 알고 있다.\n",
    "- 머신러닝의 개념과 그 패러다임에 관해 학습해본 적이 있으며, 낯설지 않다.\n",
    "## 학습 목표\n",
    "---\n",
    "- 입력데이터인 X, 정답데이터인 y, 모델의 출력인 prediction 각각의 개념을 알고, y에 가까운 prediction을 낼 수 있도록 학습한다는 철학을 이해한다.\n",
    "- 손실함수의 개념과 손실함수가 필요한 이유를 이해하고, 쓸 수 있는 함수의 종류와 구현을 익힌다.\n",
    "- 손실함수를 미분해서 구하는 기울기는 손실함수값을 줄이기 위해 필요한 것임을 이해하고, 그 구현을 수치미분과 해석미분 두 가지 방법으로 진행해본다.\n",
    "- 손실함수를 정의하고 경사하강법을 활용해 선형 방정식 형태로 된 모델을 학습시켜 실수형 데이터를 예측하는 선형 회귀 프로젝트의 전체 프로세스를 경험하고 익힌다.\n",
    "- sklearn의 LinearRegression을 활용해 빠르고 간편하게 선형 회귀 하는 방법을 익힌다.\n"
   ]
  },
  {
   "cell_type": "markdown",
   "metadata": {},
   "source": [
    "Step\n",
    "1. 단 하나의 정보, \"사용한 연수\"만 가지고 맥북의 중고가 맞춰보기\n",
    "* (1) 맥북의 중고가를 결정짓는 변수는 무엇일까? 데이터 확인하기\n",
    "* (2) 모델을 세운다는 것, 그에 대한 의미 이해하기\n",
    "* (3) 정확한 방정식이 아닌, \"최적의 방정식\"을 구하는 여정의 시작: 손실함수 정의하기\n",
    "* (4) 모델을 점점 똑똑하게 만드는 방법? 손실 함수를 줄이면 되겠지!\n",
    "* (5) 한번에 못해도 괜찮아, 한 단계 한 단계 학습해나가면 되니까!\n",
    "2. 이번엔 하나가 아니다! 다양한 정보로 원하는 값을 예측해보기\n",
    "* (1) 손님의 성별,수,전체 먹은 금액 등으로 내가 받을 팁을 예측할 수 있을까?\n",
    "* (2) 다시 한번 직접 설계해 보는 손실함수\n",
    "* (3) 앞으로는 절대 해 볼 일 없을, 직접 그래디언트 계산하기\n",
    "* (4) 모두 준비되었다면, 모델 학습은 간단하죠!(사실 상 위의 내용을 전부 이해해야함)\n",
    "* (5) 지금까지 한 모든 과정을, 라이브러리로 깔끔하게"
   ]
  },
  {
   "cell_type": "markdown",
   "metadata": {},
   "source": [
    "### 1. 단 하나의 정보, \"사용한 연수\"만 가지고 맥북의 중고가 맞춰보기"
   ]
  },
  {
   "cell_type": "markdown",
   "metadata": {},
   "source": [
    "#### (1) 맥북의 중고가를 결정짓는 변수는 무엇일까? 데이터 확인하기"
   ]
  },
  {
   "cell_type": "markdown",
   "metadata": {},
   "source": [
    "실습에 필요한 모듈을 불러옵니다.(Image, pandas, numpy)  \n",
    "pandas로 데이터를 불러온 뒤 데이터를 확인합니다."
   ]
  },
  {
   "cell_type": "code",
   "execution_count": 1,
   "metadata": {},
   "outputs": [
    {
     "name": "stdout",
     "output_type": "stream",
     "text": [
      "(80, 2)\n",
      "   used_years  price\n",
      "0        2.65    175\n",
      "1        3.80     63\n",
      "2        0.95    273\n",
      "3        4.50    133\n",
      "4        4.45    106\n"
     ]
    }
   ],
   "source": [
    "from IPython.display import display, Image\n",
    "import pandas as pd\n",
    "import numpy as np\n",
    "\n",
    "macbook = pd.read_csv('/home/aiffel/Code/Exploration Practice/2/data/macbook.csv')\n",
    "print(macbook.shape)\n",
    "print(macbook.head())"
   ]
  },
  {
   "cell_type": "markdown",
   "metadata": {},
   "source": [
    "데이터를 시각화하여 그래프를 만듭니다.  \n",
    "그래프를 그리기 위해 matplotlib 라이브러리를 사용합니다.  \n",
    "x축을 used_years, y축을 price로 하는 2차원 그래프를 만듭니다.\n",
    "scatter 함수를 통해서 점을 흩뿌리게 됩니다."
   ]
  },
  {
   "cell_type": "code",
   "execution_count": 2,
   "metadata": {},
   "outputs": [
    {
     "data": {
      "image/png": "[encoded data removed]",
      "text/plain": [
       "<Figure size 432x288 with 1 Axes>"
      ]
     },
     "metadata": {
      "image/png": {
       "height": 248,
       "width": 375
      },
      "needs_background": "light"
     },
     "output_type": "display_data"
    }
   ],
   "source": [
    "import matplotlib.pyplot as plt\n",
    "# 실행한 브라우저(인터넷 클라우드 환경)에서 바로 그림을 볼 수 있게 해주는 코드 = %matplotlib inline / local은 그냥 되는 듯 하다 \n",
    "%config InlineBackend.figure_format = 'retina' # 더 높은 해상도로 출력한다.\n",
    "\n",
    "plt.scatter(macbook['used_years'], macbook['price'])\n",
    "plt.show()"
   ]
  },
  {
   "cell_type": "markdown",
   "metadata": {},
   "source": [
    "형태를 보니 x와 y는 음의 상관관계를 가집니다.\n",
    "그럼 상관계수 값을 확인해 봅시다.  \n",
    "상관계수는 numpy의 corrcoef() 함수를 사용합니다.  \n",
    "2x2 행렬의 중심을 가는 대각선 위치인 (0,0), (1,1)은 각각 1번 변수와 1번 변수의 관계, 2번 변수와 2번 변수의 관계라서 1이 되고  \n",
    "(차원이 증가되고 같을 듯)  \n",
    "(0,1), (1,0)은 1번 변수와 2번 변수이고 값이 음수이므로 음의 상관관계를 가진다고 볼 수 있습니다."
   ]
  },
  {
   "cell_type": "code",
   "execution_count": 3,
   "metadata": {},
   "outputs": [
    {
     "data": {
      "text/plain": [
       "array([[ 1.        , -0.78972238],\n",
       "       [-0.78972238,  1.        ]])"
      ]
     },
     "execution_count": 3,
     "metadata": {},
     "output_type": "execute_result"
    }
   ],
   "source": [
    "# np.corrcoef(x, y)를 사용합니다.\n",
    "np.corrcoef(macbook['used_years'], macbook['price'])"
   ]
  },
  {
   "cell_type": "markdown",
   "metadata": {},
   "source": [
    "#### (2) \"모델\"을 만든다는 것, 그 의미 이해하기"
   ]
  },
  {
   "cell_type": "markdown",
   "metadata": {},
   "source": [
    "모델이란 무엇일까요?\n",
    "* 모델 : 특정 정보를 입력받아서 그 정보에 따라 원하는 값을 예측하여 값을 출력하는 함수\n",
    "* 함수 : 입력값을 받아 특정 연산을 행한 값을 출력하는 것\n",
    "* 모델 : 특정 정보를 입력받아서 그 정보에 따라 특정 연산을 행한 값을 출력\n",
    "* 모델은 함수이기에 x,y를 준비한다.\n",
    "* 이제 used_years 를 입력하여 price 를 예측하는 모델을 만들어 봅시다.  \n",
    "  \n",
    "x, y 값에 해당하는 used_year, price를 각각 변수에 넣어줍니다."
   ]
  },
  {
   "cell_type": "code",
   "execution_count": 4,
   "metadata": {},
   "outputs": [],
   "source": [
    "x = macbook[\"used_years\"].values\n",
    "y = macbook[\"price\"].values"
   ]
  },
  {
   "cell_type": "markdown",
   "metadata": {},
   "source": [
    "먼저 일차함수 모델을 만들어보겠습니다.(y = ax + b)"
   ]
  },
  {
   "cell_type": "code",
   "execution_count": 5,
   "metadata": {},
   "outputs": [
    {
     "name": "stdout",
     "output_type": "stream",
     "text": [
      "11\n",
      "11\n"
     ]
    }
   ],
   "source": [
    "def model(x, w, b):\n",
    "    y = w * x + b\n",
    "    return y\n",
    "\n",
    "print(model(5,2,1))\n",
    "print(model(x = 5, w = 2, b = 1))"
   ]
  },
  {
   "cell_type": "markdown",
   "metadata": {},
   "source": [
    "모델 학습이란 무엇일까요?\n",
    "학습 또는 훈련(training)은 모델이 입력을 받았을 때 정답 값에 가까운 출력을 낼 수 있는 최적의 매개변수(parameter)를 찾는겁입니다.  \n",
    "방정식을 푸는 것과 똑같습니다.\n",
    "위에 구한 함수와 3가지 데이터 (2, 100), (5, 40), (6, 20)를 가지고 그래프를 그려봅시다.  \n",
    "(이미 위 3점으로 w = -20, b = 140을 구한 상태입니다)"
   ]
  },
  {
   "cell_type": "code",
   "execution_count": 6,
   "metadata": {},
   "outputs": [
    {
     "data": {
      "image/png": "[encoded data removed]",
      "text/plain": [
       "<Figure size 432x288 with 1 Axes>"
      ]
     },
     "metadata": {
      "image/png": {
       "height": 248,
       "width": 377
      },
      "needs_background": "light"
     },
     "output_type": "display_data"
    }
   ],
   "source": [
    "# x축, y축 그리기\n",
    "plt.axvline(x=0, c='black')\n",
    "plt.axhline(y=0, c='black')\n",
    "\n",
    "# y = wx + b 일차함수 그리기\n",
    "x = np.linspace(0, 8, 9)\n",
    "y = model(x, w=-20, b=140) # y = -20x + 140\n",
    "plt.plot(y)\n",
    "\n",
    "# 나의 (x, y) 점 찍기\n",
    "x_data = [2, 5, 6]\n",
    "y_data = [100, 40, 20]\n",
    "plt.scatter(x_data, y_data, c='r', s=50)\n",
    "\n",
    "plt.show()"
   ]
  },
  {
   "cell_type": "markdown",
   "metadata": {},
   "source": [
    "하지만 실제 데이터트 이렇게 일직선으로 나오지 않습니다. macbook data를 그래프로 표현해볼까요?"
   ]
  },
  {
   "cell_type": "code",
   "execution_count": 7,
   "metadata": {},
   "outputs": [
    {
     "data": {
      "image/png": "[encoded data removed]",
      "text/plain": [
       "<Figure size 432x288 with 1 Axes>"
      ]
     },
     "metadata": {
      "image/png": {
       "height": 248,
       "width": 375
      },
      "needs_background": "light"
     },
     "output_type": "display_data"
    }
   ],
   "source": [
    "plt.scatter(macbook['used_years'], macbook['price'])\n",
    "plt.show()"
   ]
  },
  {
   "cell_type": "markdown",
   "metadata": {},
   "source": [
    "위와 같이 데이터가 산점도로 표현되어 있으면 해당 데이터를 나타내는 1차원 방정식(직선)을 딱 정립하기 어렵습니다.  \n",
    "여기서 그래도 최대한 해당 데이터를 표현하는 1차원 방정식을 찾기위해 적절한 기울기와 y절편(매개변수 값(위의 w,b))을 찾아야합니다."
   ]
  },
  {
   "cell_type": "markdown",
   "metadata": {},
   "source": [
    "#### (3) 정확한 방정식이 아닌, \"최적의 방정식\"을 구하는 여정의 시작: 손실함수 정의하기"
   ]
  },
  {
   "cell_type": "markdown",
   "metadata": {},
   "source": [
    "일단 불완전한 모델을 만들기 위해 아무 w,b 값을 넣어보고 그래프를 그려봅시다."
   ]
  },
  {
   "cell_type": "code",
   "execution_count": 8,
   "metadata": {},
   "outputs": [
    {
     "data": {
      "image/png": "[encoded data removed]",
      "text/plain": [
       "<Figure size 432x288 with 1 Axes>"
      ]
     },
     "metadata": {
      "image/png": {
       "height": 248,
       "width": 375
      },
      "needs_background": "light"
     },
     "output_type": "display_data"
    }
   ],
   "source": [
    "w = 3.1\n",
    "b = 2.3\n",
    "\n",
    "x = np.linspace(0, 5, 6) # x축을 0~5까지 6개의 샘플로 표현\n",
    "y = model(x, w, b) # y = 3.1x + 2.3\n",
    "plt.plot(y, c='r')\n",
    "\n",
    "plt.scatter(macbook['used_years'], macbook['price'])\n",
    "plt.show()\n"
   ]
  },
  {
   "cell_type": "markdown",
   "metadata": {},
   "source": [
    "그래프와 데이터가 전혀 맞지 않습니다.  \n",
    "used_year을 한번 가져와서 봅시다."
   ]
  },
  {
   "cell_type": "code",
   "execution_count": 9,
   "metadata": {},
   "outputs": [
    {
     "data": {
      "text/plain": [
       "array([2.65, 3.8 , 0.95, 4.5 , 4.45, 2.7 , 3.05, 2.25, 2.3 , 1.85, 1.5 ,\n",
       "       0.95, 2.6 , 0.55, 2.05, 0.75, 3.95, 2.8 , 2.05, 1.15, 1.35, 3.35,\n",
       "       1.35, 2.45, 2.4 , 0.1 , 3.45, 2.35, 0.7 , 1.05, 1.75, 4.1 , 4.5 ,\n",
       "       4.  , 2.  , 2.45, 2.5 , 2.1 , 3.  , 4.05, 2.7 , 2.15, 3.3 , 2.4 ,\n",
       "       2.85, 1.65, 1.55, 2.15, 3.4 , 1.55, 0.8 , 2.95, 2.4 , 1.4 , 1.65,\n",
       "       2.25, 3.85, 3.9 , 4.6 , 2.35, 4.05, 1.2 , 1.95, 1.6 , 2.  , 1.8 ,\n",
       "       3.75, 3.65, 2.35, 2.2 , 1.  , 4.15, 1.1 , 1.55, 2.95, 1.5 , 1.65,\n",
       "       1.1 , 3.25, 0.75])"
      ]
     },
     "execution_count": 9,
     "metadata": {},
     "output_type": "execute_result"
    }
   ],
   "source": [
    "x = macbook[\"used_years\"].values\n",
    "x"
   ]
  },
  {
   "cell_type": "markdown",
   "metadata": {},
   "source": [
    "모델이 출력하는 값을 prediction에 담아봅시다.  \n",
    "그리고 해당 값을 DataFrame에 넣어서 실제 값과 얼마나 다른지 확인해봅시다.  \n",
    "price 값과 prediction 값의 차이가 엄청나군요"
   ]
  },
  {
   "cell_type": "code",
   "execution_count": 10,
   "metadata": {},
   "outputs": [
    {
     "name": "stdout",
     "output_type": "stream",
     "text": [
      "[10.515 14.08   5.245 16.25  16.095 10.67  11.755  9.275  9.43   8.035\n",
      "  6.95   5.245 10.36   4.005  8.655  4.625 14.545 10.98   8.655  5.865\n",
      "  6.485 12.685  6.485  9.895  9.74   2.61  12.995  9.585  4.47   5.555\n",
      "  7.725 15.01  16.25  14.7    8.5    9.895 10.05   8.81  11.6   14.855\n",
      " 10.67   8.965 12.53   9.74  11.135  7.415  7.105  8.965 12.84   7.105\n",
      "  4.78  11.445  9.74   6.64   7.415  9.275 14.235 14.39  16.56   9.585\n",
      " 14.855  6.02   8.345  7.26   8.5    7.88  13.925 13.615  9.585  9.12\n",
      "  5.4   15.165  5.71   7.105 11.445  6.95   7.415  5.71  12.375  4.625]\n"
     ]
    },
    {
     "data": {
      "text/html": [
       "<div>\n",
       "<style scoped>\n",
       "    .dataframe tbody tr th:only-of-type {\n",
       "        vertical-align: middle;\n",
       "    }\n",
       "\n",
       "    .dataframe tbody tr th {\n",
       "        vertical-align: top;\n",
       "    }\n",
       "\n",
       "    .dataframe thead th {\n",
       "        text-align: right;\n",
       "    }\n",
       "</style>\n",
       "<table border=\"1\" class=\"dataframe\">\n",
       "  <thead>\n",
       "    <tr style=\"text-align: right;\">\n",
       "      <th></th>\n",
       "      <th>used_years</th>\n",
       "      <th>price</th>\n",
       "      <th>prediction</th>\n",
       "    </tr>\n",
       "  </thead>\n",
       "  <tbody>\n",
       "    <tr>\n",
       "      <th>0</th>\n",
       "      <td>2.65</td>\n",
       "      <td>175</td>\n",
       "      <td>10.515</td>\n",
       "    </tr>\n",
       "    <tr>\n",
       "      <th>1</th>\n",
       "      <td>3.80</td>\n",
       "      <td>63</td>\n",
       "      <td>14.080</td>\n",
       "    </tr>\n",
       "    <tr>\n",
       "      <th>2</th>\n",
       "      <td>0.95</td>\n",
       "      <td>273</td>\n",
       "      <td>5.245</td>\n",
       "    </tr>\n",
       "    <tr>\n",
       "      <th>3</th>\n",
       "      <td>4.50</td>\n",
       "      <td>133</td>\n",
       "      <td>16.250</td>\n",
       "    </tr>\n",
       "    <tr>\n",
       "      <th>4</th>\n",
       "      <td>4.45</td>\n",
       "      <td>106</td>\n",
       "      <td>16.095</td>\n",
       "    </tr>\n",
       "  </tbody>\n",
       "</table>\n",
       "</div>"
      ],
      "text/plain": [
       "   used_years  price  prediction\n",
       "0        2.65    175      10.515\n",
       "1        3.80     63      14.080\n",
       "2        0.95    273       5.245\n",
       "3        4.50    133      16.250\n",
       "4        4.45    106      16.095"
      ]
     },
     "execution_count": 10,
     "metadata": {},
     "output_type": "execute_result"
    }
   ],
   "source": [
    "prediction = model(x, w, b) # 현재 w = 3.1, b = 2.3\n",
    "print(prediction)\n",
    "\n",
    "macbook['prediction'] = prediction\n",
    "macbook.head()"
   ]
  },
  {
   "cell_type": "markdown",
   "metadata": {},
   "source": [
    "price 와 prediction 의 차이는 지금 모델이 얼마나 잘못 계산하고 있는지를 나타냅니다.  \n",
    "해당 값(Error)을 나타내는 열을 DataFrame에 추가해 봅시다."
   ]
  },
  {
   "cell_type": "code",
   "execution_count": 11,
   "metadata": {},
   "outputs": [
    {
     "data": {
      "text/html": [
       "<div>\n",
       "<style scoped>\n",
       "    .dataframe tbody tr th:only-of-type {\n",
       "        vertical-align: middle;\n",
       "    }\n",
       "\n",
       "    .dataframe tbody tr th {\n",
       "        vertical-align: top;\n",
       "    }\n",
       "\n",
       "    .dataframe thead th {\n",
       "        text-align: right;\n",
       "    }\n",
       "</style>\n",
       "<table border=\"1\" class=\"dataframe\">\n",
       "  <thead>\n",
       "    <tr style=\"text-align: right;\">\n",
       "      <th></th>\n",
       "      <th>used_years</th>\n",
       "      <th>price</th>\n",
       "      <th>prediction</th>\n",
       "      <th>error</th>\n",
       "    </tr>\n",
       "  </thead>\n",
       "  <tbody>\n",
       "    <tr>\n",
       "      <th>0</th>\n",
       "      <td>2.65</td>\n",
       "      <td>175</td>\n",
       "      <td>10.515</td>\n",
       "      <td>164.485</td>\n",
       "    </tr>\n",
       "    <tr>\n",
       "      <th>1</th>\n",
       "      <td>3.80</td>\n",
       "      <td>63</td>\n",
       "      <td>14.080</td>\n",
       "      <td>48.920</td>\n",
       "    </tr>\n",
       "    <tr>\n",
       "      <th>2</th>\n",
       "      <td>0.95</td>\n",
       "      <td>273</td>\n",
       "      <td>5.245</td>\n",
       "      <td>267.755</td>\n",
       "    </tr>\n",
       "    <tr>\n",
       "      <th>3</th>\n",
       "      <td>4.50</td>\n",
       "      <td>133</td>\n",
       "      <td>16.250</td>\n",
       "      <td>116.750</td>\n",
       "    </tr>\n",
       "    <tr>\n",
       "      <th>4</th>\n",
       "      <td>4.45</td>\n",
       "      <td>106</td>\n",
       "      <td>16.095</td>\n",
       "      <td>89.905</td>\n",
       "    </tr>\n",
       "  </tbody>\n",
       "</table>\n",
       "</div>"
      ],
      "text/plain": [
       "   used_years  price  prediction    error\n",
       "0        2.65    175      10.515  164.485\n",
       "1        3.80     63      14.080   48.920\n",
       "2        0.95    273       5.245  267.755\n",
       "3        4.50    133      16.250  116.750\n",
       "4        4.45    106      16.095   89.905"
      ]
     },
     "execution_count": 11,
     "metadata": {},
     "output_type": "execute_result"
    }
   ],
   "source": [
    "macbook['error'] = macbook['price'] - macbook['prediction']\n",
    "macbook.head()"
   ]
  },
  {
   "cell_type": "markdown",
   "metadata": {},
   "source": [
    "에러를 나타내는 지표\n",
    "* MAE : 오차의 절대값의 평균\n",
    "* MSE : 오차의 제곱의 평균\n",
    "* RMSE : MSE의 제곱근\n",
    "* R<sup>2</sup> : 1 - ( (해당값 - 예측값)의 제곱의 합계 / (해당값 - 평균)의 제곱의 합계 )\n",
    "\n",
    "여기서 우리는 RMSE을 구하는 함수를 만들어봅시다.\n",
    "다시 한번 prediction을 구한 뒤,  \n",
    "prediction 값과 실제 값을 넣어서 RMSE를 구해봅니다."
   ]
  },
  {
   "cell_type": "code",
   "execution_count": 12,
   "metadata": {},
   "outputs": [
    {
     "name": "stdout",
     "output_type": "stream",
     "text": [
      "[10.515 14.08   5.245 16.25  16.095 10.67  11.755  9.275  9.43   8.035\n",
      "  6.95   5.245 10.36   4.005  8.655  4.625 14.545 10.98   8.655  5.865\n",
      "  6.485 12.685  6.485  9.895  9.74   2.61  12.995  9.585  4.47   5.555\n",
      "  7.725 15.01  16.25  14.7    8.5    9.895 10.05   8.81  11.6   14.855\n",
      " 10.67   8.965 12.53   9.74  11.135  7.415  7.105  8.965 12.84   7.105\n",
      "  4.78  11.445  9.74   6.64   7.415  9.275 14.235 14.39  16.56   9.585\n",
      " 14.855  6.02   8.345  7.26   8.5    7.88  13.925 13.615  9.585  9.12\n",
      "  5.4   15.165  5.71   7.105 11.445  6.95   7.415  5.71  12.375  4.625]\n",
      "RMSE = 188.81322969819274\n"
     ]
    }
   ],
   "source": [
    "import math\n",
    "#a,b = 실제값, 예측값\n",
    "def MSE(a,b):\n",
    "    value = ((a-b)**2).mean()\n",
    "    return value\n",
    "\n",
    "def RMSE(a,b):\n",
    "    return math.sqrt(MSE(a,b))\n",
    "\n",
    "x = macbook[\"used_years\"].values\n",
    "y = macbook[\"price\"].values\n",
    "\n",
    "predictions = model(x,w,b)\n",
    "print(predictions)\n",
    "\n",
    "rmse = RMSE(y, predictions)\n",
    "print(\"RMSE =\", rmse)"
   ]
  },
  {
   "cell_type": "markdown",
   "metadata": {},
   "source": [
    "이렇게 예측값과 정답값에 대한 차이를 계산하는 함수를 손실함수(loss function), 비용함수(cost function)이라 부릅니다.  \n",
    "손실(loss)이 크면 예측이 잘 안되는 것이고 손실이 작으면 예측을 잘한다고 볼 수 있습니다.  \n",
    "따라서 우리는 RMSE를 가지고 loss함수를 구현해보겠습니다.  \n",
    "* 손실함수 : 모델이 예측하는 출력값과 정답값 간의 거리를 나타내는 함수"
   ]
  },
  {
   "cell_type": "code",
   "execution_count": 13,
   "metadata": {},
   "outputs": [
    {
     "data": {
      "text/plain": [
       "188.81322969819274"
      ]
     },
     "execution_count": 13,
     "metadata": {},
     "output_type": "execute_result"
    }
   ],
   "source": [
    "def loss(x,w,b,y):\n",
    "    predictions = model(x,w,b)\n",
    "    L = RMSE(y, predictions)\n",
    "    return L\n",
    "\n",
    "loss(x,w,b,y)"
   ]
  },
  {
   "cell_type": "markdown",
   "metadata": {},
   "source": [
    "#### (4) 모델을 점점 똑똑하게 만드는 방법? 손실함수를 줄이면 되겠지!"
   ]
  },
  {
   "cell_type": "markdown",
   "metadata": {},
   "source": [
    "최적의 w값을 찾아가는 방향을 알아내기 위해 기울기(gradient)를 구해야한다.  \n",
    "w에서 기울기를 구하고 양이면 값을 줄이고 음이면 값을 높여서 0에 맞추게 가야한다.  \n",
    "이러한 기울기의 변화로 매개변수 값을 구하는 것을 경사하강법이라고 합니다.\n",
    "\n",
    "* 미분 : 기울기를 계산함.\n",
    "* 수치미분 : 매우 작은 값에 대한 변화를 계산함(0에 근접하는 값)\n",
    "\n",
    "loss function의 기울기를 계산하는 함수를 만들어봅시다.  \n",
    "= loss function의 미분 값을 구하는 함수를 만들어봅시다."
   ]
  },
  {
   "cell_type": "code",
   "execution_count": 14,
   "metadata": {},
   "outputs": [],
   "source": [
    "def gradient_old(x, w, b, y):\n",
    "    dw = (loss(x, w + 0.0001, b, y) - loss(x, w, b, y)) / 0.0001\n",
    "    db = (loss(x, w, b + 0.0001, y) - loss(x, w, b, y)) / 0.0001\n",
    "    return dw, db\n",
    "\n",
    "# 좀더 명확한 값을 위해 중심 차분(중앙 차분) 구하기\n",
    "h = math.exp(-4)\n",
    "\n",
    "def gradient(x, w, b, y):\n",
    "    dw = (loss(x, w + h, b, y) - loss(x, w - h, b, y)) / (2 * h)\n",
    "    db = (loss(x, w, b + h, y) - loss(x, w, b - h, y)) / (2 * h)\n",
    "    return dw, db"
   ]
  },
  {
   "cell_type": "markdown",
   "metadata": {},
   "source": [
    "#### (5) 한 번에 못해도 괜찮아, 한 단계 한 단계 학습해나가면 되니까!"
   ]
  },
  {
   "cell_type": "markdown",
   "metadata": {},
   "source": [
    "이제 기울기와 손실함수를 구했으니 최적의 모델을 위한 w와 b를 찾아봅시다.  \n",
    "일단 경사하강법에 필요한 학습률 상수를 정의하고 시작하겠습니다."
   ]
  },
  {
   "cell_type": "code",
   "execution_count": 15,
   "metadata": {},
   "outputs": [],
   "source": [
    "LEARNING_RATE = 1"
   ]
  },
  {
   "cell_type": "markdown",
   "metadata": {},
   "source": [
    "##### 모델 최적화\n",
    "x, y 데이터를 준비하고 초기 가중치를 랜덤으로 잡은 뒤 손실함수 값을 저장할 리스트 losses[]  \n",
    "학습은 이제 이 행동을 반복합니다."
   ]
  },
  {
   "cell_type": "code",
   "execution_count": 16,
   "metadata": {},
   "outputs": [
    {
     "name": "stdout",
     "output_type": "stream",
     "text": [
      "3.1 2.3\n",
      "Iteration 100 : Loss 108.0080\n",
      "Iteration 200 : Loss 94.5709\n",
      "Iteration 300 : Loss 81.8561\n",
      "Iteration 400 : Loss 70.1800\n",
      "Iteration 500 : Loss 59.9779\n",
      "Iteration 600 : Loss 51.7476\n",
      "Iteration 700 : Loss 45.8357\n",
      "Iteration 800 : Loss 42.1475\n",
      "Iteration 900 : Loss 40.1358\n",
      "Iteration 1000 : Loss 39.1421\n",
      "Iteration 1100 : Loss 38.6793\n",
      "Iteration 1200 : Loss 38.4703\n",
      "Iteration 1300 : Loss 38.3772\n",
      "Iteration 1400 : Loss 38.3360\n",
      "Iteration 1500 : Loss 38.3179\n",
      "Iteration 1600 : Loss 38.3099\n",
      "Iteration 1700 : Loss 38.3064\n",
      "Iteration 1800 : Loss 38.3048\n",
      "Iteration 1900 : Loss 38.3041\n",
      "Iteration 2000 : Loss 38.3038\n"
     ]
    }
   ],
   "source": [
    "x = macbook[\"used_years\"].values\n",
    "y = macbook[\"price\"].values\n",
    "\n",
    "w = 3.1\n",
    "b = 2.3\n",
    "print(w,b)\n",
    "losses = []\n",
    "\n",
    "for i in range(1, 2001):\n",
    "    dw, db = gradient(x, w, b, y)   # 3, 4번: 모델이 prediction을 예측하고, 손실함수값을 계산함과 동시에 기울기 계산\n",
    "    w -= LEARNING_RATE * dw         # 5번: w = w - η * dw 로 업데이트\n",
    "    b -= LEARNING_RATE * db         # 5번: b = b - η * db 로 업데이트 \n",
    "    L = loss(x, w, b, y)            # 현재의 loss 값 계산\n",
    "    losses.append(L)                # loss 값 기록\n",
    "    if i % 100 == 0:\n",
    "        print('Iteration %d : Loss %0.4f' % (i, L))"
   ]
  },
  {
   "cell_type": "markdown",
   "metadata": {},
   "source": [
    "얻은 losses 배열을 그래프로 출력해보고 마지막 w,b 값을 출력해봅시다."
   ]
  },
  {
   "cell_type": "code",
   "execution_count": 17,
   "metadata": {},
   "outputs": [
    {
     "data": {
      "image/png": "[encoded data removed]",
      "text/plain": [
       "<Figure size 432x288 with 1 Axes>"
      ]
     },
     "metadata": {
      "image/png": {
       "height": 248,
       "width": 375
      },
      "needs_background": "light"
     },
     "output_type": "display_data"
    },
    {
     "name": "stdout",
     "output_type": "stream",
     "text": [
      "-44.92737553468688 293.08118989130287\n"
     ]
    }
   ],
   "source": [
    "plt.plot(losses)\n",
    "plt.show()\n",
    "print(w,b)"
   ]
  },
  {
   "cell_type": "markdown",
   "metadata": {},
   "source": [
    "이제 변화된 w와 b를 가지고 학습이 완료된 모델, 일차함수를 함께 그려보겠습니다."
   ]
  },
  {
   "cell_type": "code",
   "execution_count": 18,
   "metadata": {},
   "outputs": [
    {
     "data": {
      "image/png": "[encoded data removed]",
      "text/plain": [
       "<Figure size 432x288 with 1 Axes>"
      ]
     },
     "metadata": {
      "image/png": {
       "height": 248,
       "width": 375
      },
      "needs_background": "light"
     },
     "output_type": "display_data"
    }
   ],
   "source": [
    "# 모델에 넣을 x 값들 준비\n",
    "x = np.linspace(0, 5, 6)\n",
    "\n",
    "# x, w, b를 모델에 넣어 y값 출력\n",
    "y = model(x, w, b)\n",
    "\n",
    "# 일차함수 y 그리기\n",
    "plt.plot(y, c=\"r\")\n",
    "\n",
    "# 원본 데이터 점찍기\n",
    "plt.scatter(macbook['used_years'], macbook['price'])\n",
    "plt.show()"
   ]
  },
  {
   "cell_type": "markdown",
   "metadata": {},
   "source": [
    "이제 제대로 예측할 수 있는지 확인하기 위해 새로운 데이터를 가져와보겠습니다.  \n",
    "가져온 data를 새로운 test data에 넣습니다.  \n",
    "새롭게 예측한 값을 DataFrame에 넣습니다."
   ]
  },
  {
   "cell_type": "code",
   "execution_count": 19,
   "metadata": {},
   "outputs": [
    {
     "name": "stdout",
     "output_type": "stream",
     "text": [
      "(20, 2)\n",
      "   used_years  price\n",
      "0        1.20    203\n",
      "1        1.85    206\n",
      "2        2.40    191\n",
      "3        2.85    164\n",
      "4        3.05    176\n"
     ]
    },
    {
     "data": {
      "text/html": [
       "<div>\n",
       "<style scoped>\n",
       "    .dataframe tbody tr th:only-of-type {\n",
       "        vertical-align: middle;\n",
       "    }\n",
       "\n",
       "    .dataframe tbody tr th {\n",
       "        vertical-align: top;\n",
       "    }\n",
       "\n",
       "    .dataframe thead th {\n",
       "        text-align: right;\n",
       "    }\n",
       "</style>\n",
       "<table border=\"1\" class=\"dataframe\">\n",
       "  <thead>\n",
       "    <tr style=\"text-align: right;\">\n",
       "      <th></th>\n",
       "      <th>used_years</th>\n",
       "      <th>price</th>\n",
       "      <th>prediction</th>\n",
       "    </tr>\n",
       "  </thead>\n",
       "  <tbody>\n",
       "    <tr>\n",
       "      <th>0</th>\n",
       "      <td>1.20</td>\n",
       "      <td>203</td>\n",
       "      <td>239.168339</td>\n",
       "    </tr>\n",
       "    <tr>\n",
       "      <th>1</th>\n",
       "      <td>1.85</td>\n",
       "      <td>206</td>\n",
       "      <td>209.965545</td>\n",
       "    </tr>\n",
       "    <tr>\n",
       "      <th>2</th>\n",
       "      <td>2.40</td>\n",
       "      <td>191</td>\n",
       "      <td>185.255489</td>\n",
       "    </tr>\n",
       "    <tr>\n",
       "      <th>3</th>\n",
       "      <td>2.85</td>\n",
       "      <td>164</td>\n",
       "      <td>165.038170</td>\n",
       "    </tr>\n",
       "    <tr>\n",
       "      <th>4</th>\n",
       "      <td>3.05</td>\n",
       "      <td>176</td>\n",
       "      <td>156.052695</td>\n",
       "    </tr>\n",
       "    <tr>\n",
       "      <th>5</th>\n",
       "      <td>3.35</td>\n",
       "      <td>136</td>\n",
       "      <td>142.574482</td>\n",
       "    </tr>\n",
       "    <tr>\n",
       "      <th>6</th>\n",
       "      <td>2.55</td>\n",
       "      <td>133</td>\n",
       "      <td>178.516382</td>\n",
       "    </tr>\n",
       "    <tr>\n",
       "      <th>7</th>\n",
       "      <td>2.60</td>\n",
       "      <td>181</td>\n",
       "      <td>176.270014</td>\n",
       "    </tr>\n",
       "    <tr>\n",
       "      <th>8</th>\n",
       "      <td>2.50</td>\n",
       "      <td>181</td>\n",
       "      <td>180.762751</td>\n",
       "    </tr>\n",
       "    <tr>\n",
       "      <th>9</th>\n",
       "      <td>3.10</td>\n",
       "      <td>86</td>\n",
       "      <td>153.806326</td>\n",
       "    </tr>\n",
       "    <tr>\n",
       "      <th>10</th>\n",
       "      <td>2.70</td>\n",
       "      <td>171</td>\n",
       "      <td>171.777276</td>\n",
       "    </tr>\n",
       "    <tr>\n",
       "      <th>11</th>\n",
       "      <td>3.40</td>\n",
       "      <td>253</td>\n",
       "      <td>140.328113</td>\n",
       "    </tr>\n",
       "    <tr>\n",
       "      <th>12</th>\n",
       "      <td>1.30</td>\n",
       "      <td>263</td>\n",
       "      <td>234.675602</td>\n",
       "    </tr>\n",
       "    <tr>\n",
       "      <th>13</th>\n",
       "      <td>1.80</td>\n",
       "      <td>129</td>\n",
       "      <td>212.211914</td>\n",
       "    </tr>\n",
       "    <tr>\n",
       "      <th>14</th>\n",
       "      <td>3.10</td>\n",
       "      <td>135</td>\n",
       "      <td>153.806326</td>\n",
       "    </tr>\n",
       "    <tr>\n",
       "      <th>15</th>\n",
       "      <td>1.55</td>\n",
       "      <td>236</td>\n",
       "      <td>223.443758</td>\n",
       "    </tr>\n",
       "    <tr>\n",
       "      <th>16</th>\n",
       "      <td>1.80</td>\n",
       "      <td>206</td>\n",
       "      <td>212.211914</td>\n",
       "    </tr>\n",
       "    <tr>\n",
       "      <th>17</th>\n",
       "      <td>3.55</td>\n",
       "      <td>203</td>\n",
       "      <td>133.589007</td>\n",
       "    </tr>\n",
       "    <tr>\n",
       "      <th>18</th>\n",
       "      <td>3.40</td>\n",
       "      <td>96</td>\n",
       "      <td>140.328113</td>\n",
       "    </tr>\n",
       "    <tr>\n",
       "      <th>19</th>\n",
       "      <td>2.50</td>\n",
       "      <td>115</td>\n",
       "      <td>180.762751</td>\n",
       "    </tr>\n",
       "  </tbody>\n",
       "</table>\n",
       "</div>"
      ],
      "text/plain": [
       "    used_years  price  prediction\n",
       "0         1.20    203  239.168339\n",
       "1         1.85    206  209.965545\n",
       "2         2.40    191  185.255489\n",
       "3         2.85    164  165.038170\n",
       "4         3.05    176  156.052695\n",
       "5         3.35    136  142.574482\n",
       "6         2.55    133  178.516382\n",
       "7         2.60    181  176.270014\n",
       "8         2.50    181  180.762751\n",
       "9         3.10     86  153.806326\n",
       "10        2.70    171  171.777276\n",
       "11        3.40    253  140.328113\n",
       "12        1.30    263  234.675602\n",
       "13        1.80    129  212.211914\n",
       "14        3.10    135  153.806326\n",
       "15        1.55    236  223.443758\n",
       "16        1.80    206  212.211914\n",
       "17        3.55    203  133.589007\n",
       "18        3.40     96  140.328113\n",
       "19        2.50    115  180.762751"
      ]
     },
     "execution_count": 19,
     "metadata": {},
     "output_type": "execute_result"
    }
   ],
   "source": [
    "test = pd.read_csv(\"/home/aiffel/Code/Exploration Practice/2/data/macbook_test.csv\")\n",
    "print(test.shape)\n",
    "print(test.head())\n",
    "\n",
    "test_x = test['used_years'].values\n",
    "test_y = test['price'].values\n",
    "\n",
    "prediction = model(test_x, w, b)\n",
    "test['prediction'] = prediction\n",
    "test"
   ]
  },
  {
   "cell_type": "markdown",
   "metadata": {},
   "source": [
    "이제 Error를 직접 구해보고 RMSE도 구해보고  \n",
    "모델 일차함수와 실제값, 예측값을 나타내는 그래프를 그려보겠습니다."
   ]
  },
  {
   "cell_type": "code",
   "execution_count": 20,
   "metadata": {},
   "outputs": [
    {
     "name": "stdout",
     "output_type": "stream",
     "text": [
      "    used_years  price  prediction       error\n",
      "0         1.20    203  239.168339  -36.168339\n",
      "1         1.85    206  209.965545   -3.965545\n",
      "2         2.40    191  185.255489    5.744511\n",
      "3         2.85    164  165.038170   -1.038170\n",
      "4         3.05    176  156.052695   19.947305\n",
      "5         3.35    136  142.574482   -6.574482\n",
      "6         2.55    133  178.516382  -45.516382\n",
      "7         2.60    181  176.270014    4.729986\n",
      "8         2.50    181  180.762751    0.237249\n",
      "9         3.10     86  153.806326  -67.806326\n",
      "10        2.70    171  171.777276   -0.777276\n",
      "11        3.40    253  140.328113  112.671887\n",
      "12        1.30    263  234.675602   28.324398\n",
      "13        1.80    129  212.211914  -83.211914\n",
      "14        3.10    135  153.806326  -18.806326\n",
      "15        1.55    236  223.443758   12.556242\n",
      "16        1.80    206  212.211914   -6.211914\n",
      "17        3.55    203  133.589007   69.410993\n",
      "18        3.40     96  140.328113  -44.328113\n",
      "19        2.50    115  180.762751  -65.762751\n",
      "RMSE = 45.03916222164869\n"
     ]
    },
    {
     "data": {
      "image/png": "[encoded data removed]",
      "text/plain": [
       "<Figure size 432x288 with 1 Axes>"
      ]
     },
     "metadata": {
      "image/png": {
       "height": 248,
       "width": 375
      },
      "needs_background": "light"
     },
     "output_type": "display_data"
    }
   ],
   "source": [
    "test['error'] = test['price'] - test['prediction']\n",
    "print(test)\n",
    "\n",
    "rmse = ((test['error'] ** 2).sum() / len(test)) ** 0.5\n",
    "print('RMSE =', rmse)\n",
    "\n",
    "# 모델 일차함수 그리기\n",
    "x = np.linspace(0, 5, 6)\n",
    "y = model(x, w, b)\n",
    "plt.plot(y, c=\"r\")\n",
    "#y를 빨갛게 선긋기\n",
    "\n",
    "# 실제 데이터 값\n",
    "plt.scatter(test['used_years'], test['price'])\n",
    "\n",
    "# 모델이 예측한 값\n",
    "plt.scatter(test['used_years'], test['prediction'])\n",
    "plt.show()"
   ]
  },
  {
   "cell_type": "markdown",
   "metadata": {},
   "source": [
    "### 2. 이번엔 하나가 아니다! 다양한 정보로 원하는 값을 예측해 보기"
   ]
  },
  {
   "cell_type": "markdown",
   "metadata": {},
   "source": [
    "#### (1) 손님의 성별, 수, 전체 먹은 금액 등으로 내가 받을 팁을 예측할 수 있을까?"
   ]
  },
  {
   "cell_type": "markdown",
   "metadata": {},
   "source": [
    "seaborn을 이용해 시각화를 더 예쁘게 해봅시다.  \n",
    "seaborn에서 가져올 수 있는 dataset의 이름들입니다."
   ]
  },
  {
   "cell_type": "code",
   "execution_count": 21,
   "metadata": {},
   "outputs": [
    {
     "data": {
      "text/plain": [
       "['anagrams',\n",
       " 'anscombe',\n",
       " 'attention',\n",
       " 'brain_networks',\n",
       " 'car_crashes',\n",
       " 'diamonds',\n",
       " 'dots',\n",
       " 'exercise',\n",
       " 'flights',\n",
       " 'fmri',\n",
       " 'gammas',\n",
       " 'geyser',\n",
       " 'iris',\n",
       " 'mpg',\n",
       " 'penguins',\n",
       " 'planets',\n",
       " 'taxis',\n",
       " 'tips',\n",
       " 'titanic']"
      ]
     },
     "execution_count": 21,
     "metadata": {},
     "output_type": "execute_result"
    }
   ],
   "source": [
    "import seaborn as sns\n",
    "\n",
    "sns.get_dataset_names()"
   ]
  },
  {
   "cell_type": "markdown",
   "metadata": {},
   "source": [
    "많은 데이터들 중에서 tip을 가져와 봅시다."
   ]
  },
  {
   "cell_type": "code",
   "execution_count": 22,
   "metadata": {},
   "outputs": [
    {
     "name": "stdout",
     "output_type": "stream",
     "text": [
      "(244, 7)\n"
     ]
    },
    {
     "data": {
      "text/html": [
       "<div>\n",
       "<style scoped>\n",
       "    .dataframe tbody tr th:only-of-type {\n",
       "        vertical-align: middle;\n",
       "    }\n",
       "\n",
       "    .dataframe tbody tr th {\n",
       "        vertical-align: top;\n",
       "    }\n",
       "\n",
       "    .dataframe thead th {\n",
       "        text-align: right;\n",
       "    }\n",
       "</style>\n",
       "<table border=\"1\" class=\"dataframe\">\n",
       "  <thead>\n",
       "    <tr style=\"text-align: right;\">\n",
       "      <th></th>\n",
       "      <th>total_bill</th>\n",
       "      <th>tip</th>\n",
       "      <th>sex</th>\n",
       "      <th>smoker</th>\n",
       "      <th>day</th>\n",
       "      <th>time</th>\n",
       "      <th>size</th>\n",
       "    </tr>\n",
       "  </thead>\n",
       "  <tbody>\n",
       "    <tr>\n",
       "      <th>0</th>\n",
       "      <td>16.99</td>\n",
       "      <td>1.01</td>\n",
       "      <td>Female</td>\n",
       "      <td>No</td>\n",
       "      <td>Sun</td>\n",
       "      <td>Dinner</td>\n",
       "      <td>2</td>\n",
       "    </tr>\n",
       "    <tr>\n",
       "      <th>1</th>\n",
       "      <td>10.34</td>\n",
       "      <td>1.66</td>\n",
       "      <td>Male</td>\n",
       "      <td>No</td>\n",
       "      <td>Sun</td>\n",
       "      <td>Dinner</td>\n",
       "      <td>3</td>\n",
       "    </tr>\n",
       "    <tr>\n",
       "      <th>2</th>\n",
       "      <td>21.01</td>\n",
       "      <td>3.50</td>\n",
       "      <td>Male</td>\n",
       "      <td>No</td>\n",
       "      <td>Sun</td>\n",
       "      <td>Dinner</td>\n",
       "      <td>3</td>\n",
       "    </tr>\n",
       "    <tr>\n",
       "      <th>3</th>\n",
       "      <td>23.68</td>\n",
       "      <td>3.31</td>\n",
       "      <td>Male</td>\n",
       "      <td>No</td>\n",
       "      <td>Sun</td>\n",
       "      <td>Dinner</td>\n",
       "      <td>2</td>\n",
       "    </tr>\n",
       "    <tr>\n",
       "      <th>4</th>\n",
       "      <td>24.59</td>\n",
       "      <td>3.61</td>\n",
       "      <td>Female</td>\n",
       "      <td>No</td>\n",
       "      <td>Sun</td>\n",
       "      <td>Dinner</td>\n",
       "      <td>4</td>\n",
       "    </tr>\n",
       "  </tbody>\n",
       "</table>\n",
       "</div>"
      ],
      "text/plain": [
       "   total_bill   tip     sex smoker  day    time  size\n",
       "0       16.99  1.01  Female     No  Sun  Dinner     2\n",
       "1       10.34  1.66    Male     No  Sun  Dinner     3\n",
       "2       21.01  3.50    Male     No  Sun  Dinner     3\n",
       "3       23.68  3.31    Male     No  Sun  Dinner     2\n",
       "4       24.59  3.61  Female     No  Sun  Dinner     4"
      ]
     },
     "execution_count": 22,
     "metadata": {},
     "output_type": "execute_result"
    }
   ],
   "source": [
    "tips = sns.load_dataset(\"tips\")\n",
    "print(tips.shape)\n",
    "tips.head()"
   ]
  },
  {
   "cell_type": "markdown",
   "metadata": {},
   "source": [
    "244행과 7열으로 이루어져있습니다.  \n",
    "우리는 수식을 사용하기 때문에 문자열 데이터를 실수로 바꿔줘야 합니다.  \n",
    "이때 pandas의 get_dummies() 함수를 활용해 0,1로 반환해줍시다.  \n",
    "이는 카테고리형 데이터를 수식에 포함시켜줄 수 있는 방법입니다."
   ]
  },
  {
   "cell_type": "code",
   "execution_count": 23,
   "metadata": {},
   "outputs": [
    {
     "data": {
      "text/html": [
       "<div>\n",
       "<style scoped>\n",
       "    .dataframe tbody tr th:only-of-type {\n",
       "        vertical-align: middle;\n",
       "    }\n",
       "\n",
       "    .dataframe tbody tr th {\n",
       "        vertical-align: top;\n",
       "    }\n",
       "\n",
       "    .dataframe thead th {\n",
       "        text-align: right;\n",
       "    }\n",
       "</style>\n",
       "<table border=\"1\" class=\"dataframe\">\n",
       "  <thead>\n",
       "    <tr style=\"text-align: right;\">\n",
       "      <th></th>\n",
       "      <th>total_bill</th>\n",
       "      <th>tip</th>\n",
       "      <th>size</th>\n",
       "      <th>sex_Male</th>\n",
       "      <th>sex_Female</th>\n",
       "      <th>smoker_Yes</th>\n",
       "      <th>smoker_No</th>\n",
       "      <th>day_Thur</th>\n",
       "      <th>day_Fri</th>\n",
       "      <th>day_Sat</th>\n",
       "      <th>day_Sun</th>\n",
       "      <th>time_Lunch</th>\n",
       "      <th>time_Dinner</th>\n",
       "    </tr>\n",
       "  </thead>\n",
       "  <tbody>\n",
       "    <tr>\n",
       "      <th>0</th>\n",
       "      <td>16.99</td>\n",
       "      <td>1.01</td>\n",
       "      <td>2</td>\n",
       "      <td>0</td>\n",
       "      <td>1</td>\n",
       "      <td>0</td>\n",
       "      <td>1</td>\n",
       "      <td>0</td>\n",
       "      <td>0</td>\n",
       "      <td>0</td>\n",
       "      <td>1</td>\n",
       "      <td>0</td>\n",
       "      <td>1</td>\n",
       "    </tr>\n",
       "    <tr>\n",
       "      <th>1</th>\n",
       "      <td>10.34</td>\n",
       "      <td>1.66</td>\n",
       "      <td>3</td>\n",
       "      <td>1</td>\n",
       "      <td>0</td>\n",
       "      <td>0</td>\n",
       "      <td>1</td>\n",
       "      <td>0</td>\n",
       "      <td>0</td>\n",
       "      <td>0</td>\n",
       "      <td>1</td>\n",
       "      <td>0</td>\n",
       "      <td>1</td>\n",
       "    </tr>\n",
       "    <tr>\n",
       "      <th>2</th>\n",
       "      <td>21.01</td>\n",
       "      <td>3.50</td>\n",
       "      <td>3</td>\n",
       "      <td>1</td>\n",
       "      <td>0</td>\n",
       "      <td>0</td>\n",
       "      <td>1</td>\n",
       "      <td>0</td>\n",
       "      <td>0</td>\n",
       "      <td>0</td>\n",
       "      <td>1</td>\n",
       "      <td>0</td>\n",
       "      <td>1</td>\n",
       "    </tr>\n",
       "    <tr>\n",
       "      <th>3</th>\n",
       "      <td>23.68</td>\n",
       "      <td>3.31</td>\n",
       "      <td>2</td>\n",
       "      <td>1</td>\n",
       "      <td>0</td>\n",
       "      <td>0</td>\n",
       "      <td>1</td>\n",
       "      <td>0</td>\n",
       "      <td>0</td>\n",
       "      <td>0</td>\n",
       "      <td>1</td>\n",
       "      <td>0</td>\n",
       "      <td>1</td>\n",
       "    </tr>\n",
       "    <tr>\n",
       "      <th>4</th>\n",
       "      <td>24.59</td>\n",
       "      <td>3.61</td>\n",
       "      <td>4</td>\n",
       "      <td>0</td>\n",
       "      <td>1</td>\n",
       "      <td>0</td>\n",
       "      <td>1</td>\n",
       "      <td>0</td>\n",
       "      <td>0</td>\n",
       "      <td>0</td>\n",
       "      <td>1</td>\n",
       "      <td>0</td>\n",
       "      <td>1</td>\n",
       "    </tr>\n",
       "  </tbody>\n",
       "</table>\n",
       "</div>"
      ],
      "text/plain": [
       "   total_bill   tip  size  sex_Male  sex_Female  smoker_Yes  smoker_No  \\\n",
       "0       16.99  1.01     2         0           1           0          1   \n",
       "1       10.34  1.66     3         1           0           0          1   \n",
       "2       21.01  3.50     3         1           0           0          1   \n",
       "3       23.68  3.31     2         1           0           0          1   \n",
       "4       24.59  3.61     4         0           1           0          1   \n",
       "\n",
       "   day_Thur  day_Fri  day_Sat  day_Sun  time_Lunch  time_Dinner  \n",
       "0         0        0        0        1           0            1  \n",
       "1         0        0        0        1           0            1  \n",
       "2         0        0        0        1           0            1  \n",
       "3         0        0        0        1           0            1  \n",
       "4         0        0        0        1           0            1  "
      ]
     },
     "execution_count": 23,
     "metadata": {},
     "output_type": "execute_result"
    }
   ],
   "source": [
    "import pandas as pd\n",
    "tips = pd.get_dummies(tips, columns=['sex', 'smoker', 'day', 'time'])\n",
    "tips.head()"
   ]
  },
  {
   "cell_type": "markdown",
   "metadata": {},
   "source": [
    "sex는 sex_Male, sex_Female로 smoker는 smoker_Yes와 smoker_No로 day는 4개의 요일로, time도 2개로 나눠졌습니다.  \n",
    "이렇게 데이터를 변환하는 방식을 원-핫 인코딩(One Hot Encoding)이라고 합니다.  \n",
    "이제 columns의 순서를 목적에 맞게 바꿔봅시다.(tips를 맨뒤로)"
   ]
  },
  {
   "cell_type": "code",
   "execution_count": 24,
   "metadata": {},
   "outputs": [
    {
     "data": {
      "text/html": [
       "<div>\n",
       "<style scoped>\n",
       "    .dataframe tbody tr th:only-of-type {\n",
       "        vertical-align: middle;\n",
       "    }\n",
       "\n",
       "    .dataframe tbody tr th {\n",
       "        vertical-align: top;\n",
       "    }\n",
       "\n",
       "    .dataframe thead th {\n",
       "        text-align: right;\n",
       "    }\n",
       "</style>\n",
       "<table border=\"1\" class=\"dataframe\">\n",
       "  <thead>\n",
       "    <tr style=\"text-align: right;\">\n",
       "      <th></th>\n",
       "      <th>total_bill</th>\n",
       "      <th>size</th>\n",
       "      <th>sex_Male</th>\n",
       "      <th>sex_Female</th>\n",
       "      <th>smoker_Yes</th>\n",
       "      <th>smoker_No</th>\n",
       "      <th>day_Thur</th>\n",
       "      <th>day_Fri</th>\n",
       "      <th>day_Sat</th>\n",
       "      <th>day_Sun</th>\n",
       "      <th>time_Lunch</th>\n",
       "      <th>time_Dinner</th>\n",
       "      <th>tip</th>\n",
       "    </tr>\n",
       "  </thead>\n",
       "  <tbody>\n",
       "    <tr>\n",
       "      <th>0</th>\n",
       "      <td>16.99</td>\n",
       "      <td>2</td>\n",
       "      <td>0</td>\n",
       "      <td>1</td>\n",
       "      <td>0</td>\n",
       "      <td>1</td>\n",
       "      <td>0</td>\n",
       "      <td>0</td>\n",
       "      <td>0</td>\n",
       "      <td>1</td>\n",
       "      <td>0</td>\n",
       "      <td>1</td>\n",
       "      <td>1.01</td>\n",
       "    </tr>\n",
       "    <tr>\n",
       "      <th>1</th>\n",
       "      <td>10.34</td>\n",
       "      <td>3</td>\n",
       "      <td>1</td>\n",
       "      <td>0</td>\n",
       "      <td>0</td>\n",
       "      <td>1</td>\n",
       "      <td>0</td>\n",
       "      <td>0</td>\n",
       "      <td>0</td>\n",
       "      <td>1</td>\n",
       "      <td>0</td>\n",
       "      <td>1</td>\n",
       "      <td>1.66</td>\n",
       "    </tr>\n",
       "    <tr>\n",
       "      <th>2</th>\n",
       "      <td>21.01</td>\n",
       "      <td>3</td>\n",
       "      <td>1</td>\n",
       "      <td>0</td>\n",
       "      <td>0</td>\n",
       "      <td>1</td>\n",
       "      <td>0</td>\n",
       "      <td>0</td>\n",
       "      <td>0</td>\n",
       "      <td>1</td>\n",
       "      <td>0</td>\n",
       "      <td>1</td>\n",
       "      <td>3.50</td>\n",
       "    </tr>\n",
       "    <tr>\n",
       "      <th>3</th>\n",
       "      <td>23.68</td>\n",
       "      <td>2</td>\n",
       "      <td>1</td>\n",
       "      <td>0</td>\n",
       "      <td>0</td>\n",
       "      <td>1</td>\n",
       "      <td>0</td>\n",
       "      <td>0</td>\n",
       "      <td>0</td>\n",
       "      <td>1</td>\n",
       "      <td>0</td>\n",
       "      <td>1</td>\n",
       "      <td>3.31</td>\n",
       "    </tr>\n",
       "    <tr>\n",
       "      <th>4</th>\n",
       "      <td>24.59</td>\n",
       "      <td>4</td>\n",
       "      <td>0</td>\n",
       "      <td>1</td>\n",
       "      <td>0</td>\n",
       "      <td>1</td>\n",
       "      <td>0</td>\n",
       "      <td>0</td>\n",
       "      <td>0</td>\n",
       "      <td>1</td>\n",
       "      <td>0</td>\n",
       "      <td>1</td>\n",
       "      <td>3.61</td>\n",
       "    </tr>\n",
       "  </tbody>\n",
       "</table>\n",
       "</div>"
      ],
      "text/plain": [
       "   total_bill  size  sex_Male  sex_Female  smoker_Yes  smoker_No  day_Thur  \\\n",
       "0       16.99     2         0           1           0          1         0   \n",
       "1       10.34     3         1           0           0          1         0   \n",
       "2       21.01     3         1           0           0          1         0   \n",
       "3       23.68     2         1           0           0          1         0   \n",
       "4       24.59     4         0           1           0          1         0   \n",
       "\n",
       "   day_Fri  day_Sat  day_Sun  time_Lunch  time_Dinner   tip  \n",
       "0        0        0        1           0            1  1.01  \n",
       "1        0        0        1           0            1  1.66  \n",
       "2        0        0        1           0            1  3.50  \n",
       "3        0        0        1           0            1  3.31  \n",
       "4        0        0        1           0            1  3.61  "
      ]
     },
     "execution_count": 24,
     "metadata": {},
     "output_type": "execute_result"
    }
   ],
   "source": [
    "tips = tips[['total_bill', 'size', 'sex_Male', 'sex_Female', 'smoker_Yes', 'smoker_No',\n",
    "             'day_Thur', 'day_Fri', 'day_Sat', 'day_Sun', 'time_Lunch', 'time_Dinner', 'tip']]\n",
    "tips.head()"
   ]
  },
  {
   "cell_type": "markdown",
   "metadata": {},
   "source": [
    "y = w<sub>1</sub>x<sub>1</sub> + w<sub>2</sub>x<sub>2</sub> + w<sub>3</sub>x<sub>3</sub> + ... + w<sub>11</sub>x<sub>11</sub> + w<sub>12</sub>x<sub>12</sub> + b 식으로 표현된다.  \n",
    "다만 표기법에 따라 b를 w<sub>0</sub>로 표기하고 x를 대신 x<sub>0</sub> = 1 로 나타내기도 한다.  \n",
    "y = w<sub>0</sub> * 1 + w<sub>1</sub>x<sub>1</sub> + w<sub>2</sub>x<sub>2</sub> + w<sub>3</sub>x<sub>3</sub> + ... + w<sub>11</sub>x<sub>11</sub> + w<sub>12</sub>x<sub>12</sub>"
   ]
  },
  {
   "cell_type": "markdown",
   "metadata": {},
   "source": [
    "#### (2) 다시 한 번 직접 설계해 보는 손실함수"
   ]
  },
  {
   "cell_type": "markdown",
   "metadata": {},
   "source": [
    "x,y를 12개의 값을 가지는 벡터로 해서 대문자 X로 쓰고, y 값은 value값을 가져옵시다.  "
   ]
  },
  {
   "cell_type": "code",
   "execution_count": 25,
   "metadata": {},
   "outputs": [],
   "source": [
    "X = tips[['total_bill', 'size', 'sex_Male', 'sex_Female', 'smoker_Yes', 'smoker_No',\n",
    "          'day_Thur', 'day_Fri', 'day_Sat', 'day_Sun', 'time_Lunch', 'time_Dinner']].values\n",
    "y = tips['tip'].values"
   ]
  },
  {
   "cell_type": "markdown",
   "metadata": {},
   "source": [
    "test와 train을 나누기 위해 sklearn의 train_test_split 함수를 가져옵니다.  \n",
    "20%를 test로 random_state를 42로 합니다."
   ]
  },
  {
   "cell_type": "code",
   "execution_count": 26,
   "metadata": {},
   "outputs": [
    {
     "name": "stdout",
     "output_type": "stream",
     "text": [
      "(195, 12) (195,)\n",
      "(49, 12) (49,)\n"
     ]
    }
   ],
   "source": [
    "from sklearn.model_selection import train_test_split\n",
    "\n",
    "X_train, X_test, y_train, y_test = train_test_split(X, y, test_size=0.2, random_state=42)\n",
    "\n",
    "print(X_train.shape, y_train.shape)\n",
    "print(X_test.shape, y_test.shape)"
   ]
  },
  {
   "cell_type": "markdown",
   "metadata": {},
   "source": [
    "길이가 12개인 W와 1개인 b를 초기 랜덤값으로 해서 구합니다."
   ]
  },
  {
   "cell_type": "code",
   "execution_count": 27,
   "metadata": {},
   "outputs": [
    {
     "name": "stdout",
     "output_type": "stream",
     "text": [
      "[0.2859326  0.09328416 0.3769203  0.93384105 0.99226366 0.49810097\n",
      " 0.59481068 0.16206125 0.83660043 0.45028215 0.87476945 0.87119721]\n",
      "0.1092530775186169\n"
     ]
    }
   ],
   "source": [
    "W = np.random.rand(12)\n",
    "b = np.random.rand()\n",
    "print(W,b,sep = \"\\n\")"
   ]
  },
  {
   "cell_type": "code",
   "execution_count": 28,
   "metadata": {},
   "outputs": [],
   "source": [
    "def model2(X, W, b):\n",
    "    predictions = 0\n",
    "    for i in range(12): # W가 12개 이므로 12번 반복\n",
    "        predictions += X[:, i] * W[i]\n",
    "    predictions += b\n",
    "    return predictions"
   ]
  },
  {
   "cell_type": "markdown",
   "metadata": {},
   "source": [
    "이번에는 MSE를 사용해봅시다."
   ]
  },
  {
   "cell_type": "code",
   "execution_count": 29,
   "metadata": {},
   "outputs": [],
   "source": [
    "def loss2(X, W, b, y):\n",
    "    predictions = model2(X, W, b)\n",
    "    L = MSE(predictions, y)\n",
    "    return L"
   ]
  },
  {
   "cell_type": "markdown",
   "metadata": {},
   "source": [
    "#### (3) 앞으로는 절대 해 볼 일 없을, 직접 그래디언트 계산하기"
   ]
  },
  {
   "cell_type": "markdown",
   "metadata": {},
   "source": [
    "자 기울기값을 구하기 위한 식을 생각해 봅시다.  \n",
    "먼저 손실 함수인 Loss를 봅시다. MSE를 사용합니다.  \n",
    "Loss = MSE = (1/N) * sigma(N,i=1){ (y_true - y_pred) ** 2}  \n",
    "= dL/dw<sub>i</sub> = d{((1/N) * sigma(N,i=1){ (y_true - y_pred) ** 2})}/dw<sub>i</sub>  \n",
    "= (1/N) * (sigma(N,i=1) d{{ (y_true - y_pred) ** 2})}  \n",
    "해당식을 쉽게 이해하기 위해서 (x-a)<sup>2</sup>를 먼저 미분합니다.\n",
    "(x-a)<sup>2</sup>를 x에 대해 미분하게 되면 2(x - a)가 되는데 이는  \n",
    "2 * (x - a) * d(x-a)/dx 입니다. 그리고 뒷 부분의 d(x-a)/dx는 1이 되므로 2(x-a)가 됩니다.  \n",
    "이를 위에 대입해보면 (y_pred가 변수를 가집니다, y_true가 상수이고요)\n",
    "= (1/N) * (sigma(N,i=1) 2 * (y_pred - y_true) * d(y_pred - y_true) / d(w<sub>i</sub>) 입니다.  \n",
    "여기서 y_pred 는 w<sub>1</sub>x<sub>1</sub> + w<sub>2</sub>x<sub>2</sub> + w<sub>3</sub>x<sub>3</sub> + ... + w<sub>11</sub>x<sub>11</sub> + w<sub>12</sub>x<sub>12</sub> + b 이므로 그냥 각각의 w<sub>i</sub> 에 대해 미분하게 되면 x<sub>i</sub>이 나옵니다.  \n",
    "그럼 식은  \n",
    "= (1/N) * (sigma(N,i=1) 2 * (y_pred - y_true) * x<sub>i</sub> 이 나오고  \n",
    "각 i 별로 보면 2/N * (y_pred - y_true) * x<sub>i</sub> 입니다.\n",
    "그럼 위식에 맞게 W 벡터에 값을 곱해줍니다."
   ]
  },
  {
   "cell_type": "markdown",
   "metadata": {},
   "source": [
    "편미분을 활용하기 위한 함수를 만듭니다."
   ]
  },
  {
   "cell_type": "code",
   "execution_count": 30,
   "metadata": {},
   "outputs": [
    {
     "name": "stdout",
     "output_type": "stream",
     "text": [
      "(244, 12) (244,)\n",
      "dW: [5218.35491245  634.13914233  150.11746381   83.49525767   97.70743414\n",
      "  135.90528734   55.69721986   15.95565659   89.84844172   72.11140331\n",
      "   59.71619434  173.89652715]\n",
      "db: 11.489150236887994\n"
     ]
    }
   ],
   "source": [
    "print(X.shape, y.shape)\n",
    "\n",
    "def gradient2(X, W, b, y):\n",
    "    # N은 가중치의 개수\n",
    "    N = len(W)\n",
    "    \n",
    "    # y_pred 준비\n",
    "    y_pred = model2(X, W, b)\n",
    "    \n",
    "    # 공식에 맞게 gradient 계산 = 2 * xi * (y_pred - y) * 1/N\n",
    "    # X = (num,12), y = (num,) 이므로 행렬 곱 X*y는 안되고 우리가 원하는건 12, 이므로 X를 전치해서 X.T = (12,num) 한뒤 y를 곱한다\n",
    "    # X.T = (12, num), y = (num,) -> (12, num) * (num,) = (12,)\n",
    "    dW = 1/N * 2 * X.T.dot(y_pred - y)\n",
    "        \n",
    "    # b의 gradient 계산\n",
    "    db = 2 * (y_pred - y).mean()\n",
    "    return dW, db\n",
    "\n",
    "dW, db = gradient2(X, W, b, y)\n",
    "print(\"dW:\", dW)\n",
    "print(\"db:\", db)"
   ]
  },
  {
   "cell_type": "markdown",
   "metadata": {},
   "source": [
    "#### (4) 모두 준비 되었다면, 모델 학습은 간단하다구!"
   ]
  },
  {
   "cell_type": "markdown",
   "metadata": {},
   "source": [
    "앞에 해본대로 모델 학습을 해봅시다."
   ]
  },
  {
   "cell_type": "code",
   "execution_count": 31,
   "metadata": {},
   "outputs": [
    {
     "name": "stdout",
     "output_type": "stream",
     "text": [
      "Iteration 10 : Loss 1.9920\n",
      "Iteration 20 : Loss 1.9701\n",
      "Iteration 30 : Loss 1.9505\n",
      "Iteration 40 : Loss 1.9315\n",
      "Iteration 50 : Loss 1.9131\n",
      "Iteration 60 : Loss 1.8954\n",
      "Iteration 70 : Loss 1.8782\n",
      "Iteration 80 : Loss 1.8616\n",
      "Iteration 90 : Loss 1.8455\n",
      "Iteration 100 : Loss 1.8300\n",
      "Iteration 110 : Loss 1.8149\n",
      "Iteration 120 : Loss 1.8002\n",
      "Iteration 130 : Loss 1.7860\n",
      "Iteration 140 : Loss 1.7722\n",
      "Iteration 150 : Loss 1.7589\n",
      "Iteration 160 : Loss 1.7459\n",
      "Iteration 170 : Loss 1.7333\n",
      "Iteration 180 : Loss 1.7210\n",
      "Iteration 190 : Loss 1.7091\n",
      "Iteration 200 : Loss 1.6976\n",
      "Iteration 210 : Loss 1.6863\n",
      "Iteration 220 : Loss 1.6753\n",
      "Iteration 230 : Loss 1.6647\n",
      "Iteration 240 : Loss 1.6543\n",
      "Iteration 250 : Loss 1.6442\n",
      "Iteration 260 : Loss 1.6343\n",
      "Iteration 270 : Loss 1.6248\n",
      "Iteration 280 : Loss 1.6154\n",
      "Iteration 290 : Loss 1.6063\n",
      "Iteration 300 : Loss 1.5974\n",
      "Iteration 310 : Loss 1.5887\n",
      "Iteration 320 : Loss 1.5803\n",
      "Iteration 330 : Loss 1.5720\n",
      "Iteration 340 : Loss 1.5640\n",
      "Iteration 350 : Loss 1.5561\n",
      "Iteration 360 : Loss 1.5484\n",
      "Iteration 370 : Loss 1.5409\n",
      "Iteration 380 : Loss 1.5336\n",
      "Iteration 390 : Loss 1.5264\n",
      "Iteration 400 : Loss 1.5194\n",
      "Iteration 410 : Loss 1.5126\n",
      "Iteration 420 : Loss 1.5059\n",
      "Iteration 430 : Loss 1.4994\n",
      "Iteration 440 : Loss 1.4930\n",
      "Iteration 450 : Loss 1.4867\n",
      "Iteration 460 : Loss 1.4806\n",
      "Iteration 470 : Loss 1.4746\n",
      "Iteration 480 : Loss 1.4687\n",
      "Iteration 490 : Loss 1.4630\n",
      "Iteration 500 : Loss 1.4573\n",
      "Iteration 510 : Loss 1.4518\n",
      "Iteration 520 : Loss 1.4464\n",
      "Iteration 530 : Loss 1.4411\n",
      "Iteration 540 : Loss 1.4360\n",
      "Iteration 550 : Loss 1.4309\n",
      "Iteration 560 : Loss 1.4259\n",
      "Iteration 570 : Loss 1.4211\n",
      "Iteration 580 : Loss 1.4163\n",
      "Iteration 590 : Loss 1.4116\n",
      "Iteration 600 : Loss 1.4070\n",
      "Iteration 610 : Loss 1.4025\n",
      "Iteration 620 : Loss 1.3981\n",
      "Iteration 630 : Loss 1.3937\n",
      "Iteration 640 : Loss 1.3895\n",
      "Iteration 650 : Loss 1.3853\n",
      "Iteration 660 : Loss 1.3812\n",
      "Iteration 670 : Loss 1.3772\n",
      "Iteration 680 : Loss 1.3733\n",
      "Iteration 690 : Loss 1.3694\n",
      "Iteration 700 : Loss 1.3656\n",
      "Iteration 710 : Loss 1.3619\n",
      "Iteration 720 : Loss 1.3582\n",
      "Iteration 730 : Loss 1.3546\n",
      "Iteration 740 : Loss 1.3511\n",
      "Iteration 750 : Loss 1.3476\n",
      "Iteration 760 : Loss 1.3442\n",
      "Iteration 770 : Loss 1.3409\n",
      "Iteration 780 : Loss 1.3376\n",
      "Iteration 790 : Loss 1.3343\n",
      "Iteration 800 : Loss 1.3312\n",
      "Iteration 810 : Loss 1.3280\n",
      "Iteration 820 : Loss 1.3250\n",
      "Iteration 830 : Loss 1.3220\n",
      "Iteration 840 : Loss 1.3190\n",
      "Iteration 850 : Loss 1.3161\n",
      "Iteration 860 : Loss 1.3132\n",
      "Iteration 870 : Loss 1.3104\n",
      "Iteration 880 : Loss 1.3076\n",
      "Iteration 890 : Loss 1.3049\n",
      "Iteration 900 : Loss 1.3022\n",
      "Iteration 910 : Loss 1.2996\n",
      "Iteration 920 : Loss 1.2970\n",
      "Iteration 930 : Loss 1.2944\n",
      "Iteration 940 : Loss 1.2919\n",
      "Iteration 950 : Loss 1.2895\n",
      "Iteration 960 : Loss 1.2870\n",
      "Iteration 970 : Loss 1.2846\n",
      "Iteration 980 : Loss 1.2823\n",
      "Iteration 990 : Loss 1.2800\n",
      "Iteration 1000 : Loss 1.2777\n"
     ]
    }
   ],
   "source": [
    "LEARNING_RATE2 = 0.0001\n",
    "\n",
    "losses2 = []\n",
    "\n",
    "for i in range(1, 1001):\n",
    "    dW, db = gradient2(X_train, W, b, y_train)\n",
    "    W -= LEARNING_RATE2 * dW\n",
    "    b -= LEARNING_RATE2 * db\n",
    "    L = loss2(X_train, W, b, y_train)\n",
    "    losses2.append(L)\n",
    "    if i % 10 == 0:\n",
    "        print('Iteration %d : Loss %0.4f' % (i, L))"
   ]
  },
  {
   "cell_type": "code",
   "execution_count": 32,
   "metadata": {},
   "outputs": [
    {
     "data": {
      "image/png": "[encoded data removed]",
      "text/plain": [
       "<Figure size 432x288 with 1 Axes>"
      ]
     },
     "metadata": {
      "image/png": {
       "height": 248,
       "width": 375
      },
      "needs_background": "light"
     },
     "output_type": "display_data"
    }
   ],
   "source": [
    "import matplotlib.pyplot as plt\n",
    "plt.plot(losses)\n",
    "plt.show()"
   ]
  },
  {
   "cell_type": "code",
   "execution_count": 33,
   "metadata": {},
   "outputs": [
    {
     "name": "stdout",
     "output_type": "stream",
     "text": [
      "[ 0.07941008 -0.06971489  0.28154724  0.40807672  0.45720657  0.41202068\n",
      "  0.35747102  0.12463924  0.41538582  0.52512103  0.60266838  0.5221609 ] 0.07102923819050112\n"
     ]
    }
   ],
   "source": [
    "print(W,b)"
   ]
  },
  {
   "cell_type": "code",
   "execution_count": 34,
   "metadata": {},
   "outputs": [
    {
     "data": {
      "text/plain": [
       "0.6962559123324278"
      ]
     },
     "execution_count": 34,
     "metadata": {},
     "output_type": "execute_result"
    }
   ],
   "source": [
    "prediction = model2(X_test, W, b)\n",
    "mse = loss2(X_test, W, b, y_test)\n",
    "mse"
   ]
  },
  {
   "cell_type": "code",
   "execution_count": 35,
   "metadata": {},
   "outputs": [
    {
     "data": {
      "image/png": "[encoded data removed]",
      "text/plain": [
       "<Figure size 432x288 with 1 Axes>"
      ]
     },
     "metadata": {
      "image/png": {
       "height": 248,
       "width": 366
      },
      "needs_background": "light"
     },
     "output_type": "display_data"
    }
   ],
   "source": [
    "plt.scatter(X_test[:, 0], y_test)\n",
    "plt.scatter(X_test[:, 0], prediction)\n",
    "plt.show()"
   ]
  },
  {
   "cell_type": "markdown",
   "metadata": {},
   "source": [
    "#### (5) 지금까지 한 모든 과정을, 라이브러리로 깔끔하게"
   ]
  },
  {
   "cell_type": "markdown",
   "metadata": {},
   "source": [
    "이제 sklearn 라이브러리를 통해 간편하게 구해봅시다.  \n",
    "먼저 데이터를 준비합니다."
   ]
  },
  {
   "cell_type": "code",
   "execution_count": 36,
   "metadata": {},
   "outputs": [],
   "source": [
    "tips = sns.load_dataset(\"tips\")\n",
    "tips = pd.get_dummies(tips, columns=['sex', 'smoker', 'day', 'time'])\n",
    "tips = tips[['total_bill', 'size', 'sex_Male', 'sex_Female', 'smoker_Yes', 'smoker_No',\n",
    "             'day_Thur', 'day_Fri', 'day_Sat', 'day_Sun', 'time_Lunch', 'time_Dinner', 'tip']]"
   ]
  },
  {
   "cell_type": "markdown",
   "metadata": {},
   "source": [
    "* X,y도 준비합니다.(X3, y3)\n",
    "* train, test도 나눕니다.\n",
    "* sklearn.linear_model 안에 LinearRegression을 사용합니다.\n",
    "    - fit\n",
    "    - predict test\n",
    "    - 출력"
   ]
  },
  {
   "cell_type": "code",
   "execution_count": 37,
   "metadata": {},
   "outputs": [
    {
     "name": "stdout",
     "output_type": "stream",
     "text": [
      "[2.91436632 2.00292613 3.96425583 3.76380832 2.14836306 2.67423448\n",
      " 3.63934628 2.29147245 2.57207155 2.45851225 2.90446763 2.0573337\n",
      " 2.11817193 2.35130838 1.82976215 3.10830675 2.95140176 3.21602976\n",
      " 2.56640892 5.73957295 3.43490366 3.22645102 2.17139823 1.94180002\n",
      " 3.16394533 2.24547894 2.14497574 3.21025435 3.20097595 6.66803147\n",
      " 5.01111235 1.57804024 3.1909877  2.76652194 2.98412862 3.85695724\n",
      " 2.17008741 5.46673999 2.35586827 2.99190732 2.03271177 2.48465991\n",
      " 3.44046814 2.35532237 1.92528104 0.87348926 1.81911521 3.04083954\n",
      " 1.85436902]\n"
     ]
    }
   ],
   "source": [
    "X3 = tips[['total_bill', 'size', 'sex_Male', 'sex_Female', 'smoker_Yes', 'smoker_No',\n",
    "          'day_Thur', 'day_Fri', 'day_Sat', 'day_Sun', 'time_Lunch', 'time_Dinner']].values\n",
    "y3 = tips['tip'].values\n",
    "\n",
    "X3_train, X3_test, y3_train, y3_test = train_test_split(X3, y3, test_size=0.2, random_state=42)\n",
    "\n",
    "from sklearn.linear_model import LinearRegression\n",
    "\n",
    "model3 = LinearRegression()\n",
    "model3.fit(X3_train, y3_train)\n",
    "\n",
    "predictions3 = model3.predict(X3_test)\n",
    "print(predictions3)"
   ]
  },
  {
   "cell_type": "markdown",
   "metadata": {},
   "source": [
    "성능 평가를 해봅시다. 성능 방법은 MSE를 사용할건데 이는 sklearn.metrics의 mean_squared_error에 들어있습니다.  \n",
    "MSE를 구한뒤 시각화를 합니다."
   ]
  },
  {
   "cell_type": "code",
   "execution_count": 42,
   "metadata": {},
   "outputs": [
    {
     "name": "stdout",
     "output_type": "stream",
     "text": [
      "0.7033566017436105\n",
      "<class 'numpy.ndarray'>\n",
      "<class 'tuple'>\n"
     ]
    },
    {
     "data": {
      "image/png": "[encoded data removed]",
      "text/plain": [
       "<Figure size 432x288 with 1 Axes>"
      ]
     },
     "metadata": {
      "image/png": {
       "height": 248,
       "width": 366
      },
      "needs_background": "light"
     },
     "output_type": "display_data"
    }
   ],
   "source": [
    "from sklearn.metrics import mean_squared_error\n",
    "\n",
    "mse3 = mean_squared_error(y3_test, predictions3)\n",
    "print(mse3)\n",
    "\n",
    "print(type(X3_test))\n",
    "print(type(y3_test.shape))\n",
    "plt.scatter(X3_test[:, 0], y3_test, label=\"true\")\n",
    "plt.scatter(X3_test[:, 0], predictions3, label=\"pred\")\n",
    "plt.legend()\n",
    "plt.show()"
   ]
  }
 ],
 "metadata": {
  "kernelspec": {
   "display_name": "Python 3.10.4 64-bit",
   "language": "python",
   "name": "python3"
  },
  "language_info": {
   "codemirror_mode": {
    "name": "ipython",
    "version": 3
   },
   "file_extension": ".py",
   "mimetype": "text/x-python",
   "name": "python",
   "nbconvert_exporter": "python",
   "pygments_lexer": "ipython3",
   "version": "3.10.4"
  },
  "orig_nbformat": 4,
  "vscode": {
   "interpreter": {
    "hash": "916dbcbb3f70747c44a77c7bcd40155683ae19c65e1c03b4aa3499c5328201f1"
   }
  }
 },
 "nbformat": 4,
 "nbformat_minor": 2
}
