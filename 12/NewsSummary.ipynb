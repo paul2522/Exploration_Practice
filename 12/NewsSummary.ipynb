{
 "cells": [
  {
   "cell_type": "markdown",
   "metadata": {},
   "source": [
    "# News Summary"
   ]
  },
  {
   "cell_type": "markdown",
   "metadata": {},
   "source": [
    "## 학습 목표"
   ]
  },
  {
   "cell_type": "markdown",
   "metadata": {},
   "source": [
    "* Extractive/Abstractive summarization 이해하기\n",
    "* 단어장 크기를 줄이는 다양한 text normalization 적용해보기\n",
    "* seq2seq의 성능을 Up시키는 Attention Mechanism 적용하기"
   ]
  },
  {
   "cell_type": "markdown",
   "metadata": {},
   "source": [
    "## Text Summarization"
   ]
  },
  {
   "cell_type": "markdown",
   "metadata": {},
   "source": [
    "### 추출적 요약"
   ]
  },
  {
   "cell_type": "markdown",
   "metadata": {},
   "source": [
    "* 문장들을 추출해서 요약하는 방식\n",
    "* 문장 분류(Text Classification)\n",
    "* TextRank 알고리즘"
   ]
  },
  {
   "cell_type": "markdown",
   "metadata": {},
   "source": [
    "### 추상적 요약"
   ]
  },
  {
   "cell_type": "markdown",
   "metadata": {},
   "source": [
    "* 내용이 요약된 새로운 문장을 생성\n",
    "* 자연어 생성(Natural Language Generation, NLG)\n",
    "* RNN으로 가능할거 같지만 장기의존성(long term dependencies : vanishing gradient + exploding gradient) 문제가 발생한다."
   ]
  },
  {
   "cell_type": "markdown",
   "metadata": {},
   "source": [
    "## Train text summarization"
   ]
  },
  {
   "cell_type": "markdown",
   "metadata": {},
   "source": [
    "### seq2seq"
   ]
  },
  {
   "cell_type": "markdown",
   "metadata": {},
   "source": [
    "<img src = 'img/seq2seq.png'>"
   ]
  },
  {
   "cell_type": "markdown",
   "metadata": {},
   "source": [
    "* 첫 번째 RNN인 Encoder로 입력하면 인코더는 이를 하나의 고정된 벡터로 변환.\n",
    "* 해당 벡터를 문맥 정보를 가지고 있는 컨텍스트 벡터(context vector)라고 합니다.\n",
    "* 두 번째 RNN인 Decoder는 이 컨텍스트 벡터를 받아 한 단어씩 생성해내서 요약 문장을 완성"
   ]
  },
  {
   "cell_type": "markdown",
   "metadata": {},
   "source": [
    "### LSTM 사용"
   ]
  },
  {
   "cell_type": "markdown",
   "metadata": {},
   "source": [
    "<img src = 'img/LSTM.png' height = '50%' width = '50%'>"
   ]
  },
  {
   "cell_type": "markdown",
   "metadata": {},
   "source": [
    "* Encoder 와 Decoder 둘 다 LSTM 사용\n",
    "* 다음 time step 셀에 hidden state 뿐 아니라 cell state도 함께 전달\n",
    "* Encoder 가 Decoder 에게 전달하는 컨텍스트 벡터 또한 hidden state h 와 cell state c 2개의 값 모두 존재"
   ]
  },
  {
   "cell_type": "markdown",
   "metadata": {},
   "source": [
    "### 시작과 종료 토큰"
   ]
  },
  {
   "cell_type": "markdown",
   "metadata": {},
   "source": [
    "<img src = 'img/Token.png' height = '50%' width = '50%'>"
   ]
  },
  {
   "cell_type": "markdown",
   "metadata": {},
   "source": [
    "* Decoder에서는 시작 토큰 SOS가 입력되면 단어를 계속 생성하고 EOS를 예측하는 순간까지 멈추지 않는다.\n",
    "* 이러한 토큰 전처리를 통해 어디서 멈춰야 하는지 알려줘야 한다."
   ]
  },
  {
   "cell_type": "markdown",
   "metadata": {},
   "source": [
    "### Attension mechanism"
   ]
  },
  {
   "cell_type": "markdown",
   "metadata": {},
   "source": [
    "<img src = 'img/Attention.png' height = '50%' width = '50%'>"
   ]
  },
  {
   "cell_type": "markdown",
   "metadata": {},
   "source": [
    "* Encoder의 모든 step의 hidden state의 정보가 컨텍스트 벡터에 전부 반영\n",
    "* Decoder의 현재 time step 예측에 Encoder의 각 step이 얼마나 영향을 미치는지에 따른 가중합으로 계산\n",
    "* Encoder의 hidden state의 가중치는 Decoder의 현재 스텝이 어디냐에 계속 바뀜"
   ]
  },
  {
   "cell_type": "markdown",
   "metadata": {},
   "source": [
    "## Data 준비"
   ]
  },
  {
   "cell_type": "markdown",
   "metadata": {},
   "source": [
    "### Library 불러오기"
   ]
  },
  {
   "cell_type": "markdown",
   "metadata": {},
   "source": [
    "* NLTK(Natural Language Toolkit) : 자연어 처리용 라이브러리\n",
    "* 해당 라이브러리의 불용어(stopwords) 사용 예정"
   ]
  },
  {
   "cell_type": "code",
   "execution_count": 1,
   "metadata": {},
   "outputs": [
    {
     "name": "stderr",
     "output_type": "stream",
     "text": [
      "[nltk_data] Downloading package stopwords to /home/aiffel/nltk_data...\n",
      "[nltk_data]   Package stopwords is already up-to-date!\n"
     ]
    }
   ],
   "source": [
    "import nltk\n",
    "nltk.download('stopwords')\n",
    "\n",
    "import numpy as np\n",
    "import pandas as pd\n",
    "import os\n",
    "import re\n",
    "import matplotlib.pyplot as plt\n",
    "from nltk.corpus import stopwords\n",
    "from bs4 import BeautifulSoup \n",
    "from tensorflow.keras.preprocessing.text import Tokenizer \n",
    "from tensorflow.keras.preprocessing.sequence import pad_sequences\n",
    "import urllib.request\n",
    "import warnings\n",
    "warnings.filterwarnings(\"ignore\", category=UserWarning, module='bs4')"
   ]
  },
  {
   "cell_type": "markdown",
   "metadata": {},
   "source": [
    "### 데이터 불러오기"
   ]
  },
  {
   "cell_type": "code",
   "execution_count": 2,
   "metadata": {},
   "outputs": [
    {
     "name": "stdout",
     "output_type": "stream",
     "text": [
      "전체 샘플수 : 100000\n"
     ]
    }
   ],
   "source": [
    "data = pd.read_csv('data/Reviews.csv', nrows=100000)\n",
    "print('전체 샘플수 :', (len(data)))"
   ]
  },
  {
   "cell_type": "code",
   "execution_count": 3,
   "metadata": {},
   "outputs": [
    {
     "data": {
      "text/html": [
       "<div>\n",
       "<style scoped>\n",
       "    .dataframe tbody tr th:only-of-type {\n",
       "        vertical-align: middle;\n",
       "    }\n",
       "\n",
       "    .dataframe tbody tr th {\n",
       "        vertical-align: top;\n",
       "    }\n",
       "\n",
       "    .dataframe thead th {\n",
       "        text-align: right;\n",
       "    }\n",
       "</style>\n",
       "<table border=\"1\" class=\"dataframe\">\n",
       "  <thead>\n",
       "    <tr style=\"text-align: right;\">\n",
       "      <th></th>\n",
       "      <th>Id</th>\n",
       "      <th>ProductId</th>\n",
       "      <th>UserId</th>\n",
       "      <th>ProfileName</th>\n",
       "      <th>HelpfulnessNumerator</th>\n",
       "      <th>HelpfulnessDenominator</th>\n",
       "      <th>Score</th>\n",
       "      <th>Time</th>\n",
       "      <th>Summary</th>\n",
       "      <th>Text</th>\n",
       "    </tr>\n",
       "  </thead>\n",
       "  <tbody>\n",
       "    <tr>\n",
       "      <th>0</th>\n",
       "      <td>1</td>\n",
       "      <td>B001E4KFG0</td>\n",
       "      <td>A3SGXH7AUHU8GW</td>\n",
       "      <td>delmartian</td>\n",
       "      <td>1</td>\n",
       "      <td>1</td>\n",
       "      <td>5</td>\n",
       "      <td>1303862400</td>\n",
       "      <td>Good Quality Dog Food</td>\n",
       "      <td>I have bought several of the Vitality canned d...</td>\n",
       "    </tr>\n",
       "    <tr>\n",
       "      <th>1</th>\n",
       "      <td>2</td>\n",
       "      <td>B00813GRG4</td>\n",
       "      <td>A1D87F6ZCVE5NK</td>\n",
       "      <td>dll pa</td>\n",
       "      <td>0</td>\n",
       "      <td>0</td>\n",
       "      <td>1</td>\n",
       "      <td>1346976000</td>\n",
       "      <td>Not as Advertised</td>\n",
       "      <td>Product arrived labeled as Jumbo Salted Peanut...</td>\n",
       "    </tr>\n",
       "    <tr>\n",
       "      <th>2</th>\n",
       "      <td>3</td>\n",
       "      <td>B000LQOCH0</td>\n",
       "      <td>ABXLMWJIXXAIN</td>\n",
       "      <td>Natalia Corres \"Natalia Corres\"</td>\n",
       "      <td>1</td>\n",
       "      <td>1</td>\n",
       "      <td>4</td>\n",
       "      <td>1219017600</td>\n",
       "      <td>\"Delight\" says it all</td>\n",
       "      <td>This is a confection that has been around a fe...</td>\n",
       "    </tr>\n",
       "    <tr>\n",
       "      <th>3</th>\n",
       "      <td>4</td>\n",
       "      <td>B000UA0QIQ</td>\n",
       "      <td>A395BORC6FGVXV</td>\n",
       "      <td>Karl</td>\n",
       "      <td>3</td>\n",
       "      <td>3</td>\n",
       "      <td>2</td>\n",
       "      <td>1307923200</td>\n",
       "      <td>Cough Medicine</td>\n",
       "      <td>If you are looking for the secret ingredient i...</td>\n",
       "    </tr>\n",
       "    <tr>\n",
       "      <th>4</th>\n",
       "      <td>5</td>\n",
       "      <td>B006K2ZZ7K</td>\n",
       "      <td>A1UQRSCLF8GW1T</td>\n",
       "      <td>Michael D. Bigham \"M. Wassir\"</td>\n",
       "      <td>0</td>\n",
       "      <td>0</td>\n",
       "      <td>5</td>\n",
       "      <td>1350777600</td>\n",
       "      <td>Great taffy</td>\n",
       "      <td>Great taffy at a great price.  There was a wid...</td>\n",
       "    </tr>\n",
       "  </tbody>\n",
       "</table>\n",
       "</div>"
      ],
      "text/plain": [
       "   Id   ProductId          UserId                      ProfileName  \\\n",
       "0   1  B001E4KFG0  A3SGXH7AUHU8GW                       delmartian   \n",
       "1   2  B00813GRG4  A1D87F6ZCVE5NK                           dll pa   \n",
       "2   3  B000LQOCH0   ABXLMWJIXXAIN  Natalia Corres \"Natalia Corres\"   \n",
       "3   4  B000UA0QIQ  A395BORC6FGVXV                             Karl   \n",
       "4   5  B006K2ZZ7K  A1UQRSCLF8GW1T    Michael D. Bigham \"M. Wassir\"   \n",
       "\n",
       "   HelpfulnessNumerator  HelpfulnessDenominator  Score        Time  \\\n",
       "0                     1                       1      5  1303862400   \n",
       "1                     0                       0      1  1346976000   \n",
       "2                     1                       1      4  1219017600   \n",
       "3                     3                       3      2  1307923200   \n",
       "4                     0                       0      5  1350777600   \n",
       "\n",
       "                 Summary                                               Text  \n",
       "0  Good Quality Dog Food  I have bought several of the Vitality canned d...  \n",
       "1      Not as Advertised  Product arrived labeled as Jumbo Salted Peanut...  \n",
       "2  \"Delight\" says it all  This is a confection that has been around a fe...  \n",
       "3         Cough Medicine  If you are looking for the secret ingredient i...  \n",
       "4            Great taffy  Great taffy at a great price.  There was a wid...  "
      ]
     },
     "execution_count": 3,
     "metadata": {},
     "output_type": "execute_result"
    }
   ],
   "source": [
    "data.head()"
   ]
  },
  {
   "cell_type": "markdown",
   "metadata": {},
   "source": [
    "### 랜덤한 15개 샘플 출력"
   ]
  },
  {
   "cell_type": "code",
   "execution_count": 4,
   "metadata": {},
   "outputs": [
    {
     "data": {
      "text/html": [
       "<div>\n",
       "<style scoped>\n",
       "    .dataframe tbody tr th:only-of-type {\n",
       "        vertical-align: middle;\n",
       "    }\n",
       "\n",
       "    .dataframe tbody tr th {\n",
       "        vertical-align: top;\n",
       "    }\n",
       "\n",
       "    .dataframe thead th {\n",
       "        text-align: right;\n",
       "    }\n",
       "</style>\n",
       "<table border=\"1\" class=\"dataframe\">\n",
       "  <thead>\n",
       "    <tr style=\"text-align: right;\">\n",
       "      <th></th>\n",
       "      <th>Text</th>\n",
       "      <th>Summary</th>\n",
       "    </tr>\n",
       "  </thead>\n",
       "  <tbody>\n",
       "    <tr>\n",
       "      <th>70945</th>\n",
       "      <td>I recently went back to school and am up late ...</td>\n",
       "      <td>Good Snack for Studying</td>\n",
       "    </tr>\n",
       "    <tr>\n",
       "      <th>1797</th>\n",
       "      <td>in my book. You can eat one serving with ease ...</td>\n",
       "      <td>Pop Chips Are Tops</td>\n",
       "    </tr>\n",
       "    <tr>\n",
       "      <th>14218</th>\n",
       "      <td>These were such a hit at my latest cocktail pa...</td>\n",
       "      <td>Delicious</td>\n",
       "    </tr>\n",
       "    <tr>\n",
       "      <th>85963</th>\n",
       "      <td>You know those cans of air you buy to clean yo...</td>\n",
       "      <td>Upside Down Canned Air</td>\n",
       "    </tr>\n",
       "    <tr>\n",
       "      <th>5434</th>\n",
       "      <td>100% ground Arabica beans. Not my favorite, bu...</td>\n",
       "      <td>Good light to medium brew</td>\n",
       "    </tr>\n",
       "    <tr>\n",
       "      <th>85065</th>\n",
       "      <td>The minute I tried this I was instantly hooked...</td>\n",
       "      <td>It's sad just how delicious this juice is</td>\n",
       "    </tr>\n",
       "    <tr>\n",
       "      <th>44316</th>\n",
       "      <td>This tea works on my fiance's digestive track ...</td>\n",
       "      <td>Tea that works to clear all digestive stoppage.</td>\n",
       "    </tr>\n",
       "    <tr>\n",
       "      <th>36746</th>\n",
       "      <td>Where I come from \"bait &amp; switch\" is called fr...</td>\n",
       "      <td>Bait &amp; Switch fraud!</td>\n",
       "    </tr>\n",
       "    <tr>\n",
       "      <th>19240</th>\n",
       "      <td>I guess the tin isn't totally airtight, since ...</td>\n",
       "      <td>Smooth and fragrant</td>\n",
       "    </tr>\n",
       "    <tr>\n",
       "      <th>17056</th>\n",
       "      <td>OK so I bought the Sam's Club Fruit Snacks thi...</td>\n",
       "      <td>Don't be fooled by the Sams Club \"fruit\" snacks</td>\n",
       "    </tr>\n",
       "    <tr>\n",
       "      <th>96380</th>\n",
       "      <td>I'll make it brief.  These are terriibbllee!  ...</td>\n",
       "      <td>Absolutely Awful!</td>\n",
       "    </tr>\n",
       "    <tr>\n",
       "      <th>54284</th>\n",
       "      <td>*****&lt;br /&gt;Numi Tea's Monkey King Jasmine Gree...</td>\n",
       "      <td>Green Tea with Jasmine, Nothing Else!</td>\n",
       "    </tr>\n",
       "    <tr>\n",
       "      <th>91255</th>\n",
       "      <td>In anticipation of receiving these peppers I p...</td>\n",
       "      <td>Decent quality, Decent price</td>\n",
       "    </tr>\n",
       "    <tr>\n",
       "      <th>97786</th>\n",
       "      <td>This oatmeal is really good! I tried Nature's ...</td>\n",
       "      <td>Great Organic Grains</td>\n",
       "    </tr>\n",
       "    <tr>\n",
       "      <th>81105</th>\n",
       "      <td>Tasty oatmeal start for the day. Cooked in the...</td>\n",
       "      <td>micro hot oatmeal</td>\n",
       "    </tr>\n",
       "  </tbody>\n",
       "</table>\n",
       "</div>"
      ],
      "text/plain": [
       "                                                    Text  \\\n",
       "70945  I recently went back to school and am up late ...   \n",
       "1797   in my book. You can eat one serving with ease ...   \n",
       "14218  These were such a hit at my latest cocktail pa...   \n",
       "85963  You know those cans of air you buy to clean yo...   \n",
       "5434   100% ground Arabica beans. Not my favorite, bu...   \n",
       "85065  The minute I tried this I was instantly hooked...   \n",
       "44316  This tea works on my fiance's digestive track ...   \n",
       "36746  Where I come from \"bait & switch\" is called fr...   \n",
       "19240  I guess the tin isn't totally airtight, since ...   \n",
       "17056  OK so I bought the Sam's Club Fruit Snacks thi...   \n",
       "96380  I'll make it brief.  These are terriibbllee!  ...   \n",
       "54284  *****<br />Numi Tea's Monkey King Jasmine Gree...   \n",
       "91255  In anticipation of receiving these peppers I p...   \n",
       "97786  This oatmeal is really good! I tried Nature's ...   \n",
       "81105  Tasty oatmeal start for the day. Cooked in the...   \n",
       "\n",
       "                                               Summary  \n",
       "70945                          Good Snack for Studying  \n",
       "1797                                Pop Chips Are Tops  \n",
       "14218                                        Delicious  \n",
       "85963                           Upside Down Canned Air  \n",
       "5434                         Good light to medium brew  \n",
       "85065        It's sad just how delicious this juice is  \n",
       "44316  Tea that works to clear all digestive stoppage.  \n",
       "36746                             Bait & Switch fraud!  \n",
       "19240                              Smooth and fragrant  \n",
       "17056  Don't be fooled by the Sams Club \"fruit\" snacks  \n",
       "96380                                Absolutely Awful!  \n",
       "54284            Green Tea with Jasmine, Nothing Else!  \n",
       "91255                     Decent quality, Decent price  \n",
       "97786                             Great Organic Grains  \n",
       "81105                                micro hot oatmeal  "
      ]
     },
     "execution_count": 4,
     "metadata": {},
     "output_type": "execute_result"
    }
   ],
   "source": [
    "data = data[['Text','Summary']]\n",
    "data.head()\n",
    "\n",
    "data.sample(15)"
   ]
  },
  {
   "cell_type": "markdown",
   "metadata": {},
   "source": [
    "## 데이터 정리하기"
   ]
  },
  {
   "cell_type": "markdown",
   "metadata": {},
   "source": [
    "### 중복과 NULL 제거"
   ]
  },
  {
   "cell_type": "markdown",
   "metadata": {},
   "source": [
    "#### 중복 확인 및 제거"
   ]
  },
  {
   "cell_type": "markdown",
   "metadata": {},
   "source": [
    "* 중복 확인\n",
    "* [pandas.DataFrame.nunique](https://pandas.pydata.org/docs/reference/api/pandas.DataFrame.nunique.html)\n",
    "* 특정 축에 대한 유일한 값의 개수 구하기"
   ]
  },
  {
   "cell_type": "code",
   "execution_count": 5,
   "metadata": {},
   "outputs": [
    {
     "name": "stdout",
     "output_type": "stream",
     "text": [
      "Text 열에서 중복을 배제한 유일한 샘플의 수 : 88426\n",
      "Summary 열에서 중복을 배제한 유일한 샘플의 수 : 72348\n"
     ]
    }
   ],
   "source": [
    "print('Text 열에서 중복을 배제한 유일한 샘플의 수 :', data['Text'].nunique())\n",
    "print('Summary 열에서 중복을 배제한 유일한 샘플의 수 :', data['Summary'].nunique())"
   ]
  },
  {
   "cell_type": "markdown",
   "metadata": {},
   "source": [
    "* 중복 제거\n",
    "* [pandas.DataFrame.drop_duplicates](https://pandas.pydata.org/docs/reference/api/pandas.DataFrame.drop_duplicates.html)\n",
    "* inplace=True 를 설정하면 DataFrame 타입 값을 return 하지 않고 data 내부를 직접적으로 바꿉니다"
   ]
  },
  {
   "cell_type": "code",
   "execution_count": 6,
   "metadata": {},
   "outputs": [
    {
     "name": "stdout",
     "output_type": "stream",
     "text": [
      "전체 샘플수 : 88426\n"
     ]
    }
   ],
   "source": [
    "data.drop_duplicates(subset = ['Text'], inplace=True)\n",
    "print('전체 샘플수 :', (len(data)))"
   ]
  },
  {
   "cell_type": "markdown",
   "metadata": {},
   "source": [
    "#### NULL 확인 및 제거"
   ]
  },
  {
   "cell_type": "markdown",
   "metadata": {},
   "source": [
    "* [pandas.DataFrame.isnull](https://pandas.pydata.org/docs/reference/api/pandas.DataFrame.isnull.html#pandas.DataFrame.isnull)\n",
    "* null 인 경우 True 아니면 False를 리턴하고 이에 대한 sum 이므로 개수가 나온다."
   ]
  },
  {
   "cell_type": "code",
   "execution_count": 7,
   "metadata": {},
   "outputs": [
    {
     "name": "stdout",
     "output_type": "stream",
     "text": [
      "Text       0\n",
      "Summary    1\n",
      "dtype: int64\n"
     ]
    }
   ],
   "source": [
    "print(data.isnull().sum())"
   ]
  },
  {
   "cell_type": "markdown",
   "metadata": {},
   "source": [
    "* [pandas.DataFrame.dropna](https://pandas.pydata.org/docs/reference/api/pandas.DataFrame.dropna.html?highlight=dropna#pandas.DataFrame.dropna)\n",
    "* NULL 값 1개 제거"
   ]
  },
  {
   "cell_type": "code",
   "execution_count": 8,
   "metadata": {},
   "outputs": [
    {
     "name": "stdout",
     "output_type": "stream",
     "text": [
      "전체 샘플수 : 88425\n"
     ]
    }
   ],
   "source": [
    "data.dropna(axis=0, inplace=True)\n",
    "print('전체 샘플수 :', (len(data)))"
   ]
  },
  {
   "cell_type": "markdown",
   "metadata": {},
   "source": [
    "### 텍스트 정규화와 불용어 제거 준비"
   ]
  },
  {
   "cell_type": "markdown",
   "metadata": {},
   "source": [
    "* Text Normalization\n",
    "* 같은 의미인데도 다른 표현으로 쓰이는 경우를 통일 시켜주는 작업\n",
    "* it'll -> it will, mustn't -> must not 같이\n",
    "* 정규화를 위한 사전을 구성 [출처](https://stackoverflow.com/questions/19790188/expanding-english-language-contractions-in-python)"
   ]
  },
  {
   "cell_type": "code",
   "execution_count": 9,
   "metadata": {},
   "outputs": [
    {
     "name": "stdout",
     "output_type": "stream",
     "text": [
      "정규화 사전의 수:  120\n"
     ]
    }
   ],
   "source": [
    "contractions = {\"ain't\": \"is not\", \"aren't\": \"are not\",\"can't\": \"cannot\", \"'cause\": \"because\", \"could've\": \"could have\", \"couldn't\": \"could not\",\n",
    "                           \"didn't\": \"did not\",  \"doesn't\": \"does not\", \"don't\": \"do not\", \"hadn't\": \"had not\", \"hasn't\": \"has not\", \"haven't\": \"have not\",\n",
    "                           \"he'd\": \"he would\",\"he'll\": \"he will\", \"he's\": \"he is\", \"how'd\": \"how did\", \"how'd'y\": \"how do you\", \"how'll\": \"how will\", \"how's\": \"how is\",\n",
    "                           \"I'd\": \"I would\", \"I'd've\": \"I would have\", \"I'll\": \"I will\", \"I'll've\": \"I will have\",\"I'm\": \"I am\", \"I've\": \"I have\", \"i'd\": \"i would\",\n",
    "                           \"i'd've\": \"i would have\", \"i'll\": \"i will\",  \"i'll've\": \"i will have\",\"i'm\": \"i am\", \"i've\": \"i have\", \"isn't\": \"is not\", \"it'd\": \"it would\",\n",
    "                           \"it'd've\": \"it would have\", \"it'll\": \"it will\", \"it'll've\": \"it will have\",\"it's\": \"it is\", \"let's\": \"let us\", \"ma'am\": \"madam\",\n",
    "                           \"mayn't\": \"may not\", \"might've\": \"might have\",\"mightn't\": \"might not\",\"mightn't've\": \"might not have\", \"must've\": \"must have\",\n",
    "                           \"mustn't\": \"must not\", \"mustn't've\": \"must not have\", \"needn't\": \"need not\", \"needn't've\": \"need not have\",\"o'clock\": \"of the clock\",\n",
    "                           \"oughtn't\": \"ought not\", \"oughtn't've\": \"ought not have\", \"shan't\": \"shall not\", \"sha'n't\": \"shall not\", \"shan't've\": \"shall not have\",\n",
    "                           \"she'd\": \"she would\", \"she'd've\": \"she would have\", \"she'll\": \"she will\", \"she'll've\": \"she will have\", \"she's\": \"she is\",\n",
    "                           \"should've\": \"should have\", \"shouldn't\": \"should not\", \"shouldn't've\": \"should not have\", \"so've\": \"so have\",\"so's\": \"so as\",\n",
    "                           \"this's\": \"this is\",\"that'd\": \"that would\", \"that'd've\": \"that would have\", \"that's\": \"that is\", \"there'd\": \"there would\",\n",
    "                           \"there'd've\": \"there would have\", \"there's\": \"there is\", \"here's\": \"here is\",\"they'd\": \"they would\", \"they'd've\": \"they would have\",\n",
    "                           \"they'll\": \"they will\", \"they'll've\": \"they will have\", \"they're\": \"they are\", \"they've\": \"they have\", \"to've\": \"to have\",\n",
    "                           \"wasn't\": \"was not\", \"we'd\": \"we would\", \"we'd've\": \"we would have\", \"we'll\": \"we will\", \"we'll've\": \"we will have\", \"we're\": \"we are\",\n",
    "                           \"we've\": \"we have\", \"weren't\": \"were not\", \"what'll\": \"what will\", \"what'll've\": \"what will have\", \"what're\": \"what are\",\n",
    "                           \"what's\": \"what is\", \"what've\": \"what have\", \"when's\": \"when is\", \"when've\": \"when have\", \"where'd\": \"where did\", \"where's\": \"where is\",\n",
    "                           \"where've\": \"where have\", \"who'll\": \"who will\", \"who'll've\": \"who will have\", \"who's\": \"who is\", \"who've\": \"who have\",\n",
    "                           \"why's\": \"why is\", \"why've\": \"why have\", \"will've\": \"will have\", \"won't\": \"will not\", \"won't've\": \"will not have\",\n",
    "                           \"would've\": \"would have\", \"wouldn't\": \"would not\", \"wouldn't've\": \"would not have\", \"y'all\": \"you all\",\n",
    "                           \"y'all'd\": \"you all would\",\"y'all'd've\": \"you all would have\",\"y'all're\": \"you all are\",\"y'all've\": \"you all have\",\n",
    "                           \"you'd\": \"you would\", \"you'd've\": \"you would have\", \"you'll\": \"you will\", \"you'll've\": \"you will have\",\n",
    "                           \"you're\": \"you are\", \"you've\": \"you have\"}\n",
    "\n",
    "print(\"정규화 사전의 수: \", len(contractions))"
   ]
  },
  {
   "cell_type": "markdown",
   "metadata": {},
   "source": [
    "* 불용어(stopwords) : 자연어 처리시 도움이 안되는 단어들\n",
    "* NLTK이 제공하는 불용어를 참조"
   ]
  },
  {
   "cell_type": "code",
   "execution_count": 10,
   "metadata": {},
   "outputs": [
    {
     "name": "stdout",
     "output_type": "stream",
     "text": [
      "불용어 개수 : 179\n",
      "['i', 'me', 'my', 'myself', 'we', 'our', 'ours', 'ourselves', 'you', \"you're\", \"you've\", \"you'll\", \"you'd\", 'your', 'yours', 'yourself', 'yourselves', 'he', 'him', 'his', 'himself', 'she', \"she's\", 'her', 'hers', 'herself', 'it', \"it's\", 'its', 'itself', 'they', 'them', 'their', 'theirs', 'themselves', 'what', 'which', 'who', 'whom', 'this', 'that', \"that'll\", 'these', 'those', 'am', 'is', 'are', 'was', 'were', 'be', 'been', 'being', 'have', 'has', 'had', 'having', 'do', 'does', 'did', 'doing', 'a', 'an', 'the', 'and', 'but', 'if', 'or', 'because', 'as', 'until', 'while', 'of', 'at', 'by', 'for', 'with', 'about', 'against', 'between', 'into', 'through', 'during', 'before', 'after', 'above', 'below', 'to', 'from', 'up', 'down', 'in', 'out', 'on', 'off', 'over', 'under', 'again', 'further', 'then', 'once', 'here', 'there', 'when', 'where', 'why', 'how', 'all', 'any', 'both', 'each', 'few', 'more', 'most', 'other', 'some', 'such', 'no', 'nor', 'not', 'only', 'own', 'same', 'so', 'than', 'too', 'very', 's', 't', 'can', 'will', 'just', 'don', \"don't\", 'should', \"should've\", 'now', 'd', 'll', 'm', 'o', 're', 've', 'y', 'ain', 'aren', \"aren't\", 'couldn', \"couldn't\", 'didn', \"didn't\", 'doesn', \"doesn't\", 'hadn', \"hadn't\", 'hasn', \"hasn't\", 'haven', \"haven't\", 'isn', \"isn't\", 'ma', 'mightn', \"mightn't\", 'mustn', \"mustn't\", 'needn', \"needn't\", 'shan', \"shan't\", 'shouldn', \"shouldn't\", 'wasn', \"wasn't\", 'weren', \"weren't\", 'won', \"won't\", 'wouldn', \"wouldn't\"]\n"
     ]
    }
   ],
   "source": [
    "print('불용어 개수 :', len(stopwords.words('english') ))\n",
    "print(stopwords.words('english'))"
   ]
  },
  {
   "cell_type": "markdown",
   "metadata": {},
   "source": [
    "###  전처리 함수 만들기"
   ]
  },
  {
   "cell_type": "markdown",
   "metadata": {},
   "source": [
    "* 텍스트 소문자화\n",
    "* html 태그 제거\n",
    "* () 문자열 제거\n",
    "* \" 제거\n",
    "* 약어 정규화(준말 정규화)\n",
    "* 소유격 제거\n",
    "* 영어 외 문자 공백으로 변환"
   ]
  },
  {
   "cell_type": "code",
   "execution_count": 11,
   "metadata": {},
   "outputs": [],
   "source": [
    "def preprocess_sentence(sentence, remove_stopwords=True):\n",
    "    sentence = sentence.lower()\n",
    "    sentence = BeautifulSoup(sentence, \"lxml\").text \n",
    "    sentence = re.sub(r'\\([^)]*\\)', '', sentence) \n",
    "    sentence = re.sub('\"','', sentence) \n",
    "    sentence = ' '.join([contractions[t] if t in contractions else t for t in sentence.split(\" \")])\n",
    "    sentence = re.sub(r\"'s\\b\",\"\", sentence)\n",
    "    sentence = re.sub(\"[^a-zA-Z0-9]\", \" \", sentence)\n",
    "    \n",
    "    if remove_stopwords:\n",
    "        tokens = ' '.join(word for word in sentence.split() if not word in stopwords.words('english') if len(word) > 1)\n",
    "    else:\n",
    "        tokens = ' '.join(word for word in sentence.split() if len(word) > 1)\n",
    "    return tokens"
   ]
  },
  {
   "cell_type": "markdown",
   "metadata": {},
   "source": [
    "* 불용어 제거와 미제거로 나누어서 테스트"
   ]
  },
  {
   "cell_type": "code",
   "execution_count": 12,
   "metadata": {},
   "outputs": [
    {
     "name": "stdout",
     "output_type": "stream",
     "text": [
      "text:  everything bought great infact ordered twice third ordered wasfor mother father\n",
      "summary: great way to start the day\n"
     ]
    }
   ],
   "source": [
    "temp_text = 'Everything I bought was great, infact I ordered twice and the third ordered was<br />for my mother and father.'\n",
    "temp_summary = 'Great way to start (or finish) the day!!!'\n",
    "\n",
    "print(\"text: \", preprocess_sentence(temp_text))\n",
    "print(\"summary:\", preprocess_sentence(temp_summary, False))"
   ]
  },
  {
   "cell_type": "markdown",
   "metadata": {},
   "source": [
    "### 데이터 전체에 적용하기"
   ]
  },
  {
   "cell_type": "markdown",
   "metadata": {},
   "source": [
    "* Text"
   ]
  },
  {
   "cell_type": "code",
   "execution_count": 13,
   "metadata": {},
   "outputs": [
    {
     "name": "stdout",
     "output_type": "stream",
     "text": [
      "Text 전처리 후 결과:  ['bought several vitality canned dog food products found good quality product looks like stew processed meat smells better labrador finicky appreciates product better', 'product arrived labeled jumbo salted peanuts peanuts actually small sized unsalted sure error vendor intended represent product jumbo', 'confection around centuries light pillowy citrus gelatin nuts case filberts cut tiny squares liberally coated powdered sugar tiny mouthful heaven chewy flavorful highly recommend yummy treat familiar story lewis lion witch wardrobe treat seduces edmund selling brother sisters witch', 'looking secret ingredient robitussin believe found got addition root beer extract ordered made cherry soda flavor medicinal', 'great taffy great price wide assortment yummy taffy delivery quick taffy lover deal']\n"
     ]
    }
   ],
   "source": [
    "clean_text = []\n",
    "for s in data['Text']:\n",
    "    clean_text.append(preprocess_sentence(s))\n",
    "\n",
    "print(\"Text 전처리 후 결과: \", clean_text[:5])"
   ]
  },
  {
   "cell_type": "markdown",
   "metadata": {},
   "source": [
    "* Summary"
   ]
  },
  {
   "cell_type": "code",
   "execution_count": 14,
   "metadata": {},
   "outputs": [
    {
     "name": "stdout",
     "output_type": "stream",
     "text": [
      "Summary 전처리 후 결과:  ['good quality dog food', 'not as advertised', 'delight says it all', 'cough medicine', 'great taffy']\n"
     ]
    }
   ],
   "source": [
    "clean_summary = []\n",
    "for s in data['Summary']:\n",
    "    clean_summary.append(preprocess_sentence(s, False))\n",
    "\n",
    "print(\"Summary 전처리 후 결과: \", clean_summary[:5])"
   ]
  },
  {
   "cell_type": "markdown",
   "metadata": {},
   "source": [
    "### 빈 값이 있는지 재확인"
   ]
  },
  {
   "cell_type": "markdown",
   "metadata": {},
   "source": [
    "* 편의를 위해 DataFrame에 저장\n",
    "* 빈 값을 Null 값으로 변환"
   ]
  },
  {
   "cell_type": "code",
   "execution_count": 15,
   "metadata": {},
   "outputs": [],
   "source": [
    "data['Text'] = clean_text\n",
    "data['Summary'] = clean_summary\n",
    "\n",
    "data.replace('', np.nan, inplace=True)"
   ]
  },
  {
   "cell_type": "markdown",
   "metadata": {},
   "source": [
    "* null값 확인"
   ]
  },
  {
   "cell_type": "code",
   "execution_count": 16,
   "metadata": {},
   "outputs": [
    {
     "data": {
      "text/plain": [
       "Text        0\n",
       "Summary    61\n",
       "dtype: int64"
      ]
     },
     "execution_count": 16,
     "metadata": {},
     "output_type": "execute_result"
    }
   ],
   "source": [
    "data.isnull().sum()"
   ]
  },
  {
   "cell_type": "markdown",
   "metadata": {},
   "source": [
    "* null값 제거"
   ]
  },
  {
   "cell_type": "code",
   "execution_count": 17,
   "metadata": {},
   "outputs": [
    {
     "name": "stdout",
     "output_type": "stream",
     "text": [
      "전체 샘플수 : 88364\n"
     ]
    }
   ],
   "source": [
    "data.dropna(axis=0, inplace=True)\n",
    "print('전체 샘플수 :', (len(data)))"
   ]
  },
  {
   "cell_type": "markdown",
   "metadata": {},
   "source": [
    "## 훈련과 테스트 데이터 나누기"
   ]
  },
  {
   "cell_type": "markdown",
   "metadata": {},
   "source": [
    "### 샘플의 최대 길이 정하기"
   ]
  },
  {
   "cell_type": "markdown",
   "metadata": {},
   "source": [
    "* Text 와 Summary를 문장 단위로 나눈 뒤 개수를 세봅니다."
   ]
  },
  {
   "cell_type": "code",
   "execution_count": 18,
   "metadata": {},
   "outputs": [
    {
     "name": "stdout",
     "output_type": "stream",
     "text": [
      "텍스트의 최소 길이 : 2\n",
      "텍스트의 최대 길이 : 1246\n",
      "텍스트의 평균 길이 : 39.17314743560726\n",
      "요약의 최소 길이 : 1\n",
      "요약의 최대 길이 : 28\n",
      "요약의 평균 길이 : 4.020630573536734\n"
     ]
    },
    {
     "data": {
      "image/png": "[encoded data removed]",
      "text/plain": [
       "<Figure size 432x288 with 2 Axes>"
      ]
     },
     "metadata": {
      "needs_background": "light"
     },
     "output_type": "display_data"
    },
    {
     "data": {
      "image/png": "[encoded data removed]",
      "text/plain": [
       "<Figure size 432x288 with 1 Axes>"
      ]
     },
     "metadata": {
      "needs_background": "light"
     },
     "output_type": "display_data"
    },
    {
     "data": {
      "image/png": "[encoded data removed]",
      "text/plain": [
       "<Figure size 432x288 with 1 Axes>"
      ]
     },
     "metadata": {
      "needs_background": "light"
     },
     "output_type": "display_data"
    }
   ],
   "source": [
    "import matplotlib.pyplot as plt\n",
    "\n",
    "text_len = [len(s.split()) for s in data['Text']]\n",
    "summary_len = [len(s.split()) for s in data['Summary']]\n",
    "\n",
    "print('텍스트의 최소 길이 : {}'.format(np.min(text_len)))\n",
    "print('텍스트의 최대 길이 : {}'.format(np.max(text_len)))\n",
    "print('텍스트의 평균 길이 : {}'.format(np.mean(text_len)))\n",
    "print('요약의 최소 길이 : {}'.format(np.min(summary_len)))\n",
    "print('요약의 최대 길이 : {}'.format(np.max(summary_len)))\n",
    "print('요약의 평균 길이 : {}'.format(np.mean(summary_len)))\n",
    "\n",
    "plt.subplot(1,2,1)\n",
    "plt.boxplot(text_len)\n",
    "plt.title('Text')\n",
    "plt.subplot(1,2,2)\n",
    "plt.boxplot(summary_len)\n",
    "plt.title('Summary')\n",
    "plt.tight_layout()\n",
    "plt.show()\n",
    "\n",
    "plt.title('Text')\n",
    "plt.hist(text_len, bins = 40)\n",
    "plt.xlabel('length of samples')\n",
    "plt.ylabel('number of samples')\n",
    "plt.show()\n",
    "\n",
    "plt.title('Summary')\n",
    "plt.hist(summary_len, bins = 40)\n",
    "plt.xlabel('length of samples')\n",
    "plt.ylabel('number of samples')\n",
    "plt.show()"
   ]
  },
  {
   "cell_type": "markdown",
   "metadata": {},
   "source": [
    "* Text와 Summary의 적절한 최대 길이를 정해보기."
   ]
  },
  {
   "cell_type": "code",
   "execution_count": 19,
   "metadata": {},
   "outputs": [],
   "source": [
    "text_max_len = 50\n",
    "summary_max_len = 8"
   ]
  },
  {
   "cell_type": "markdown",
   "metadata": {},
   "source": [
    "* 해당 비율로 했을 때, 데이터가 몇 퍼센트인지 확인해봅시다."
   ]
  },
  {
   "cell_type": "code",
   "execution_count": 20,
   "metadata": {},
   "outputs": [],
   "source": [
    "def below_threshold_len(max_len, nested_list):\n",
    "  cnt = 0\n",
    "  for s in nested_list:\n",
    "    if(len(s.split()) <= max_len):\n",
    "        cnt = cnt + 1\n",
    "  print('전체 샘플 중 길이가 %s 이하인 샘플의 비율: %s'%(max_len, (cnt / len(nested_list))))"
   ]
  },
  {
   "cell_type": "code",
   "execution_count": 21,
   "metadata": {},
   "outputs": [
    {
     "name": "stdout",
     "output_type": "stream",
     "text": [
      "전체 샘플 중 길이가 50 이하인 샘플의 비율: 0.7709134941831515\n",
      "전체 샘플 중 길이가 8 이하인 샘플의 비율: 0.9415033271468018\n"
     ]
    }
   ],
   "source": [
    "below_threshold_len(text_max_len, data['Text'])\n",
    "below_threshold_len(summary_max_len,  data['Summary'])"
   ]
  },
  {
   "cell_type": "markdown",
   "metadata": {},
   "source": [
    "* 정해진 길이보다 길면 제외하도록 합니다."
   ]
  },
  {
   "cell_type": "code",
   "execution_count": 22,
   "metadata": {},
   "outputs": [
    {
     "name": "stdout",
     "output_type": "stream",
     "text": [
      "전체 샘플수 : 65488\n"
     ]
    }
   ],
   "source": [
    "data = data[data['Text'].apply(lambda x: len(x.split()) <= text_max_len)]\n",
    "data = data[data['Summary'].apply(lambda x: len(x.split()) <= summary_max_len)]\n",
    "print('전체 샘플수 :', (len(data)))"
   ]
  },
  {
   "cell_type": "markdown",
   "metadata": {},
   "source": [
    "### 시작과 종료 토큰"
   ]
  },
  {
   "cell_type": "markdown",
   "metadata": {},
   "source": [
    "* Summary 데이터에 시작과 종료 토큰을 추가합니다."
   ]
  },
  {
   "cell_type": "code",
   "execution_count": 23,
   "metadata": {},
   "outputs": [
    {
     "data": {
      "text/html": [
       "<div>\n",
       "<style scoped>\n",
       "    .dataframe tbody tr th:only-of-type {\n",
       "        vertical-align: middle;\n",
       "    }\n",
       "\n",
       "    .dataframe tbody tr th {\n",
       "        vertical-align: top;\n",
       "    }\n",
       "\n",
       "    .dataframe thead th {\n",
       "        text-align: right;\n",
       "    }\n",
       "</style>\n",
       "<table border=\"1\" class=\"dataframe\">\n",
       "  <thead>\n",
       "    <tr style=\"text-align: right;\">\n",
       "      <th></th>\n",
       "      <th>Text</th>\n",
       "      <th>Summary</th>\n",
       "      <th>decoder_input</th>\n",
       "      <th>decoder_target</th>\n",
       "    </tr>\n",
       "  </thead>\n",
       "  <tbody>\n",
       "    <tr>\n",
       "      <th>0</th>\n",
       "      <td>bought several vitality canned dog food produc...</td>\n",
       "      <td>good quality dog food</td>\n",
       "      <td>sostoken good quality dog food</td>\n",
       "      <td>good quality dog food eostoken</td>\n",
       "    </tr>\n",
       "    <tr>\n",
       "      <th>1</th>\n",
       "      <td>product arrived labeled jumbo salted peanuts p...</td>\n",
       "      <td>not as advertised</td>\n",
       "      <td>sostoken not as advertised</td>\n",
       "      <td>not as advertised eostoken</td>\n",
       "    </tr>\n",
       "    <tr>\n",
       "      <th>2</th>\n",
       "      <td>confection around centuries light pillowy citr...</td>\n",
       "      <td>delight says it all</td>\n",
       "      <td>sostoken delight says it all</td>\n",
       "      <td>delight says it all eostoken</td>\n",
       "    </tr>\n",
       "    <tr>\n",
       "      <th>3</th>\n",
       "      <td>looking secret ingredient robitussin believe f...</td>\n",
       "      <td>cough medicine</td>\n",
       "      <td>sostoken cough medicine</td>\n",
       "      <td>cough medicine eostoken</td>\n",
       "    </tr>\n",
       "    <tr>\n",
       "      <th>4</th>\n",
       "      <td>great taffy great price wide assortment yummy ...</td>\n",
       "      <td>great taffy</td>\n",
       "      <td>sostoken great taffy</td>\n",
       "      <td>great taffy eostoken</td>\n",
       "    </tr>\n",
       "  </tbody>\n",
       "</table>\n",
       "</div>"
      ],
      "text/plain": [
       "                                                Text                Summary  \\\n",
       "0  bought several vitality canned dog food produc...  good quality dog food   \n",
       "1  product arrived labeled jumbo salted peanuts p...      not as advertised   \n",
       "2  confection around centuries light pillowy citr...    delight says it all   \n",
       "3  looking secret ingredient robitussin believe f...         cough medicine   \n",
       "4  great taffy great price wide assortment yummy ...            great taffy   \n",
       "\n",
       "                    decoder_input                  decoder_target  \n",
       "0  sostoken good quality dog food  good quality dog food eostoken  \n",
       "1      sostoken not as advertised      not as advertised eostoken  \n",
       "2    sostoken delight says it all    delight says it all eostoken  \n",
       "3         sostoken cough medicine         cough medicine eostoken  \n",
       "4            sostoken great taffy            great taffy eostoken  "
      ]
     },
     "execution_count": 23,
     "metadata": {},
     "output_type": "execute_result"
    }
   ],
   "source": [
    "data['decoder_input'] = data['Summary'].apply(lambda x : 'sostoken '+ x)\n",
    "data['decoder_target'] = data['Summary'].apply(lambda x : x + ' eostoken')\n",
    "data.head()"
   ]
  },
  {
   "cell_type": "markdown",
   "metadata": {},
   "source": [
    "* Numpy로 저장"
   ]
  },
  {
   "cell_type": "code",
   "execution_count": 24,
   "metadata": {},
   "outputs": [],
   "source": [
    "encoder_input = np.array(data['Text']) # 인코더의 입력\n",
    "decoder_input = np.array(data['decoder_input']) # 디코더의 입력\n",
    "decoder_target = np.array(data['decoder_target']) # 디코더의 레이블"
   ]
  },
  {
   "cell_type": "markdown",
   "metadata": {},
   "source": [
    "### 훈련과 테스트 데이터 분리"
   ]
  },
  {
   "cell_type": "markdown",
   "metadata": {},
   "source": [
    "* encoder_input 크기와 형태가 같은 순서가 섞인 정수 시퀀스를 만들어줌"
   ]
  },
  {
   "cell_type": "code",
   "execution_count": 25,
   "metadata": {},
   "outputs": [
    {
     "name": "stdout",
     "output_type": "stream",
     "text": [
      "[56140 20078 19500 ... 58496 27080 13328]\n"
     ]
    }
   ],
   "source": [
    "indices = np.arange(encoder_input.shape[0])\n",
    "np.random.shuffle(indices)\n",
    "print(indices)"
   ]
  },
  {
   "cell_type": "markdown",
   "metadata": {},
   "source": [
    "* 만들어준 시퀀스를 이용해 샘플들을 섞어야 합니다."
   ]
  },
  {
   "cell_type": "code",
   "execution_count": 26,
   "metadata": {},
   "outputs": [],
   "source": [
    "encoder_input = encoder_input[indices]\n",
    "decoder_input = decoder_input[indices]\n",
    "decoder_target = decoder_target[indices]"
   ]
  },
  {
   "cell_type": "markdown",
   "metadata": {},
   "source": [
    "* 데이터의 비율을 8:2 로 train와 test로 분리해줍니다.\n",
    "* encoder는 label이 없고 decoder의 input으로 넘어가니\n",
    "* endcoder는 input만 있습니다.\n",
    "* decoder는 encoder로부터 input을 받고 정답 확인까지 해야하니 decoder input, target이 있습니다.\n",
    "* train : 인코더 입력, 디코더 입력과 답\n",
    "* test : 인코더 입력, 디코더 입력과 답\n",
    "* train과 test는 "
   ]
  },
  {
   "cell_type": "code",
   "execution_count": 27,
   "metadata": {},
   "outputs": [
    {
     "name": "stdout",
     "output_type": "stream",
     "text": [
      "테스트 데이터의 수 : 13097\n"
     ]
    }
   ],
   "source": [
    "n_of_val = int(len(encoder_input)*0.2)\n",
    "print('테스트 데이터의 수 :', n_of_val)"
   ]
  },
  {
   "cell_type": "code",
   "execution_count": 28,
   "metadata": {},
   "outputs": [
    {
     "name": "stdout",
     "output_type": "stream",
     "text": [
      "훈련 데이터의 개수 : 52391\n",
      "훈련 레이블의 개수 : 52391\n",
      "테스트 데이터의 개수 : 13097\n",
      "테스트 레이블의 개수 : 13097\n"
     ]
    }
   ],
   "source": [
    "encoder_input_train = encoder_input[:-n_of_val]\n",
    "decoder_input_train = decoder_input[:-n_of_val]\n",
    "decoder_target_train = decoder_target[:-n_of_val]\n",
    "\n",
    "encoder_input_test = encoder_input[-n_of_val:]\n",
    "decoder_input_test = decoder_input[-n_of_val:]\n",
    "decoder_target_test = decoder_target[-n_of_val:]\n",
    "\n",
    "print('훈련 데이터의 개수 :', len(encoder_input_train))\n",
    "print('훈련 레이블의 개수 :', len(decoder_input_train))\n",
    "print('테스트 데이터의 개수 :', len(encoder_input_test))\n",
    "print('테스트 레이블의 개수 :', len(decoder_input_test))"
   ]
  },
  {
   "cell_type": "markdown",
   "metadata": {},
   "source": [
    "## 정수 인코딩"
   ]
  },
  {
   "cell_type": "markdown",
   "metadata": {},
   "source": [
    "### 단어 집합 만들기"
   ]
  },
  {
   "cell_type": "markdown",
   "metadata": {},
   "source": [
    "* 훈련 데이터와 테스트 데이터 모두 정수로 바꿔주기\n",
    "* 각 단어에 고유한 정수를 매핑하는 과정이 필요\n",
    "* 해당 과정이 단어 집합(vocabulary) 만들기."
   ]
  },
  {
   "cell_type": "markdown",
   "metadata": {},
   "source": [
    "### Text 처리"
   ]
  },
  {
   "cell_type": "markdown",
   "metadata": {},
   "source": [
    "#### Encoder_input_train 에 대한 단어 집합 만들기"
   ]
  },
  {
   "cell_type": "code",
   "execution_count": 29,
   "metadata": {},
   "outputs": [],
   "source": [
    "src_tokenizer = Tokenizer()\n",
    "src_tokenizer.fit_on_texts(encoder_input_train)"
   ]
  },
  {
   "cell_type": "markdown",
   "metadata": {},
   "source": [
    "* 단어의 등장 빈도수에 따라 나눠봅시다.\\\n",
    "* tokenizer.word_index : 단어 집합\n",
    "* tokenizer.word_counts : 단어별 빈도수\n",
    "* tokenizer.word_counts.items() : 단어 : 빈도수"
   ]
  },
  {
   "cell_type": "code",
   "execution_count": 30,
   "metadata": {},
   "outputs": [
    {
     "name": "stdout",
     "output_type": "stream",
     "text": [
      "단어 집합(vocabulary)의 크기 : 32831\n",
      "등장 빈도가 6번 이하인 희귀 단어의 수: 24504\n",
      "단어 집합에서 희귀 단어를 제외시킬 경우의 단어 집합의 크기 8327\n",
      "단어 집합에서 희귀 단어의 비율: 74.63677621759922\n",
      "전체 등장 빈도에서 희귀 단어 등장 빈도 비율: 3.503973256094236\n"
     ]
    }
   ],
   "source": [
    "threshold = 7\n",
    "total_cnt = len(src_tokenizer.word_index) # 단어의 수\n",
    "rare_cnt = 0 # 등장 빈도수가 threshold보다 작은 단어의 개수를 카운트\n",
    "total_freq = 0 # 훈련 데이터의 전체 단어 빈도수 총 합\n",
    "rare_freq = 0 # 등장 빈도수가 threshold보다 작은 단어의 등장 빈도수의 총 합\n",
    "\n",
    "# 단어와 빈도수의 쌍(pair)을 key와 value로 받는다.\n",
    "for key, value in src_tokenizer.word_counts.items():\n",
    "    total_freq = total_freq + value\n",
    "\n",
    "    # 단어의 등장 빈도수가 threshold보다 작으면\n",
    "    if(value < threshold):\n",
    "        rare_cnt = rare_cnt + 1\n",
    "        rare_freq = rare_freq + value\n",
    "\n",
    "print('단어 집합(vocabulary)의 크기 :', total_cnt)\n",
    "print('등장 빈도가 %s번 이하인 희귀 단어의 수: %s'%(threshold - 1, rare_cnt))\n",
    "print('단어 집합에서 희귀 단어를 제외시킬 경우의 단어 집합의 크기 %s'%(total_cnt - rare_cnt))\n",
    "print(\"단어 집합에서 희귀 단어의 비율:\", (rare_cnt / total_cnt)*100)\n",
    "print(\"전체 등장 빈도에서 희귀 단어 등장 빈도 비율:\", (rare_freq / total_freq)*100)"
   ]
  },
  {
   "cell_type": "markdown",
   "metadata": {},
   "source": [
    "* 희귀 단어들이 70퍼나 되지만 정작 빈도 비율은 3퍼다.\n",
    "* 이를 통해 단어 집합을 8천개로 잡아봅시다."
   ]
  },
  {
   "cell_type": "code",
   "execution_count": 31,
   "metadata": {},
   "outputs": [],
   "source": [
    "src_vocab = 8000\n",
    "src_tokenizer = Tokenizer(num_words=src_vocab)\n",
    "src_tokenizer.fit_on_texts(encoder_input_train)"
   ]
  },
  {
   "cell_type": "markdown",
   "metadata": {},
   "source": [
    "#### 정수 인코딩"
   ]
  },
  {
   "cell_type": "markdown",
   "metadata": {},
   "source": [
    "* texts_to_sequences() : 텍스트의 단어들을 모두 정수로 변환하는 정수 인코딩"
   ]
  },
  {
   "cell_type": "code",
   "execution_count": 32,
   "metadata": {},
   "outputs": [
    {
     "name": "stdout",
     "output_type": "stream",
     "text": [
      "[[12, 105, 8, 3, 358, 444, 18, 111, 47, 811, 125, 283, 116, 475, 811, 47, 184, 964, 372, 433, 283, 34, 632, 185, 788, 434, 2, 87, 5], [136, 160, 41, 1350, 435, 697, 469, 47, 8, 265, 35, 241, 64, 27, 563, 2, 20, 265, 853, 98, 37, 10, 93, 42], [1565, 3351, 79, 137, 1418, 72, 95, 6, 142, 3, 22, 4421, 381, 27, 122, 103, 634, 426, 22, 105]]\n"
     ]
    }
   ],
   "source": [
    "encoder_input_train = src_tokenizer.texts_to_sequences(encoder_input_train) \n",
    "encoder_input_test = src_tokenizer.texts_to_sequences(encoder_input_test)\n",
    "\n",
    "print(encoder_input_train[:3])"
   ]
  },
  {
   "cell_type": "markdown",
   "metadata": {},
   "source": [
    "### Summary 적용"
   ]
  },
  {
   "cell_type": "code",
   "execution_count": 33,
   "metadata": {},
   "outputs": [],
   "source": [
    "tar_tokenizer = Tokenizer()\n",
    "tar_tokenizer.fit_on_texts(decoder_input_train)"
   ]
  },
  {
   "cell_type": "markdown",
   "metadata": {},
   "source": [
    "* Summary는 6회 미만인 경우로 확인합니다."
   ]
  },
  {
   "cell_type": "code",
   "execution_count": 34,
   "metadata": {},
   "outputs": [
    {
     "name": "stdout",
     "output_type": "stream",
     "text": [
      "단어 집합(vocabulary)의 크기 : 10663\n",
      "등장 빈도가 5번 이하인 희귀 단어의 수: 8280\n",
      "단어 집합에서 희귀 단어를 제외시킬 경우의 단어 집합의 크기 2383\n",
      "단어 집합에서 희귀 단어의 비율: 77.65169276938948\n",
      "전체 등장 빈도에서 희귀 단어 등장 빈도 비율: 6.048532042148298\n"
     ]
    }
   ],
   "source": [
    "threshold = 6\n",
    "total_cnt = len(tar_tokenizer.word_index) # 단어의 수\n",
    "rare_cnt = 0 # 등장 빈도수가 threshold보다 작은 단어의 개수를 카운트\n",
    "total_freq = 0 # 훈련 데이터의 전체 단어 빈도수 총 합\n",
    "rare_freq = 0 # 등장 빈도수가 threshold보다 작은 단어의 등장 빈도수의 총 합\n",
    "\n",
    "# 단어와 빈도수의 쌍(pair)을 key와 value로 받는다.\n",
    "for key, value in tar_tokenizer.word_counts.items():\n",
    "    total_freq = total_freq + value\n",
    "\n",
    "    # 단어의 등장 빈도수가 threshold보다 작으면\n",
    "    if(value < threshold):\n",
    "        rare_cnt = rare_cnt + 1\n",
    "        rare_freq = rare_freq + value\n",
    "\n",
    "print('단어 집합(vocabulary)의 크기 :', total_cnt)\n",
    "print('등장 빈도가 %s번 이하인 희귀 단어의 수: %s'%(threshold - 1, rare_cnt))\n",
    "print('단어 집합에서 희귀 단어를 제외시킬 경우의 단어 집합의 크기 %s'%(total_cnt - rare_cnt))\n",
    "print(\"단어 집합에서 희귀 단어의 비율:\", (rare_cnt / total_cnt)*100)\n",
    "print(\"전체 등장 빈도에서 희귀 단어 등장 빈도 비율:\", (rare_freq / total_freq)*100)"
   ]
  },
  {
   "cell_type": "markdown",
   "metadata": {},
   "source": [
    "* 위 값을 통해 2천 정도로 크기를 잡읍시다."
   ]
  },
  {
   "cell_type": "code",
   "execution_count": 35,
   "metadata": {},
   "outputs": [
    {
     "name": "stdout",
     "output_type": "stream",
     "text": [
      "input\n",
      "input  [[1, 226, 9, 605, 21], [1, 26], [1, 958, 1677], [1, 8, 471, 64, 175, 33, 340, 959], [1, 257, 495]]\n",
      "target\n",
      "decoder  [[226, 9, 605, 21, 2], [26, 2], [958, 1677, 2], [8, 471, 64, 175, 33, 340, 959, 2], [257, 495, 2]]\n"
     ]
    }
   ],
   "source": [
    "tar_vocab = 2000\n",
    "tar_tokenizer = Tokenizer(num_words=tar_vocab) \n",
    "tar_tokenizer.fit_on_texts(decoder_input_train)\n",
    "tar_tokenizer.fit_on_texts(decoder_target_train)\n",
    "\n",
    "# 텍스트 시퀀스를 정수 시퀀스로 변환\n",
    "decoder_input_train = tar_tokenizer.texts_to_sequences(decoder_input_train) \n",
    "decoder_target_train = tar_tokenizer.texts_to_sequences(decoder_target_train)\n",
    "decoder_input_test = tar_tokenizer.texts_to_sequences(decoder_input_test)\n",
    "decoder_target_test = tar_tokenizer.texts_to_sequences(decoder_target_test)\n",
    "\n",
    "# 잘 변환되었는지 확인\n",
    "print('input')\n",
    "print('input ',decoder_input_train[:5])\n",
    "print('target')\n",
    "print('decoder ',decoder_target_train[:5])"
   ]
  },
  {
   "cell_type": "markdown",
   "metadata": {},
   "source": [
    "### 빈 샘플 삭제"
   ]
  },
  {
   "cell_type": "markdown",
   "metadata": {},
   "source": [
    "* 빈도수가 낮은 단어들을 제거해주면서 완전히 빈 문장이 되어버릴 수 도 있다.\n",
    "* 이는 길이가 비교적 긴 Text 보다 Summary에서 발생한다.\n",
    "* 그렇기에 해당코드에서는 Summary 에서만 체크한다.\n",
    "* 하지만 Summary 인 Decoder에 이미 input에 SOS target에 EOS 가 있으니 빈 문장은 1개의 길이를 가진다.\n",
    "* 이를 이용해서 빈 문장의 idx를 찾아서 제거한다. 해당 행자체를 제거한다.(해당 idx의 encoder input, decoder input, target)"
   ]
  },
  {
   "cell_type": "code",
   "execution_count": 36,
   "metadata": {},
   "outputs": [
    {
     "name": "stdout",
     "output_type": "stream",
     "text": [
      "삭제할 훈련 데이터의 개수 : 1311\n",
      "삭제할 테스트 데이터의 개수 : 353\n",
      "훈련 데이터의 개수 : 51080\n",
      "훈련 레이블의 개수 : 51080\n",
      "테스트 데이터의 개수 : 12744\n",
      "테스트 레이블의 개수 : 12744\n"
     ]
    }
   ],
   "source": [
    "drop_train = [index for index, sentence in enumerate(decoder_input_train) if len(sentence) == 1]\n",
    "drop_test = [index for index, sentence in enumerate(decoder_input_test) if len(sentence) == 1]\n",
    "\n",
    "print('삭제할 훈련 데이터의 개수 :', len(drop_train))\n",
    "print('삭제할 테스트 데이터의 개수 :', len(drop_test))\n",
    "\n",
    "encoder_input_train = [sentence for index, sentence in enumerate(encoder_input_train) if index not in drop_train]\n",
    "decoder_input_train = [sentence for index, sentence in enumerate(decoder_input_train) if index not in drop_train]\n",
    "decoder_target_train = [sentence for index, sentence in enumerate(decoder_target_train) if index not in drop_train]\n",
    "\n",
    "encoder_input_test = [sentence for index, sentence in enumerate(encoder_input_test) if index not in drop_test]\n",
    "decoder_input_test = [sentence for index, sentence in enumerate(decoder_input_test) if index not in drop_test]\n",
    "decoder_target_test = [sentence for index, sentence in enumerate(decoder_target_test) if index not in drop_test]\n",
    "\n",
    "print('훈련 데이터의 개수 :', len(encoder_input_train))\n",
    "print('훈련 레이블의 개수 :', len(decoder_input_train))\n",
    "print('테스트 데이터의 개수 :', len(encoder_input_test))\n",
    "print('테스트 레이블의 개수 :', len(decoder_input_test))"
   ]
  },
  {
   "cell_type": "markdown",
   "metadata": {},
   "source": [
    "### 패딩하기"
   ]
  },
  {
   "cell_type": "code",
   "execution_count": 37,
   "metadata": {},
   "outputs": [],
   "source": [
    "encoder_input_train = pad_sequences(encoder_input_train, maxlen=text_max_len, padding='post')\n",
    "encoder_input_test = pad_sequences(encoder_input_test, maxlen=text_max_len, padding='post')\n",
    "decoder_input_train = pad_sequences(decoder_input_train, maxlen=summary_max_len, padding='post')\n",
    "decoder_target_train = pad_sequences(decoder_target_train, maxlen=summary_max_len, padding='post')\n",
    "decoder_input_test = pad_sequences(decoder_input_test, maxlen=summary_max_len, padding='post')\n",
    "decoder_target_test = pad_sequences(decoder_target_test, maxlen=summary_max_len, padding='post')"
   ]
  },
  {
   "cell_type": "markdown",
   "metadata": {},
   "source": [
    "## 모델 설계"
   ]
  },
  {
   "cell_type": "markdown",
   "metadata": {},
   "source": [
    "### Encoder 설계"
   ]
  },
  {
   "cell_type": "markdown",
   "metadata": {},
   "source": [
    "<img src = 'img/Dropout.png' height = '50%' width = '50%'>"
   ]
  },
  {
   "cell_type": "markdown",
   "metadata": {},
   "source": [
    "* 임베딩 차원 : 128\n",
    "* hidden size : 256\n",
    "* LSTM을 총 3개의 층으로 구성\n",
    "* hidden state의 크기 증가 : LSTM 1개의 용량을 늘림\n",
    "* dropout : random으로 weight를 생략 - layer를 넘길때(ex) LSTM에서 다른 LSTM으로 갈때)\n",
    "* recurrent dropout : RNN(LSTM) 같이 자기 자신을 time_step으로 반복할 때도 Overfitting이 일어날 수도 있으니까 time_step 마다 dropout을 시켜줌"
   ]
  },
  {
   "cell_type": "code",
   "execution_count": 38,
   "metadata": {},
   "outputs": [
    {
     "name": "stderr",
     "output_type": "stream",
     "text": [
      "2022-09-02 18:09:35.536468: I tensorflow/core/platform/cpu_feature_guard.cc:193] This TensorFlow binary is optimized with oneAPI Deep Neural Network Library (oneDNN) to use the following CPU instructions in performance-critical operations:  AVX2 FMA\n",
      "To enable them in other operations, rebuild TensorFlow with the appropriate compiler flags.\n",
      "2022-09-02 18:09:36.081522: I tensorflow/core/common_runtime/gpu/gpu_device.cc:1532] Created device /job:localhost/replica:0/task:0/device:GPU:0 with 6322 MB memory:  -> device: 0, name: NVIDIA GeForce RTX 2070, pci bus id: 0000:01:00.0, compute capability: 7.5\n"
     ]
    }
   ],
   "source": [
    "from tensorflow.keras.layers import Input, LSTM, Embedding, Dense, Concatenate, TimeDistributed\n",
    "from tensorflow.keras.models import Model\n",
    "from tensorflow.keras.callbacks import EarlyStopping, ModelCheckpoint\n",
    "\n",
    "embedding_dim = 128\n",
    "hidden_size = 256\n",
    "\n",
    "# 인코더\n",
    "encoder_inputs = Input(shape=(text_max_len,))\n",
    "\n",
    "# 인코더의 임베딩 층\n",
    "enc_emb = Embedding(src_vocab, embedding_dim)(encoder_inputs)\n",
    "\n",
    "# 인코더의 LSTM 1\n",
    "# encoder_lstm1 = LSTM(hidden_size, return_sequences=True, return_state=True ,dropout = 0.4, recurrent_dropout = 0.4)\n",
    "encoder_lstm1 = LSTM(hidden_size, return_sequences=True, return_state=True ,dropout = 0.4)\n",
    "encoder_output1, state_h1, state_c1 = encoder_lstm1(enc_emb)\n",
    "\n",
    "# 인코더의 LSTM 2\n",
    "# encoder_lstm2 = LSTM(hidden_size, return_sequences=True, return_state=True, dropout=0.4, recurrent_dropout=0.4)\n",
    "encoder_lstm2 = LSTM(hidden_size, return_sequences=True, return_state=True, dropout=0.4)\n",
    "encoder_output2, state_h2, state_c2 = encoder_lstm2(encoder_output1)\n",
    "\n",
    "# 인코더의 LSTM 3\n",
    "# encoder_lstm3 = LSTM(hidden_size, return_state=True, return_sequences=True, dropout=0.4, recurrent_dropout=0.4)\n",
    "encoder_lstm3 = LSTM(hidden_size, return_state=True, return_sequences=True, dropout=0.4)\n",
    "encoder_outputs, state_h, state_c= encoder_lstm3(encoder_output2)"
   ]
  },
  {
   "cell_type": "markdown",
   "metadata": {},
   "source": [
    "### Decoder 설계"
   ]
  },
  {
   "cell_type": "markdown",
   "metadata": {},
   "source": [
    "* Decoder 설계시 Encoder와 거의 유사하지만 initial_state = h ,c 로 둔다."
   ]
  },
  {
   "cell_type": "code",
   "execution_count": 39,
   "metadata": {},
   "outputs": [],
   "source": [
    "# 디코더 설계\n",
    "decoder_inputs = Input(shape=(None,))\n",
    "\n",
    "# 디코더의 임베딩 층\n",
    "dec_emb_layer = Embedding(tar_vocab, embedding_dim)\n",
    "dec_emb = dec_emb_layer(decoder_inputs)\n",
    "\n",
    "# 디코더의 LSTM\n",
    "# decoder_lstm = LSTM(hidden_size, return_sequences=True, return_state=True, dropout=0.4, recurrent_dropout=0.2)\n",
    "decoder_lstm = LSTM(hidden_size, return_sequences=True, return_state=True, dropout=0.4)\n",
    "decoder_outputs, _, _ = decoder_lstm(dec_emb, initial_state=[state_h, state_c])"
   ]
  },
  {
   "cell_type": "markdown",
   "metadata": {},
   "source": [
    "* 출력 층"
   ]
  },
  {
   "cell_type": "code",
   "execution_count": 40,
   "metadata": {},
   "outputs": [
    {
     "name": "stdout",
     "output_type": "stream",
     "text": [
      "Model: \"model\"\n",
      "__________________________________________________________________________________________________\n",
      " Layer (type)                   Output Shape         Param #     Connected to                     \n",
      "==================================================================================================\n",
      " input_1 (InputLayer)           [(None, 50)]         0           []                               \n",
      "                                                                                                  \n",
      " embedding (Embedding)          (None, 50, 128)      1024000     ['input_1[0][0]']                \n",
      "                                                                                                  \n",
      " lstm (LSTM)                    [(None, 50, 256),    394240      ['embedding[0][0]']              \n",
      "                                 (None, 256),                                                     \n",
      "                                 (None, 256)]                                                     \n",
      "                                                                                                  \n",
      " input_2 (InputLayer)           [(None, None)]       0           []                               \n",
      "                                                                                                  \n",
      " lstm_1 (LSTM)                  [(None, 50, 256),    525312      ['lstm[0][0]']                   \n",
      "                                 (None, 256),                                                     \n",
      "                                 (None, 256)]                                                     \n",
      "                                                                                                  \n",
      " embedding_1 (Embedding)        (None, None, 128)    256000      ['input_2[0][0]']                \n",
      "                                                                                                  \n",
      " lstm_2 (LSTM)                  [(None, 50, 256),    525312      ['lstm_1[0][0]']                 \n",
      "                                 (None, 256),                                                     \n",
      "                                 (None, 256)]                                                     \n",
      "                                                                                                  \n",
      " lstm_3 (LSTM)                  [(None, None, 256),  394240      ['embedding_1[0][0]',            \n",
      "                                 (None, 256),                     'lstm_2[0][1]',                 \n",
      "                                 (None, 256)]                     'lstm_2[0][2]']                 \n",
      "                                                                                                  \n",
      " dense (Dense)                  (None, None, 2000)   514000      ['lstm_3[0][0]']                 \n",
      "                                                                                                  \n",
      "==================================================================================================\n",
      "Total params: 3,633,104\n",
      "Trainable params: 3,633,104\n",
      "Non-trainable params: 0\n",
      "__________________________________________________________________________________________________\n"
     ]
    }
   ],
   "source": [
    "# 디코더의 출력층\n",
    "decoder_softmax_layer = Dense(tar_vocab, activation='softmax')\n",
    "decoder_softmax_outputs = decoder_softmax_layer(decoder_outputs) \n",
    "\n",
    "# 모델 정의\n",
    "model = Model([encoder_inputs, decoder_inputs], decoder_softmax_outputs)\n",
    "model.summary()"
   ]
  },
  {
   "cell_type": "code",
   "execution_count": 41,
   "metadata": {},
   "outputs": [
    {
     "data": {
      "image/png": "[encoded data removed]",
      "text/plain": [
       "<IPython.core.display.Image object>"
      ]
     },
     "execution_count": 41,
     "metadata": {},
     "output_type": "execute_result"
    }
   ],
   "source": [
    "from tensorflow.keras.utils import plot_model\n",
    "\n",
    "plot_model(model, show_shapes=True)"
   ]
  },
  {
   "cell_type": "markdown",
   "metadata": {},
   "source": [
    "### Attention mechanism"
   ]
  },
  {
   "cell_type": "code",
   "execution_count": 42,
   "metadata": {},
   "outputs": [
    {
     "name": "stdout",
     "output_type": "stream",
     "text": [
      "Model: \"model_1\"\n",
      "__________________________________________________________________________________________________\n",
      " Layer (type)                   Output Shape         Param #     Connected to                     \n",
      "==================================================================================================\n",
      " input_1 (InputLayer)           [(None, 50)]         0           []                               \n",
      "                                                                                                  \n",
      " embedding (Embedding)          (None, 50, 128)      1024000     ['input_1[0][0]']                \n",
      "                                                                                                  \n",
      " lstm (LSTM)                    [(None, 50, 256),    394240      ['embedding[0][0]']              \n",
      "                                 (None, 256),                                                     \n",
      "                                 (None, 256)]                                                     \n",
      "                                                                                                  \n",
      " input_2 (InputLayer)           [(None, None)]       0           []                               \n",
      "                                                                                                  \n",
      " lstm_1 (LSTM)                  [(None, 50, 256),    525312      ['lstm[0][0]']                   \n",
      "                                 (None, 256),                                                     \n",
      "                                 (None, 256)]                                                     \n",
      "                                                                                                  \n",
      " embedding_1 (Embedding)        (None, None, 128)    256000      ['input_2[0][0]']                \n",
      "                                                                                                  \n",
      " lstm_2 (LSTM)                  [(None, 50, 256),    525312      ['lstm_1[0][0]']                 \n",
      "                                 (None, 256),                                                     \n",
      "                                 (None, 256)]                                                     \n",
      "                                                                                                  \n",
      " lstm_3 (LSTM)                  [(None, None, 256),  394240      ['embedding_1[0][0]',            \n",
      "                                 (None, 256),                     'lstm_2[0][1]',                 \n",
      "                                 (None, 256)]                     'lstm_2[0][2]']                 \n",
      "                                                                                                  \n",
      " attention_layer (AdditiveAtten  (None, None, 256)   256         ['lstm_3[0][0]',                 \n",
      " tion)                                                            'lstm_2[0][0]']                 \n",
      "                                                                                                  \n",
      " concat_layer (Concatenate)     (None, None, 512)    0           ['lstm_3[0][0]',                 \n",
      "                                                                  'attention_layer[0][0]']        \n",
      "                                                                                                  \n",
      " dense_1 (Dense)                (None, None, 2000)   1026000     ['concat_layer[0][0]']           \n",
      "                                                                                                  \n",
      "==================================================================================================\n",
      "Total params: 4,145,360\n",
      "Trainable params: 4,145,360\n",
      "Non-trainable params: 0\n",
      "__________________________________________________________________________________________________\n"
     ]
    }
   ],
   "source": [
    "from tensorflow.keras.layers import AdditiveAttention\n",
    "\n",
    "# 어텐션 층(어텐션 함수)\n",
    "attn_layer = AdditiveAttention(name='attention_layer')\n",
    "\n",
    "# 인코더와 디코더의 모든 time step의 hidden state를 어텐션 층에 전달하고 결과를 리턴\n",
    "attn_out = attn_layer([decoder_outputs, encoder_outputs])\n",
    "\n",
    "\n",
    "# 어텐션의 결과와 디코더의 hidden state들을 연결\n",
    "decoder_concat_input = Concatenate(axis=-1, name='concat_layer')([decoder_outputs, attn_out])\n",
    "\n",
    "# 디코더의 출력층\n",
    "decoder_softmax_layer = Dense(tar_vocab, activation='softmax')\n",
    "decoder_softmax_outputs = decoder_softmax_layer(decoder_concat_input)\n",
    "\n",
    "# 모델 정의\n",
    "model = Model([encoder_inputs, decoder_inputs], decoder_softmax_outputs)\n",
    "model.summary()"
   ]
  },
  {
   "cell_type": "markdown",
   "metadata": {},
   "source": [
    "* Encoder의 hidden state와 Decoder의 hidden state를 Attention 함수의 입력으로 사용\n",
    "* Attention의 결과를 Decoder의 hidden state와 연결"
   ]
  },
  {
   "cell_type": "markdown",
   "metadata": {},
   "source": [
    "## 모델 훈련하기"
   ]
  },
  {
   "cell_type": "markdown",
   "metadata": {},
   "source": [
    "* EarlyStopping : 특정 조건이 충족되면 훈련을 멈춤\n",
    "* 해당 코드에서는 val_loss 가 줄지않고 2개 증가하면 멈춤\n",
    "* 다른 예시로운 특정 수준의 이상의 prediction이 나오면 멈추게 할 수 있다."
   ]
  },
  {
   "cell_type": "code",
   "execution_count": 43,
   "metadata": {},
   "outputs": [
    {
     "name": "stdout",
     "output_type": "stream",
     "text": [
      "Epoch 1/50\n"
     ]
    },
    {
     "name": "stderr",
     "output_type": "stream",
     "text": [
      "2022-09-02 18:09:42.336385: W tensorflow/core/grappler/costs/op_level_cost_estimator.cc:690] Error in PredictCost() for the op: op: \"Softmax\" attr { key: \"T\" value { type: DT_FLOAT } } inputs { dtype: DT_FLOAT shape { unknown_rank: true } } device { type: \"GPU\" vendor: \"NVIDIA\" model: \"NVIDIA GeForce RTX 2070\" frequency: 1455 num_cores: 36 environment { key: \"architecture\" value: \"7.5\" } environment { key: \"cuda\" value: \"11020\" } environment { key: \"cudnn\" value: \"8100\" } num_registers: 65536 l1_cache_size: 24576 l2_cache_size: 4194304 shared_memory_size_per_multiprocessor: 65536 memory_size: 6630080512 bandwidth: 352064000 } outputs { dtype: DT_FLOAT shape { unknown_rank: true } }\n",
      "2022-09-02 18:09:44.014797: I tensorflow/stream_executor/cuda/cuda_dnn.cc:384] Loaded cuDNN version 8204\n"
     ]
    },
    {
     "name": "stdout",
     "output_type": "stream",
     "text": [
      "199/200 [============================>.] - ETA: 0s - loss: 2.7080"
     ]
    },
    {
     "name": "stderr",
     "output_type": "stream",
     "text": [
      "2022-09-02 18:09:56.780951: W tensorflow/core/grappler/costs/op_level_cost_estimator.cc:690] Error in PredictCost() for the op: op: \"Softmax\" attr { key: \"T\" value { type: DT_FLOAT } } inputs { dtype: DT_FLOAT shape { unknown_rank: true } } device { type: \"GPU\" vendor: \"NVIDIA\" model: \"NVIDIA GeForce RTX 2070\" frequency: 1455 num_cores: 36 environment { key: \"architecture\" value: \"7.5\" } environment { key: \"cuda\" value: \"11020\" } environment { key: \"cudnn\" value: \"8100\" } num_registers: 65536 l1_cache_size: 24576 l2_cache_size: 4194304 shared_memory_size_per_multiprocessor: 65536 memory_size: 6630080512 bandwidth: 352064000 } outputs { dtype: DT_FLOAT shape { unknown_rank: true } }\n"
     ]
    },
    {
     "name": "stdout",
     "output_type": "stream",
     "text": [
      "200/200 [==============================] - 20s 61ms/step - loss: 2.7073 - val_loss: 2.4188\n",
      "Epoch 2/50\n",
      "200/200 [==============================] - 11s 53ms/step - loss: 2.3623 - val_loss: 2.2688\n",
      "Epoch 3/50\n",
      "200/200 [==============================] - 11s 53ms/step - loss: 2.2178 - val_loss: 2.1565\n",
      "Epoch 4/50\n",
      "200/200 [==============================] - 11s 54ms/step - loss: 2.1058 - val_loss: 2.0809\n",
      "Epoch 5/50\n",
      "200/200 [==============================] - 11s 54ms/step - loss: 2.0189 - val_loss: 2.0154\n",
      "Epoch 6/50\n",
      "200/200 [==============================] - 11s 54ms/step - loss: 1.9530 - val_loss: 1.9767\n",
      "Epoch 7/50\n",
      "200/200 [==============================] - 11s 54ms/step - loss: 1.9001 - val_loss: 1.9484\n",
      "Epoch 8/50\n",
      "200/200 [==============================] - 11s 54ms/step - loss: 1.8539 - val_loss: 1.9184\n",
      "Epoch 9/50\n",
      "200/200 [==============================] - 11s 54ms/step - loss: 1.8114 - val_loss: 1.9057\n",
      "Epoch 10/50\n",
      "200/200 [==============================] - 11s 53ms/step - loss: 1.7742 - val_loss: 1.8879\n",
      "Epoch 11/50\n",
      "200/200 [==============================] - 11s 53ms/step - loss: 1.7393 - val_loss: 1.8765\n",
      "Epoch 12/50\n",
      "200/200 [==============================] - 11s 53ms/step - loss: 1.7071 - val_loss: 1.8701\n",
      "Epoch 13/50\n",
      "200/200 [==============================] - 11s 53ms/step - loss: 1.6777 - val_loss: 1.8640\n",
      "Epoch 14/50\n",
      "200/200 [==============================] - 11s 54ms/step - loss: 1.6489 - val_loss: 1.8598\n",
      "Epoch 15/50\n",
      "200/200 [==============================] - 11s 54ms/step - loss: 1.6200 - val_loss: 1.8623\n",
      "Epoch 16/50\n",
      "200/200 [==============================] - 11s 54ms/step - loss: 1.5944 - val_loss: 1.8597\n",
      "Epoch 17/50\n",
      "200/200 [==============================] - 11s 54ms/step - loss: 1.5697 - val_loss: 1.8625\n",
      "Epoch 18/50\n",
      "200/200 [==============================] - 11s 54ms/step - loss: 1.5446 - val_loss: 1.8592\n",
      "Epoch 19/50\n",
      "200/200 [==============================] - 11s 53ms/step - loss: 1.5211 - val_loss: 1.8630\n",
      "Epoch 20/50\n",
      "200/200 [==============================] - 11s 53ms/step - loss: 1.4989 - val_loss: 1.8643\n",
      "Epoch 20: early stopping\n"
     ]
    }
   ],
   "source": [
    "model.compile(optimizer='rmsprop', loss='sparse_categorical_crossentropy')\n",
    "es = EarlyStopping(monitor='val_loss', patience=2, verbose=1)\n",
    "history = model.fit(x=[encoder_input_train, decoder_input_train], y=decoder_target_train, \\\n",
    "          validation_data=([encoder_input_test, decoder_input_test], decoder_target_test), \\\n",
    "          batch_size=256, callbacks=[es], epochs=50)"
   ]
  },
  {
   "cell_type": "markdown",
   "metadata": {},
   "source": [
    "* 시각화"
   ]
  },
  {
   "cell_type": "code",
   "execution_count": 44,
   "metadata": {},
   "outputs": [
    {
     "data": {
      "image/png": "[encoded data removed]",
      "text/plain": [
       "<Figure size 432x288 with 1 Axes>"
      ]
     },
     "metadata": {
      "needs_background": "light"
     },
     "output_type": "display_data"
    }
   ],
   "source": [
    "plt.plot(history.history['loss'], label='train')\n",
    "plt.plot(history.history['val_loss'], label='test')\n",
    "plt.legend()\n",
    "plt.show()"
   ]
  },
  {
   "cell_type": "markdown",
   "metadata": {},
   "source": [
    "## Inference Model"
   ]
  },
  {
   "cell_type": "markdown",
   "metadata": {},
   "source": [
    "* 훈련 후 모델이 실제 동작 할때 : Inference 단계"
   ]
  },
  {
   "cell_type": "markdown",
   "metadata": {},
   "source": [
    "### 3개의 사전 준비"
   ]
  },
  {
   "cell_type": "code",
   "execution_count": 45,
   "metadata": {},
   "outputs": [],
   "source": [
    "src_index_to_word = src_tokenizer.index_word # 원문 단어 집합에서 정수 -> 단어를 얻음\n",
    "tar_word_to_index = tar_tokenizer.word_index # 요약 단어 집합에서 단어 -> 정수를 얻음\n",
    "tar_index_to_word = tar_tokenizer.index_word # 요약 단어 집합에서 정수 -> 단어를 얻음"
   ]
  },
  {
   "cell_type": "markdown",
   "metadata": {},
   "source": [
    "### 모델 설계"
   ]
  },
  {
   "cell_type": "markdown",
   "metadata": {},
   "source": [
    "* seq2seq : 훈련할 때와 실제 동작이 다르므로 그에 맞게 모델 설계\n",
    "* Encoder와 Decoder의 통짜 모델 하나만 준비.\n",
    "* 인퍼런스 단계에서는 정답이 없다. 인코더와 디코더 모델을 분리하여 설계"
   ]
  },
  {
   "cell_type": "code",
   "execution_count": 46,
   "metadata": {},
   "outputs": [],
   "source": [
    "# 인코더 설계\n",
    "encoder_model = Model(inputs=encoder_inputs, outputs=[encoder_outputs, state_h, state_c])\n",
    "\n",
    "# 이전 시점의 상태들을 저장하는 텐서\n",
    "decoder_state_input_h = Input(shape=(hidden_size,))\n",
    "decoder_state_input_c = Input(shape=(hidden_size,))\n",
    "\n",
    "dec_emb2 = dec_emb_layer(decoder_inputs)\n",
    "\n",
    "# 문장의 다음 단어를 예측하기 위해서 초기 상태(initial_state)를 이전 시점의 상태로 사용. 이는 뒤의 함수 decode_sequence()에 구현\n",
    "# 훈련 과정에서와 달리 LSTM의 리턴하는 은닉 상태와 셀 상태인 state_h와 state_c를 버리지 않음.\n",
    "decoder_outputs2, state_h2, state_c2 = decoder_lstm(dec_emb2, initial_state=[decoder_state_input_h, decoder_state_input_c])"
   ]
  },
  {
   "cell_type": "markdown",
   "metadata": {},
   "source": [
    "### Attention mechanism"
   ]
  },
  {
   "cell_type": "markdown",
   "metadata": {},
   "source": [
    "* 새로운 레이어를 추가\n",
    "* encoder의 h,c 와 decoder의 h,c를 가져온다.\n",
    "* encode의 h,c를 가져올 비율은 decoder h,c 로 결정한다."
   ]
  },
  {
   "cell_type": "code",
   "execution_count": 47,
   "metadata": {},
   "outputs": [],
   "source": [
    "# 어텐션 함수\n",
    "decoder_hidden_state_input = Input(shape=(text_max_len, hidden_size))\n",
    "attn_out_inf = attn_layer([decoder_outputs2, decoder_hidden_state_input])\n",
    "decoder_inf_concat = Concatenate(axis=-1, name='concat')([decoder_outputs2, attn_out_inf])\n",
    "\n",
    "# 디코더의 출력층\n",
    "decoder_outputs2 = decoder_softmax_layer(decoder_inf_concat) \n",
    "\n",
    "# 최종 디코더 모델\n",
    "decoder_model = Model(\n",
    "    [decoder_inputs] + [decoder_hidden_state_input,decoder_state_input_h, decoder_state_input_c],\n",
    "    [decoder_outputs2] + [state_h2, state_c2])"
   ]
  },
  {
   "cell_type": "markdown",
   "metadata": {},
   "source": [
    "### 인퍼런스 단계에서 실행한 함수 설정"
   ]
  },
  {
   "cell_type": "code",
   "execution_count": 48,
   "metadata": {},
   "outputs": [],
   "source": [
    "def decode_sequence(input_seq):\n",
    "    # 입력으로부터 인코더의 상태를 얻음\n",
    "    e_out, e_h, e_c = encoder_model.predict(input_seq)\n",
    "\n",
    "     # <SOS>에 해당하는 토큰 생성\n",
    "    target_seq = np.zeros((1,1))\n",
    "    target_seq[0, 0] = tar_word_to_index['sostoken']\n",
    "\n",
    "    stop_condition = False\n",
    "    decoded_sentence = ''\n",
    "    while not stop_condition: # stop_condition이 True가 될 때까지 루프 반복\n",
    "\n",
    "        output_tokens, h, c = decoder_model.predict([target_seq] + [e_out, e_h, e_c])\n",
    "        sampled_token_index = np.argmax(output_tokens[0, -1, :])\n",
    "        sampled_token = tar_index_to_word[sampled_token_index]\n",
    "\n",
    "        if (sampled_token!='eostoken'):\n",
    "            decoded_sentence += ' '+sampled_token\n",
    "\n",
    "        #  <eos>에 도달하거나 최대 길이를 넘으면 중단.\n",
    "        if (sampled_token == 'eostoken'  or len(decoded_sentence.split()) >= (summary_max_len-1)):\n",
    "            stop_condition = True\n",
    "\n",
    "        # 길이가 1인 타겟 시퀀스를 업데이트\n",
    "        target_seq = np.zeros((1,1))\n",
    "        target_seq[0, 0] = sampled_token_index\n",
    "\n",
    "        # 상태를 업데이트 합니다.\n",
    "        e_h, e_c = h, c\n",
    "\n",
    "    return decoded_sentence"
   ]
  },
  {
   "cell_type": "markdown",
   "metadata": {},
   "source": [
    "## 모델 테스트"
   ]
  },
  {
   "cell_type": "markdown",
   "metadata": {},
   "source": [
    "### 정수 -> 텍스트"
   ]
  },
  {
   "cell_type": "code",
   "execution_count": 49,
   "metadata": {},
   "outputs": [],
   "source": [
    "# 원문의 정수 시퀀스를 텍스트 시퀀스로 변환\n",
    "def seq2text(input_seq):\n",
    "    temp=''\n",
    "    for i in input_seq:\n",
    "        if (i!=0):\n",
    "            temp = temp + src_index_to_word[i]+' '\n",
    "    return temp\n",
    "\n",
    "# 요약문의 정수 시퀀스를 텍스트 시퀀스로 변환\n",
    "def seq2summary(input_seq):\n",
    "    temp=''\n",
    "    for i in input_seq:\n",
    "        if ((i!=0 and i!=tar_word_to_index['sostoken']) and i!=tar_word_to_index['eostoken']):\n",
    "            temp = temp + tar_index_to_word[i] + ' '\n",
    "    return temp"
   ]
  },
  {
   "cell_type": "code",
   "execution_count": 50,
   "metadata": {},
   "outputs": [
    {
     "name": "stdout",
     "output_type": "stream",
     "text": [
      "원문 : coffee perfect morning strong gives perfect smooth jolt crave highly recommended \n",
      "실제 요약 : my favorite \n",
      "1/1 [==============================] - 1s 845ms/step\n",
      "1/1 [==============================] - 0s 386ms/step\n",
      "1/1 [==============================] - 0s 18ms/step\n",
      "1/1 [==============================] - 0s 17ms/step\n"
     ]
    },
    {
     "name": "stderr",
     "output_type": "stream",
     "text": [
      "2022-09-02 18:13:23.546963: W tensorflow/core/grappler/costs/op_level_cost_estimator.cc:690] Error in PredictCost() for the op: op: \"Softmax\" attr { key: \"T\" value { type: DT_FLOAT } } inputs { dtype: DT_FLOAT shape { unknown_rank: true } } device { type: \"GPU\" vendor: \"NVIDIA\" model: \"NVIDIA GeForce RTX 2070\" frequency: 1455 num_cores: 36 environment { key: \"architecture\" value: \"7.5\" } environment { key: \"cuda\" value: \"11020\" } environment { key: \"cudnn\" value: \"8100\" } num_registers: 65536 l1_cache_size: 24576 l2_cache_size: 4194304 shared_memory_size_per_multiprocessor: 65536 memory_size: 6630080512 bandwidth: 352064000 } outputs { dtype: DT_FLOAT shape { unknown_rank: true } }\n"
     ]
    },
    {
     "name": "stdout",
     "output_type": "stream",
     "text": [
      "예측 요약 :  great coffee\n",
      "\n",
      "\n",
      "원문 : closest thing sugar taste ever used taste use xylitol coffee tea yum love \n",
      "실제 요약 : amazing \n",
      "1/1 [==============================] - 0s 17ms/step\n",
      "1/1 [==============================] - 0s 21ms/step\n",
      "1/1 [==============================] - 0s 19ms/step\n",
      "1/1 [==============================] - 0s 18ms/step\n",
      "예측 요약 :  great tea\n",
      "\n",
      "\n",
      "원문 : never bought cereal amazon highly doubt would ever price asking however cereal really awesome love many different foods yet still works really fun eat wondering get next serving batch fact healthy makes love even \n",
      "실제 요약 : completely awesome \n",
      "1/1 [==============================] - 0s 18ms/step\n",
      "1/1 [==============================] - 0s 17ms/step\n",
      "1/1 [==============================] - 0s 18ms/step\n",
      "1/1 [==============================] - 0s 18ms/step\n",
      "예측 요약 :  great cereal\n",
      "\n",
      "\n",
      "원문 : using sf bay coffee fog chaser several months become coffee choice select others change pace use fog chaser everyday selection highly recommend \n",
      "실제 요약 : fog chaser is great coffee \n",
      "1/1 [==============================] - 0s 18ms/step\n",
      "1/1 [==============================] - 0s 18ms/step\n",
      "1/1 [==============================] - 0s 23ms/step\n",
      "1/1 [==============================] - 0s 17ms/step\n",
      "예측 요약 :  great coffee\n",
      "\n",
      "\n",
      "원문 : good kind fat tastes great actually like taste better butter similar quality rich blends well foods way healthier butter aggressive tasting olive oil substituted butter every chance get good results please buy amazon keep stock costs much stores hard find \n",
      "실제 요약 : delicious butter substitute \n",
      "1/1 [==============================] - 0s 19ms/step\n",
      "1/1 [==============================] - 0s 17ms/step\n",
      "1/1 [==============================] - 0s 17ms/step\n",
      "1/1 [==============================] - 0s 17ms/step\n",
      "예측 요약 :  great tasting\n",
      "\n",
      "\n",
      "원문 : dogs love canidae maintenance formula life look ingredient list easy see find lots chicken turkey lamb rice sorts good stuff unlike lot subpar dog foods corn plus dogs love taste great value quality food would recommend dog owner \n",
      "실제 요약 : great quality food at great price \n",
      "1/1 [==============================] - 0s 18ms/step\n",
      "1/1 [==============================] - 0s 18ms/step\n",
      "1/1 [==============================] - 0s 18ms/step\n",
      "1/1 [==============================] - 0s 18ms/step\n",
      "1/1 [==============================] - 0s 18ms/step\n",
      "1/1 [==============================] - 0s 18ms/step\n",
      "1/1 [==============================] - 0s 18ms/step\n",
      "예측 요약 :  my dog loves this food\n",
      "\n",
      "\n",
      "원문 : good bang buck would think understand coffee minnesota somewhat far growing hard say much good balanced product rich burned bitter easy stomach caffeine reminds starbucks breakfast mild buy \n",
      "실제 요약 : rich and mild \n",
      "1/1 [==============================] - 0s 19ms/step\n",
      "1/1 [==============================] - 0s 17ms/step\n",
      "1/1 [==============================] - 0s 17ms/step\n",
      "1/1 [==============================] - 0s 17ms/step\n",
      "예측 요약 :  good stuff\n",
      "\n",
      "\n",
      "원문 : sale got pretty good coffee know would buy sale though \n",
      "실제 요약 : good coffee \n",
      "1/1 [==============================] - 0s 18ms/step\n",
      "1/1 [==============================] - 0s 18ms/step\n",
      "1/1 [==============================] - 0s 18ms/step\n",
      "1/1 [==============================] - 0s 19ms/step\n",
      "예측 요약 :  good coffee\n",
      "\n",
      "\n",
      "원문 : bought mix help curb cravings regular breads tried recipe box drop biscuits add water bake biscuits rise much picture box tasted delicious even kids devoured great staple carb conscious person recommend highly \n",
      "실제 요약 : just like the real thing \n",
      "1/1 [==============================] - 0s 18ms/step\n",
      "1/1 [==============================] - 0s 17ms/step\n",
      "1/1 [==============================] - 0s 18ms/step\n",
      "1/1 [==============================] - 0s 18ms/step\n",
      "1/1 [==============================] - 0s 17ms/step\n",
      "예측 요약 :  great for baking\n",
      "\n",
      "\n",
      "원문 : best popcorn ever home better fresh popped elsewhere thanks good product \n",
      "실제 요약 : excellent popcorn \n",
      "1/1 [==============================] - 0s 17ms/step\n",
      "1/1 [==============================] - 0s 20ms/step\n",
      "1/1 [==============================] - 0s 19ms/step\n",
      "1/1 [==============================] - 0s 20ms/step\n",
      "예측 요약 :  great popcorn\n",
      "\n",
      "\n",
      "원문 : note hydrogenated vegetable oil contain trans fat natural form skippy using oils \n",
      "실제 요약 : vegetable are not natural \n",
      "1/1 [==============================] - 0s 17ms/step\n",
      "1/1 [==============================] - 0s 19ms/step\n",
      "1/1 [==============================] - 0s 18ms/step\n",
      "1/1 [==============================] - 0s 17ms/step\n",
      "1/1 [==============================] - 0s 17ms/step\n",
      "예측 요약 :  not the best\n",
      "\n",
      "\n",
      "원문 : dog loves dingo bones good stuff dental bones much different original pack dog goes nuts last 30 help doggy breath great dental treat \n",
      "실제 요약 : this is the good stuff \n",
      "1/1 [==============================] - 0s 18ms/step\n",
      "1/1 [==============================] - 0s 19ms/step\n",
      "1/1 [==============================] - 0s 18ms/step\n",
      "1/1 [==============================] - 0s 17ms/step\n",
      "1/1 [==============================] - 0s 17ms/step\n",
      "1/1 [==============================] - 0s 17ms/step\n",
      "예측 요약 :  my dog loves these\n",
      "\n",
      "\n",
      "원문 : began using product four weeks ago absolutely love thrown given away products used hair stronger soft color relax hair since using breakage healing hair increasingly less use damage color along ultra shea products sold product try regret really says \n",
      "실제 요약 : wonderful \n",
      "1/1 [==============================] - 0s 17ms/step\n",
      "1/1 [==============================] - 0s 17ms/step\n",
      "1/1 [==============================] - 0s 17ms/step\n",
      "1/1 [==============================] - 0s 18ms/step\n",
      "예측 요약 :  great product\n",
      "\n",
      "\n",
      "원문 : love roasted chestnuts sometimes find looking season product excellent idea roasted chestnuts reasonable price delicious convenient come already roasted almost peeled although shell shells cut half time chestnuts come pretty easily simply cut definitely purchasing get love \n",
      "실제 요약 : roasted \n",
      "1/1 [==============================] - 0s 19ms/step\n",
      "1/1 [==============================] - 0s 18ms/step\n",
      "1/1 [==============================] - 0s 18ms/step\n",
      "1/1 [==============================] - 0s 18ms/step\n",
      "예측 요약 :  great taste\n",
      "\n",
      "\n",
      "원문 : stuff great order buddies time whole lot cheaper buying grocery stores \n",
      "실제 요약 : love the stuff \n",
      "1/1 [==============================] - 0s 17ms/step\n",
      "1/1 [==============================] - 0s 17ms/step\n",
      "1/1 [==============================] - 0s 17ms/step\n",
      "예측 요약 :  great\n",
      "\n",
      "\n",
      "원문 : longer colorado spice seeds colorado spice seeds best crisp peppery taste longer seeds soggy heavily washed seeds nothing good run mill stuff overpriced quality buy ad deceptive \n",
      "실제 요약 : no longer spice seeds \n",
      "1/1 [==============================] - 0s 16ms/step\n",
      "1/1 [==============================] - 0s 17ms/step\n",
      "1/1 [==============================] - 0s 17ms/step\n",
      "1/1 [==============================] - 0s 18ms/step\n",
      "예측 요약 :  great product\n",
      "\n",
      "\n",
      "원문 : never figure cat food manufacturers add meat products items fish catfood fortunately group listing additives byproducts line real food mentioned like hard get four little individual agree anything eat add natural value base seasoning go far good \n",
      "실제 요약 : cats vs me on this one also \n",
      "1/1 [==============================] - 0s 17ms/step\n",
      "1/1 [==============================] - 0s 17ms/step\n",
      "1/1 [==============================] - 0s 17ms/step\n",
      "1/1 [==============================] - 0s 17ms/step\n",
      "1/1 [==============================] - 0s 19ms/step\n",
      "1/1 [==============================] - 0s 17ms/step\n",
      "1/1 [==============================] - 0s 20ms/step\n",
      "예측 요약 :  my cat loves this food\n",
      "\n",
      "\n",
      "원문 : sister law introduced oil sold local farmer market adds nutty deliciousness salads soups green vegetable smoothies highly recommend product \n",
      "실제 요약 : for soups and smoothies \n",
      "1/1 [==============================] - 0s 31ms/step\n",
      "1/1 [==============================] - 0s 25ms/step\n",
      "1/1 [==============================] - 0s 20ms/step\n",
      "1/1 [==============================] - 0s 18ms/step\n",
      "예측 요약 :  great product\n",
      "\n",
      "\n",
      "원문 : needed easy make easy eat tastes good really follow cooking directions \n",
      "실제 요약 : delicious filling easy \n",
      "1/1 [==============================] - 0s 19ms/step\n",
      "1/1 [==============================] - 0s 18ms/step\n",
      "1/1 [==============================] - 0s 18ms/step\n",
      "1/1 [==============================] - 0s 18ms/step\n",
      "예측 요약 :  great product\n",
      "\n",
      "\n",
      "원문 : awesome tasting tea 16 oz highly recommend product taste great cost lot \n",
      "실제 요약 : awesome tasting tea \n",
      "1/1 [==============================] - 0s 18ms/step\n",
      "1/1 [==============================] - 0s 18ms/step\n",
      "1/1 [==============================] - 0s 19ms/step\n",
      "1/1 [==============================] - 0s 18ms/step\n",
      "예측 요약 :  great tea\n",
      "\n",
      "\n",
      "원문 : product fine quality green tea definitely enjoy experience highly reccomend product first tried tea restaurant flavor rich \n",
      "실제 요약 : an excellent green tea \n",
      "1/1 [==============================] - 0s 18ms/step\n",
      "1/1 [==============================] - 0s 18ms/step\n",
      "1/1 [==============================] - 0s 19ms/step\n",
      "1/1 [==============================] - 0s 19ms/step\n",
      "예측 요약 :  great tea\n",
      "\n",
      "\n",
      "원문 : love order carnation vanilla packets line dollar less stores also get days guys 50 per 10 packets saved 40 order cannot much better \n",
      "실제 요약 : as described \n",
      "1/1 [==============================] - 0s 18ms/step\n",
      "1/1 [==============================] - 0s 18ms/step\n",
      "1/1 [==============================] - 0s 19ms/step\n",
      "1/1 [==============================] - 0s 18ms/step\n",
      "1/1 [==============================] - 0s 18ms/step\n",
      "1/1 [==============================] - 0s 18ms/step\n",
      "예측 요약 :  great price great price\n",
      "\n",
      "\n",
      "원문 : omg venus sausages amazon amazon rock carrying venus best chinese sausages world grew eating bring back great memories dinner family try sweet sausages good throw rice cooker makes rice smell delicious \n",
      "실제 요약 : amazing \n",
      "1/1 [==============================] - 0s 18ms/step\n",
      "1/1 [==============================] - 0s 18ms/step\n",
      "1/1 [==============================] - 0s 18ms/step\n",
      "1/1 [==============================] - 0s 18ms/step\n",
      "1/1 [==============================] - 0s 18ms/step\n",
      "예측 요약 :  best marinade ever\n",
      "\n",
      "\n",
      "원문 : tried emerald products think one favorite emerald sea salt pepper cashew great love added pepper non traditional flavoring nuts took work snack delicious \n",
      "실제 요약 : delicious \n",
      "1/1 [==============================] - 0s 17ms/step\n",
      "1/1 [==============================] - 0s 18ms/step\n",
      "1/1 [==============================] - 0s 18ms/step\n",
      "1/1 [==============================] - 0s 17ms/step\n",
      "1/1 [==============================] - 0s 17ms/step\n",
      "1/1 [==============================] - 0s 18ms/step\n",
      "예측 요약 :  great taste and texture\n",
      "\n",
      "\n",
      "원문 : days using tea already feeling better chronic ibs incredible even starting low medications awesome \n",
      "실제 요약 : great product \n",
      "1/1 [==============================] - 0s 18ms/step\n",
      "1/1 [==============================] - 0s 17ms/step\n",
      "1/1 [==============================] - 0s 17ms/step\n",
      "1/1 [==============================] - 0s 18ms/step\n",
      "예측 요약 :  great product\n",
      "\n",
      "\n",
      "원문 : wonderful product great buy buy item least year love would highly recommend trying sure would love \n",
      "실제 요약 : best ever \n",
      "1/1 [==============================] - 0s 17ms/step\n",
      "1/1 [==============================] - 0s 18ms/step\n",
      "1/1 [==============================] - 0s 18ms/step\n",
      "예측 요약 :  great\n",
      "\n",
      "\n",
      "원문 : got hard chewers things really work brushing aspect swallowed pretty quickly three chihuahua mixes petite ones quickly get next size product good really help bit breath although biggest bad breath maker teeth need brushing substitute real brushing cleaning good part process though continue purchase product \n",
      "실제 요약 : kinda pricy but good \n",
      "1/1 [==============================] - 0s 19ms/step\n",
      "1/1 [==============================] - 0s 18ms/step\n",
      "1/1 [==============================] - 0s 18ms/step\n",
      "1/1 [==============================] - 0s 18ms/step\n",
      "예측 요약 :  great product\n",
      "\n",
      "\n",
      "원문 : pg tips absolutely best tea money side \n",
      "실제 요약 : pretty good \n",
      "1/1 [==============================] - 0s 18ms/step\n",
      "1/1 [==============================] - 0s 18ms/step\n",
      "1/1 [==============================] - 0s 18ms/step\n",
      "1/1 [==============================] - 0s 18ms/step\n",
      "1/1 [==============================] - 0s 17ms/step\n",
      "예측 요약 :  twinings english tea\n",
      "\n",
      "\n",
      "원문 : husband love cup little pricy great cup joe went box month \n",
      "실제 요약 : favorite cup \n",
      "1/1 [==============================] - 0s 18ms/step\n",
      "1/1 [==============================] - 0s 19ms/step\n",
      "1/1 [==============================] - 0s 19ms/step\n",
      "1/1 [==============================] - 0s 18ms/step\n",
      "예측 요약 :  great coffee\n",
      "\n",
      "\n",
      "원문 : quaker soft baked cereal bar banana nut bread flavor good could definitely eat one sitting yummy \n",
      "실제 요약 : tried this bar and loved it \n",
      "1/1 [==============================] - 0s 18ms/step\n",
      "1/1 [==============================] - 0s 17ms/step\n",
      "1/1 [==============================] - 0s 18ms/step\n",
      "1/1 [==============================] - 0s 19ms/step\n",
      "1/1 [==============================] - 0s 18ms/step\n",
      "1/1 [==============================] - 0s 18ms/step\n",
      "예측 요약 :  good for quick snack\n",
      "\n",
      "\n",
      "원문 : little apprehensive purchasing biscuits amazon reviews said biscuits smashed upon arrival mine arrived bubble wrap box fine hopefully read reviews improved shipping biscuits good think 50 less fat make little drier need buy non reduced fat biscuits next time \n",
      "실제 요약 : perfect condition \n",
      "1/1 [==============================] - 0s 19ms/step\n",
      "1/1 [==============================] - 0s 18ms/step\n",
      "1/1 [==============================] - 0s 18ms/step\n",
      "1/1 [==============================] - 0s 18ms/step\n",
      "예측 요약 :  great for\n",
      "\n",
      "\n",
      "원문 : believe sugar fat product still enough flavor satisfying truly shocked order \n",
      "실제 요약 : good \n",
      "1/1 [==============================] - 0s 18ms/step\n",
      "1/1 [==============================] - 0s 18ms/step\n",
      "1/1 [==============================] - 0s 19ms/step\n",
      "1/1 [==============================] - 0s 18ms/step\n",
      "예측 요약 :  good stuff\n",
      "\n",
      "\n",
      "원문 : overall decent taste expected also expect coconut water concentrate read fine print better next time 100 pure coconut water always better imho added sugar would really necessary pure coconut water concentrate \n",
      "실제 요약 : disappointed \n",
      "1/1 [==============================] - 0s 18ms/step\n",
      "1/1 [==============================] - 0s 19ms/step\n",
      "1/1 [==============================] - 0s 18ms/step\n",
      "1/1 [==============================] - 0s 17ms/step\n",
      "예측 요약 :  coconut water\n",
      "\n",
      "\n",
      "원문 : mint taste natural flavor mint sugar honey make sweet want sweet get southern style tea try organic mint change see different \n",
      "실제 요약 : where is the mint \n",
      "1/1 [==============================] - 0s 19ms/step\n",
      "1/1 [==============================] - 0s 31ms/step\n",
      "1/1 [==============================] - 0s 26ms/step\n",
      "예측 요약 :  sweet\n",
      "\n",
      "\n",
      "원문 : hooked stuff great beer spaghetti beer salad beer soups beer sandwiches beer well get tried make cannot get twang \n",
      "실제 요약 : great for cooking or up \n",
      "1/1 [==============================] - 0s 26ms/step\n",
      "1/1 [==============================] - 0s 25ms/step\n",
      "1/1 [==============================] - 0s 19ms/step\n",
      "1/1 [==============================] - 0s 19ms/step\n",
      "1/1 [==============================] - 0s 18ms/step\n",
      "예측 요약 :  best canned chowder\n",
      "\n",
      "\n",
      "원문 : delicious honey hard find raw honey tastes good price great use honey regularly recommend subscribe save option product disappointed \n",
      "실제 요약 : honey \n",
      "1/1 [==============================] - 0s 18ms/step\n",
      "1/1 [==============================] - 0s 18ms/step\n",
      "1/1 [==============================] - 0s 26ms/step\n",
      "예측 요약 :  honey\n",
      "\n",
      "\n",
      "원문 : love product dog cats crazy good additives dehydrated beef careful many cause diarrhea cut small lb quite problem smell like liver want carry pocket without putting plastic excellent training \n",
      "실제 요약 : fantastic wholesome treat \n",
      "1/1 [==============================] - 0s 21ms/step\n",
      "1/1 [==============================] - 0s 21ms/step\n",
      "1/1 [==============================] - 0s 19ms/step\n",
      "1/1 [==============================] - 0s 18ms/step\n",
      "1/1 [==============================] - 0s 19ms/step\n",
      "1/1 [==============================] - 0s 17ms/step\n",
      "1/1 [==============================] - 0s 17ms/step\n",
      "예측 요약 :  my cats love this food\n",
      "\n",
      "\n",
      "원문 : second maker last 15 months invest money go ahead cups keurig even oh great first know buy black something like fifty dollars last years better keurig well hundred cheaper one upgrade like 150 00 thats opinion \n",
      "실제 요약 : worst coffee maker you can buy \n",
      "1/1 [==============================] - 0s 19ms/step\n",
      "1/1 [==============================] - 0s 19ms/step\n",
      "1/1 [==============================] - 0s 18ms/step\n",
      "1/1 [==============================] - 0s 17ms/step\n",
      "예측 요약 :  great value\n",
      "\n",
      "\n",
      "원문 : cats love purina fancy feast gourmet cat food savory chicken turkey buy product \n",
      "실제 요약 : it is exactly as \n",
      "1/1 [==============================] - 0s 18ms/step\n",
      "1/1 [==============================] - 0s 18ms/step\n",
      "1/1 [==============================] - 0s 18ms/step\n",
      "1/1 [==============================] - 0s 18ms/step\n",
      "1/1 [==============================] - 0s 18ms/step\n",
      "예측 요약 :  cats love it\n",
      "\n",
      "\n",
      "원문 : dogs like greenie morning makes happy also helps reduce dog breath know provides dental \n",
      "실제 요약 : dog dental chews \n",
      "1/1 [==============================] - 0s 17ms/step\n",
      "1/1 [==============================] - 0s 18ms/step\n",
      "1/1 [==============================] - 0s 18ms/step\n",
      "예측 요약 :  greenies\n",
      "\n",
      "\n",
      "원문 : recieved vanilla beans nice bundle ziploc bag smell wonderful even bag husband used vanilla beans make vanilla extract beans moist easy work impressed would definitely buy vanilla beans cannot wait see homemade vanilla extract turns \n",
      "실제 요약 : wonderful vanilla beans \n",
      "1/1 [==============================] - 0s 17ms/step\n",
      "1/1 [==============================] - 0s 18ms/step\n",
      "1/1 [==============================] - 0s 18ms/step\n",
      "1/1 [==============================] - 0s 16ms/step\n",
      "예측 요약 :  great value\n",
      "\n",
      "\n",
      "원문 : first time order coffee amazon tully house blend good brand good flavor delivered house two days amazon said would great ordering shortly \n",
      "실제 요약 : first time order tully coffee \n",
      "1/1 [==============================] - 0s 18ms/step\n",
      "1/1 [==============================] - 0s 20ms/step\n",
      "1/1 [==============================] - 0s 19ms/step\n",
      "1/1 [==============================] - 0s 17ms/step\n",
      "예측 요약 :  good coffee\n",
      "\n",
      "\n",
      "원문 : like title says best ghee market fantastic grass fed organic could ask oh right delicious \n",
      "실제 요약 : best ghee on the market \n",
      "1/1 [==============================] - 0s 18ms/step\n",
      "1/1 [==============================] - 0s 18ms/step\n",
      "1/1 [==============================] - 0s 19ms/step\n",
      "1/1 [==============================] - 0s 17ms/step\n",
      "예측 요약 :  best ever\n",
      "\n",
      "\n",
      "원문 : good snap bite nice honey beef taste snacks always excellent customer service throw samples well \n",
      "실제 요약 : really good \n",
      "1/1 [==============================] - 0s 18ms/step\n",
      "1/1 [==============================] - 0s 18ms/step\n",
      "1/1 [==============================] - 0s 19ms/step\n",
      "예측 요약 :  good\n",
      "\n",
      "\n",
      "원문 : excellent product non gluten diet good alone snack make light meal using rice crackers base spreads little crispy sandwiches excellent substitute crackers containing gluten criticism wish price would come \n",
      "실제 요약 : excellent non gluten product \n",
      "1/1 [==============================] - 0s 18ms/step\n",
      "1/1 [==============================] - 0s 17ms/step\n",
      "1/1 [==============================] - 0s 18ms/step\n",
      "1/1 [==============================] - 0s 18ms/step\n",
      "예측 요약 :  great product\n",
      "\n",
      "\n",
      "원문 : good product fast delivery follow hot drinking time day buy \n",
      "실제 요약 : very hot \n",
      "1/1 [==============================] - 0s 18ms/step\n",
      "1/1 [==============================] - 0s 18ms/step\n",
      "1/1 [==============================] - 0s 18ms/step\n",
      "1/1 [==============================] - 0s 19ms/step\n",
      "예측 요약 :  good stuff\n",
      "\n",
      "\n",
      "원문 : say already knows better coffee folgers wish affordable situation order line shopping needs online hard get military base wish wish wish \n",
      "실제 요약 : folgers still the best \n",
      "1/1 [==============================] - 0s 18ms/step\n",
      "1/1 [==============================] - 0s 17ms/step\n",
      "1/1 [==============================] - 0s 18ms/step\n",
      "1/1 [==============================] - 0s 18ms/step\n",
      "예측 요약 :  great coffee\n",
      "\n",
      "\n",
      "원문 : wanting try cereal time finally went sale local supermarket expected texture instead light crunch good amount sugar super sweet also expected flavor strong rather bad however would purchase sale coupon expected rather boring different quaker oh tasty cereal \n",
      "실제 요약 : it is ok \n",
      "1/1 [==============================] - 0s 19ms/step\n",
      "1/1 [==============================] - 0s 19ms/step\n",
      "1/1 [==============================] - 0s 28ms/step\n",
      "1/1 [==============================] - 0s 17ms/step\n",
      "1/1 [==============================] - 0s 18ms/step\n",
      "1/1 [==============================] - 0s 18ms/step\n",
      "1/1 [==============================] - 0s 17ms/step\n",
      "예측 요약 :  not bad but not great\n",
      "\n",
      "\n",
      "원문 : well price got cannot beat sure raisins sugar classic cereal tastes great kids love \n",
      "실제 요약 : kellogg raisin bran \n",
      "1/1 [==============================] - 0s 17ms/step\n",
      "1/1 [==============================] - 0s 18ms/step\n",
      "1/1 [==============================] - 0s 18ms/step\n",
      "1/1 [==============================] - 0s 18ms/step\n",
      "예측 요약 :  great snack\n",
      "\n",
      "\n",
      "원문 : great everyday tea produces consistent cup rich flavorful without getting harsh drink quite bit high quality loose leaf tea also quality convenience pg tips cannot beat \n",
      "실제 요약 : great everyday tea \n",
      "1/1 [==============================] - 0s 17ms/step\n",
      "1/1 [==============================] - 0s 17ms/step\n",
      "1/1 [==============================] - 0s 18ms/step\n",
      "1/1 [==============================] - 0s 17ms/step\n",
      "예측 요약 :  great tea\n",
      "\n",
      "\n"
     ]
    }
   ],
   "source": [
    "for i in range(50, 100):\n",
    "    print(\"원문 :\", seq2text(encoder_input_test[i]))\n",
    "    print(\"실제 요약 :\", seq2summary(decoder_input_test[i]))\n",
    "    print(\"예측 요약 :\", decode_sequence(encoder_input_test[i].reshape(1, text_max_len)))\n",
    "    print(\"\\n\")"
   ]
  },
  {
   "cell_type": "markdown",
   "metadata": {},
   "source": [
    "## 추출적 요약"
   ]
  },
  {
   "cell_type": "markdown",
   "metadata": {},
   "source": [
    "* 추상적 요약이 아닌 추출적 요약"
   ]
  },
  {
   "cell_type": "markdown",
   "metadata": {},
   "source": [
    "### 데이터 다운로드"
   ]
  },
  {
   "cell_type": "code",
   "execution_count": 2,
   "metadata": {},
   "outputs": [],
   "source": [
    "import requests\n",
    "from summa.summarizer import summarize"
   ]
  },
  {
   "cell_type": "code",
   "execution_count": 3,
   "metadata": {},
   "outputs": [],
   "source": [
    "text = requests.get('http://rare-technologies.com/the_matrix_synopsis.txt').text"
   ]
  },
  {
   "cell_type": "code",
   "execution_count": 4,
   "metadata": {},
   "outputs": [
    {
     "name": "stdout",
     "output_type": "stream",
     "text": [
      "The screen is filled with green, cascading code which gives way to the title, The Matrix.\n",
      "\n",
      "A phone rings and text appears on the screen: \"Call trans opt: received. 2-19-98 13:24:18 REC: Log>\" As a conversation takes place between Trinity (Carrie-Anne Moss) and Cypher (Joe Pantoliano), two free humans, a table of random green numbers are being scanned and individual numbers selected, creating a series of digits not unlike an ordinary phone number, as if a code is being deciphered or a call is being traced.\n",
      "\n",
      "Trinity discusses some unknown person. Cypher taunts Trinity, suggesting she enjoys watching him. Trinity counters that \"Morpheus (Laurence Fishburne) says he may be 'the One',\" just as the sound of a number being selected alerts Trinity that someone may be tracing their call. She ends the call.\n",
      "\n",
      "Armed policemen move down a darkened, decrepit hallway in the Heart O' the City Hotel, their flashlight beam bouncing just ahead of them. They come to room 303, kick down the door and find a woman dressed in black, facing away from them. It's Trinity. She brings her hands up from the laptop she's working on at their command.\n",
      "\n",
      "Outside the hotel a car drives up and three agents appear in neatly pressed black suits. They are Agent Smith (Hugo Weaving), Agent Brown (Paul Goddard), and Agent Jones (Robert Taylor). Agent Smith and the presiding police lieutenant argue. Agent Smith admonishes the policeman that they were given specific orders to contact the agents first, for their\n"
     ]
    }
   ],
   "source": [
    "print(text[:1500])"
   ]
  },
  {
   "cell_type": "markdown",
   "metadata": {},
   "source": [
    "### Summarize 사용"
   ]
  },
  {
   "cell_type": "markdown",
   "metadata": {},
   "source": [
    "인자\n",
    "* text (str) : 요약할 테스트.\n",
    "* ratio (float, optional) – 요약문에서 원본에서 선택되는 문장 비율. 0~1 사이값\n",
    "* words (int or None, optional) – 출력에 포함할 단어 수.  \n",
    "  만약, ratio와 함께 두 파라미터가 모두 제공되는 경우 ratio는 무시한다.\n",
    "* split (bool, optional) – True면 문장 list / False는 조인(join)된 문자열을 반환"
   ]
  },
  {
   "cell_type": "code",
   "execution_count": 8,
   "metadata": {},
   "outputs": [
    {
     "name": "stdout",
     "output_type": "stream",
     "text": [
      "Summary:\n",
      "Morpheus, Trinity, Neo, Apoc, Switch, Mouse and Cypher are jacked into the Matrix.\n",
      "Trinity brings the helicopter down to the floor that Morpheus is on and Neo opens fire on the three Agents.\n",
      "The screen is filled with green, cascading code which gives way to the title, The Matrix.\n",
      "\n",
      "A phone rings and text appears on the screen: \"Call trans opt: received. 2-19-98 13:24:18 REC: Log>\" As a conversation takes place between Trinity (Carrie-Anne Moss) and Cypher (Joe Pantoliano), two free humans, a table of random green numbers are being scanned and individual numbers selected, creating a series of digits not unlike an ordinary phone number, as if a code is being deciphered or a call is being traced.\n",
      "\n",
      "Trinity discusses some unknown person. Cypher taunts Trinity, suggesting she enjoys watching him. Trinity counters that \"Morpheus (Laurence Fishburne) says he may be 'the One',\" just as the sound of a number being selected alerts Trinity that someone may be tracing their call. She ends the call.\n",
      "\n",
      "Armed policemen move down a darkened, decrepit hallway in the Heart O' the City Hotel, their flashlight beam bouncing just ahead of them. They come to room 303, kick down the door and find a woman dressed in black, facing away from them. It's Trinity. She brings her hands up from the laptop she's working on at their command.\n",
      "\n",
      "Outside the hotel a car drives up and three agents appear in neatly pressed black suits. They are Agent Smith (Hugo Weaving), Agent Brown (Paul Goddard), and Agent Jones (Robert Taylor). Agent Smith and the presiding police lieutenant argue. Agent Smith admonishes the policeman that they were given specific orders to contact the agents first, for their protection. The lieutenant dismisses this and says that they can handle \"one little girl\" and that he has two units that are bringing her down at that very moment. Agent Smith replies: \"No, Lieutenant. Your men are already dead.\"\n",
      "\n",
      "Inside, Trinity easily defeats the six policemen sent to apprehend her, using fighting and evasion techniques that seem to defy gravity. She calls Morpheus, letting him know that the line has been traced, though she doesn't know how. Morpheus informs her that she will have to \"make it to another exit,\" and that Agents are heading up after her.\n",
      "\n",
      "A fierce rooftop chase ensues with Trinity and an Agent leaping from one building to the next, astonishing the policemen left behind. Trinity makes a daring leap across an alley and through a small window. She has momentarily lost her pursuers and makes it to a public phone booth on the street level. The phone begins to ring. As she approaches it a garbage truck, driven by Agent Smith, careens towards the phone booth. Trinity makes a desperate dash to the phone, picking it up just moments before the truck smashes the booth into a brick wall. The three Agents reunite at the front of the truck. There is no body in the wreckage. \"She got out,\" one says. The other says, \"The informant is real.\" \"We have the name of their next target,\" says the other, \"His name is Neo.\"\n",
      "\n",
      "Neo (Keanu Reeves), a hacker with thick black hair and a sallow appearance, is asleep at his monitor. Notices about a manhunt for a man named Morpheus scroll across his screen as he sleeps. Suddenly Neo's screen goes blank and a series of text messages appear: \"Wake up, Neo.\" \"The Matrix has you.\" \"Follow the White Rabbit.\" Then, the text says \"Knock, knock, Neo...\" just as he reads it, a knock comes at the door of his apartment, 101. It's a group of ravers and Neo gives them a contraband disc he has secreted in a copy of Simulacra and Simulation. The lead raver asks him to join them and Neo demurs until he sees the tattoo of a small white rabbit on the shoulder of a seductive girl in the group.\n",
      "\n",
      "At a rave bar Neo stands alone and aloof as the group he's with continue partying. Trinity approaches him and introduces herself. Neo recognizes her name; she was a famous hacker and had cracked the IRS database. She tells him that he is in great danger, that they are watching him and that she knows that he is searching for answers, particularly to the most important question of all: what is the Matrix? The pulsing music of the bar gives way to the repetitious blare of Neo's alarm clock; it's 9:18 and he's late for work.\n",
      "\n",
      "At his job at Metacortex, a leading software company housed in an ominous high rise, Neo is berated by his boss for having a problem with authority, for thinking he's special. Neo listens to his boss, but his attention is on the persons cleaning the window of the office. Back at his bleak cubicle Neo receives a delivery as \"Thomas Anderson.\" Upon opening the package he finds a cellphone which immediately rings. On the other end is Morpheus, who informs Neo that they've both run out of time and that \"they\" are coming for him. Morpheus tells him to slowly look up, toward the elevator. Agents Smith, Jones, and Brown are there, obviously looking for him, as a woman points towards Neo's cube. Morpheus tries to guide Neo out of the building but when he is instructed to get on a scaffolding and take it to the roof Neo rejects Morpheus's advice, allowing himself to be taken by the Agents.\n",
      "\n",
      "In an interrogation room the Agents confront Neo. They've had their eye on him for some time. He lives a dual existence: one life as Thomas A. Anderson, a software engineer for a Metacortex, the other life as Neo, a computer hacker \"guilty of virtually every computer crime we have a law for.\" Agent Smith asks him to help them capture Morpheus, a dangerous terrorist, in exchange for amnesty. Neo gives them the finger and asks for his phone call. Mr. Smith asks what good is a phone call if he's unable to speak. Neo finds that his lips have fused together. Panicked, he is thrown on the interrogation table by the Agents and they implant a shrimp-like probe, a bug, in his stomach, entering through his belly-button.\n",
      "\n",
      "Neo awakens with a start in his own bed, assuming it has all been a bad dream. His phone rings and Morpheus is on the other line. He tells Neo that the line is tapped but they've underestimated his importance. Morpheus tells Neo he is the One and to meet him at the Adams St. bridge. There he is picked up by Trinity and two others in a car; they all wear black latex and leather. A woman in the front seat, Switch (Belinda McClory), pulls a gun on him and tells him to take off his shirt. Trinity tells him it's for their mutual protection and that he has to trust her. He takes off his shirt and she uses a device to remove the probe that Neo believed had been part of a nightmare. Trinity drops the bug out into the road where it slowly goes dark in the rain.\n",
      "\n",
      "Trinity takes Neo to Morpheus. Morpheus explains that he's been searching for Neo his entire life and asks if Neo feels like \"Alice in Wonderland, falling down the rabbit hole.\" He explains to Neo that they exist in the Matrix, a false reality that has been constructed for humans to hide the truth. The truth is that everyone in the world is a slave, born into bondage. Morpheus holds out two pills. In his left palm is a blue pill. If Neo takes it he will wake up in his bed and \"believe whatever you want to believe.\" But if he takes the red pill in Morpheus's right hand, then \"you stay in Wonderland and I show you how deep the rabbit hole goes.\" Neo takes the red pill.\n",
      "\n",
      "As the rest of Morpheus's crew straps him into a chair, Neo is told that pill he took is part of a trace program, to \"disrupt his input/output carrier signal\" so that they can pinpoint him. Neo looks at a shattered mirror placed next to him which miraculously reforms itself. Neo touches the surface and the silver begins to creep over his skin, engulfing him as Morpheus's crew attempt to locate something on the monitors around them. The silver takes Neo over and he blacks out.\n",
      "\n",
      "He awakens inside a pinkish/purple embryonic pod, extending from the side of a circular building, a massive power plant. He is hairless and naked, with thick black tubes snaking down his throat, plugged into the back of his skull, his spine, and invading most of the rest of his body. He finds his pod is open and that he is surrounded by tower after tower of pods just like his, all filled with bodies. Suddenly a menacing, hovering nurse robot grabs him by the throat. The tubes detach and Neo is flushed down a tube into an underground pool of filthy water. Just as he's about to drown in the muck a hovercraft appears above him, snags him and hauls him into its cargo bay. Neo finds himself surrounded by Morpheus's crew again, but they are dressed differently, in simple knit garments. Just before Neo passes out Morpheus says to him, \"Welcome to the real world.\"\n",
      "\n",
      "Neo drifts in and out of consciousness. At one point he asks, \"Am I dead?\" \"Far from it,\" replies Morpheus. Again he wakes, his body a pincushion of acupuncture. \"Why do my eyes hurt?\" he asks. \"You've never used them,\" Morpheus replies.\n",
      "\n",
      "Neo finally wakes, fully clothed, with a short shock of hair on his head. He removes a connector that is sunk deep into his arm and reaches to find the large socket at the back of his neck when Morpheus enters the room. \"What is this place?\" Neo asks. \"The more important question is when,\" says Morpheus, \"You believe it is the year 1999, when in fact it is closer to the year 2199.\" Morpheus goes on to say that they really don't know when it is. He gives Neo a tour of his ship, the Nebuchadnezzar (they pass a plaque stating it was built in 2069). Neo is introduced to Morpheus's crew including Trinity; Apoc (Julian Arahanga), a man with long, flowing black hair; Switch; Cypher (bald with a goatee); two brawny brothers, Tank (Marcus Chong) and Dozer (Anthony Ray Parker); and a young, thin man named Mouse (Matt Doran).\n",
      "\n",
      "Morpheus gets to the point. \"You wanted to know about the Matrix,\" he says, ushering him to a chair. Neo sits down in it and Trinity straps him in. A long probe is inserted into the socket at the back of Neo's skull.\n",
      "\n",
      "Neo wakes in a world of all white. He is in the Construct, a \"loading platform\" that Morpheus and his team use to prepare newly freed humans to deal with the Matrix world. Gone are the sockets in Neo's arms and neck. He has hair again. Morpheus tells him that what he is experiencing of himself is the \"residual self image, the mental projection of your digital self\" and bids him to sit while he explains the truth. \"This,\" he says, showing an image of a modern city, \"is the world that you know.\" A thing that really exists \"only as part of a neural, interactive simulation that we call the Matrix.\"\n",
      "\n",
      "Morpheus then shows Neo the world as it truly exists today, a scarred, desolate emptiness with charred, abandoned buildings, black earth, and a shrouded sky.\n",
      "\n",
      "Morpheus goes on to say that \"at some point in the early 21st century all of mankind was united in celebration as we gave birth\" to artificial intelligence, a \"singular consciousness that birthed an entire race of machines.\"\n",
      "\n",
      "Someone started a war, and no one knows who, but it was known that it was mankind who blotted out the sky, attempting to deprive the machines of the solar power they required to function. Instead the machines turned to humans as a power source; Mopheus explains that a human's body provides \"more electricity than a 120 volt battery and over 25k BTUs in body heat.\" Morpheus shows Neo fields where machines grow human beings, connecting them to their outlets, ensconcing them in their pods, and feeding them with the liquefied remains of other human beings. \"The Matrix,\" says Morpheus, \"is a computer-generated dreamworld created to keep us under control, to turn us...\" into a mere power source, into coppertop batteries.\n",
      "\n",
      "Neo rejects this information so feverishly that he pulls himself out of the Construct. He is back in the chair on the hovercraft. He fights to free himself from this harsh reality, only to end up vomiting on the floor and passing out.\n",
      "\n",
      "When Neo wakes up in his bunk, Morpheus is beside him. \"I can't go back, can I?\" Neo asks. \"No,\" says Morpheus. He apologizes to Neo for breaking a cardinal rule: after a certain age people aren't brought out of their simulacrum, but Morpheus explains he had to bring Neo out. When the Matrix was created there was a man born inside it who could create his own reality inside it. It was this man who set Morpheus and the others free. When he died, the Oracle (Gloria Foster) prophesied that he would return in another form. And that the return of the One would mean the destruction of the Matrix. As long as the Matrix exists, humanity will continue to live in complacency inside it and the world can never be free. \"I did what I did because I believe that search is over,\" says Morpheus.\n",
      "\n",
      "The next day Neo starts his training. Tank is his operator. Tank and his brother Dozer are \"100% pure old-fashioned, homegrown human. Born in the real world; a genuine child of Zion.\" Zion, Tank explains, is the last human city, buried deep in the earth, near the core, for warmth. Tank straps Neo back into the jack-in chair, by-passes some preliminary programs and loads him up with combat training, starting with Jiu Jitsu. When Tank hits \"load\" Neo is shocked by the force of the knowledge pouring into him. \"I think he likes it,\" says Tank, \"want some more?\" \"Hell yes,\" replies Neo. Neo is fed a series of martial arts techniques including Kempo, Tae Kwon Do, Drunken Boxing and Kung Fu. Morpheus and Tank are amazed at Neo's ability to ingest information, but Morpheus wants to test Neo.\n",
      "\n",
      "Morpheus and Neo stand in a sparring program. The program has rules, like gravity. But as in many computer programs, some rules can be bent while others can be broken. Morpheus bids Neo to hit him, if he can. They fight with Neo impressively attacking but Morpheus easily parrying and subduing him. The rest of the crew gathers around the monitors to watch the fight. Morpheus ends up kicking Neo into a beam, explaining to him that the reason he has beaten him has nothing to do with muscles or reality. They spar again. \"What are you waiting for?\" Morpheus asks him. \"You're faster than this!\" Neo finally brings a punch near his teacher's face. They can move on.\n",
      "\n",
      "A jump program is loaded. Both men now stand on one of several tall buildings in a normal city skyline. Morpheus tells Neo he must free his mind and leaps from one building to the next. Neo nervously tries to follow him and doesn't make the jump, falling to the pavement below. Neo wakes back in the Nebudchanezzar with blood in his mouth. \"I thought it wasn't real,\" he says. \"Your mind makes it real,\" replies Morpheus. \"So, if you die in the Matrix, you die here?\" \"The body cannot live without the mind,\" says Morpheus, underlining the very real danger faced in the simulation.\n",
      "\n",
      "Later, Trinity brings Neo dinner. Outside his room, Cypher remarks that Trinity never brought him dinner. He asks Trinity why, if Morpheus thinks Neo is the One, he hasn't taken him to see the Oracle yet. Trinity says he'll take him when he's ready.\n",
      "\n",
      "Morpheus and Neo are walking down a standard city street in what appears to be the Matrix. Morpheus explains that the Matrix is a system and that the system is their enemy. All the people that inhabit it, the people they are trying to free, are part of that system. Some are so inert, so dependent upon the Matrix that they can never be free. Neo notices a stunning girl in a red dress. \"Are you listening to me?\" asks Morpheus. He asks Neo to look at the girl again. Neo turns to face Agent Smith, pointing a gun straight at his head. Morpheus stops the simulation, which has just been created to look like the Matrix.\n",
      "\n",
      "Neo asks what the Agents are. \"Sentient programs,\" says Morpheus, that \"can move in and out of any software hard-wired into their system, meaning that they can take over anyone in the Matrix program. \"Inside the Matrix,\" Morpheus says, \"They are everyone and they are no one.\" Thus Morpheus and his crew survive the Agents by running from them and hiding from the Agents even though they \"are guarding all the doors. They are holding all the keys and sooner or later, someone is going to have to fight them.\" But no one who has ever stood up to an Agent has survived; all have died. Still, Morpheus is certain that because the Agents live in a world of rules that they can never be as strong, never be as fast as he can be. \"What are you trying to tell me,\" asks Neo, \"That I can dodge bullets?\" \"When you're ready,\" Morpheus says, \"You won't have to.\" Just then Morpheus gets a phone call. \"We've got trouble,\" Cypher says on the other line.\n",
      "\n",
      "The Nebuchadnezzar is on alert. They see the holographic image of a squiddy, a search and destroy sentinel, which is on their trail. They set the ship down in a huge sewer system and turn off the power. Tank stands at the ready switch of an EMP, electro-magnetic pulse, the only weapon man has against the machines in the real world. Two squiddies search for the ship -- the crew can see them -- but they move on.\n",
      "\n",
      "Neo startles Cypher, who is working at a computer console streaming with green code. Cypher offers Neo a drink and says that he knows what Neo is thinking, \"Why, oh why didn't I take the blue pill?\" Neo laughs but is unsettled. Cypher asks Neo if Morpheus has told him why he's here. Neo nods. \"What a mind job,\" says Cypher, \"so you're here to save the world.\"\n",
      "\n",
      "Cypher is now in a fancy restaurant with Agent Smith in the Matrix. Agent Smith asks if they have a deal. Cypher cuts up a juicy steak and ruminates that he knows the steak is merely the simulation telling his brain that it is delicious and juicy, but after nine years he has discovered that \"ignorance is bliss.\" He strikes a deal for the machines to reinsert his body into a power plant, reinsert him into the Matrix, and he'll help the Agents. He wants to be rich and powerful, \"an actor\" maybe. Smith says he wants access codes to the mainframe in Zion. Cypher says he can't do that, but that he can get him the man who does, meaning Morpheus.\n",
      "\n",
      "Meanwhile, inside the Nebuchadnezzar's small dining room in the real world, the rest of the crew is trying to choke down the oatmeal-gruel that they have as sustenance. Mouse muses on the mistakes the machines may have made trying to get sensations right, like the taste of chicken. Since they didn't know what it tasted like they let everything taste like it. Morpheus interrupts the meal, announcing that he's taking Neo to see the Oracle.\n",
      "\n",
      "Morpheus, Trinity, Neo, Apoc, Switch, Mouse and Cypher are jacked into the Matrix. As they walk out of a warehouse Cypher secretly throws his cell phone into the garbage. On the car ride to the Oracle, Neo asks Trinity if she has seen the Oracle. Trinity says that she has but when she's asked just what she was told by the Oracle, she refuses to answer.\n",
      "\n",
      "The Oracle, Morpheus explains, has been with them since the beginning of the Resistance. She is the one who made the Prophecy of the One and that Morpheus would be the one to find him. She can help Neo find the path, he says. He enters the apartment of the Oracle. Inside are the other potentials: a mother figure and numerous children. One child levitates blocks, one reads Asian literature, another is playing chess. One bald child is bending spoons. He gives one spoon to Neo and says, \"Do not try and bend the spoon, that's impossible. Instead, only try to realize the truth...that there is no spoon.\" Neo bends the spoon as he's called in to see the Oracle.\n",
      "\n",
      "The Oracle is baking cookies. She sizes Neo up and asks him whether he thinks he is the One. Neo admits that he does not know and the Oracle does not enlighten him. Neo smiles and the Oracle asks him what is funny. Neo admits that Morpheus had almost convinced him that he was the One. She accepts this and prophesies that Morpheus believes in Neo so much that he plans to sacrifice himself. She tells Neo that either he or Morpheus will die, and that Neo will have the power to choose which one it will be. She then offers him a cookie and promises him that he will feel fine as soon as he's done eating it.\n",
      "\n",
      "As the crew returns to their jack point, many floors up in an old hotel, Tank, in the control room, notices something odd. Meanwhile Neo, walking up the stairs, sees what appears to be the same cat cross a room twice. \"Deja vu,\" he says, which gets the attention of Trinity and Morpheus. Deja vu, they explain to him, is a glitch in the Matrix; it happens when they reset the computer parameters. Outside, the phone line is cut. Mouse runs to a window which has now been bricked in. They are trapped. Mouse picks up two machine guns but he's no match for the police coming into the room. He's riddled with bullets.\n",
      "\n",
      "Back on the Nebuchadnezzar, the real Mouse spurts blood from his mouth and dies in the chair.\n",
      "\n",
      "More police and Agents stream into the bottom of the hotel. Morpheus has Tank find a layout of the building they're in, locating the main wet wall. The Agents arrive on the floor they're on, finding a coat that Cypher has left behind. They only find a hole in the bathroom wall. Meanwhile the crew is climbing down the plumbing of the wet wall. As the police approach Cypher sneezes, once more giving them away. The police open fire. The crew, including Neo, begin to fire back.\n",
      "\n",
      "An Agent takes over the body of one of the policemen, reaches into the wall, and grabs Neo by the neck. Morpheus, who is above Neo in the walls, breaks through the wall and lands on the agent, yelling to Trinity to get Neo out of the building.\n",
      "\n",
      "A fierce battle between Agent Smith and Morpheus ends with Morpheus face down on the tile. Agent Smith sends the police unit in to beat him with their batons.\n",
      "\n",
      "Cypher returns to the Nebuchadnezzar before Trinity, Neo, Switch and Apoc. As Tank attempts to bring the others back, Cypher attacks him from behind with an electronic weapon. Dozer attempts to tackle Cypher, but Cypher electrocutes him as well.\n",
      "\n",
      "Trinity attempts to call Tank but Cypher pulls the headset off of the smoking remains of Tank and answers. As Cypher talks to Trinity inside the Matrix he leans over the still form of Trinity in the hovercraft. Cypher recounts the things he hates about the real world, the war, the cold, the goop they have to eat, but most especially Morpheus and his beliefs. \"He lied to us, Trinity.\"\n",
      "\n",
      "Cypher pulls the plug out of the back of Apoc's head, and Apoc falls down dead in the Matrix. Cypher then moves to Switch and as she protests \"Not like this...\" in the Matrix, Cypher kills her on the ship. She falls down dead before Trinity and Neo. Cypher moves on to Neo's supine form, saying that if Neo is the One, a miracle will prevent Cypher from killing him:\n",
      "\n",
      "\"How can he be the One, if he's dead?\" he asks. He continues badgering Trinity, asking her if she believes that Neo is the One. She says, \"Yes.\" Cypher screams back \"No!\" but his reaction is incredulity at seeing Tank still alive, brandishing the weapon that Cypher had used on him. Tank fries Cypher with the electrical device.\n",
      "\n",
      "Tank brings Trinity back and she finds out that Dozer is dead.\n",
      "\n",
      "Meanwhile Agent Smith, a tray of torture instruments near him, marvels at the beauty of the Matrix as he gazes out at the city all around them. He informs Morpheus, who is tied to a chair, that the first Matrix was designed as a utopia, engineered to make everyone happy. \"It was a disaster,\" says Agent Smith, people wouldn't accept the program and \"entire crops were lost.\" \"Some believed,\" continues Smith, \"that we lacked the programming language to describe your perfect world. But I believe that, as a species, human beings define their reality through misery and suffering. The perfect world was a dream that your primitive cerebrum kept trying to wake up from. Which is why the Matrix was redesigned.\" Agent Smith compares humans to dinosaurs and that evolution is taking hold. Another Agent enters and relays that there may be a problem (as they now know that Cypher has failed).\n",
      "\n",
      "Back on the hovercraft the shuddering form of Morpheus betrays the torture he's being put through by the Agents in the Matrix. Tank realizes that they're trying to get the codes to the mainframes of Zion's computers; each ship's captain knows them. Because a breach of Zion's defenses would mean that the last remaining vestiges of mankind would be wiped out, Tank says their only choice is to unplug Morpheus, effectively killing him.\n",
      "\n",
      "Back in the Matrix, the Agents process their next move. If Cypher is dead, they deduce that the remaining humans on the ship will terminate Morpheus. They decide to stick to their original plan and to deploy the Sentinels.\n",
      "\n",
      "Tank is performing what amounts to last rites for Morpheus, laying one hand on his head as his other moves to the back of his skull to remove the jack. Just as he's about to pull it out Neo stops him. He realizes that the Oracle was right. He now has to make the choice to save himself or to save Morpheus; his choice is to head back into the Matrix. Trinity rejects the idea. Morpheus gave himself up so that Neo could be saved since he is the One.\n",
      "\n",
      "\"I'm not the One, Trinity,\" Neo says, relaying his understanding of the discussion with the Oracle: she did not enlighten him as to whether he was the promised messiah. And, since Morpheus was willing to sacrifice himself, Neo knows that he must do that same. Tank calls it suicide; it's a military building with Agents inside. Neo says he only knows that he can bring Morpheus out. Trinity decides to come with him, reasoning with Neo that he will need her help and she's the ranking officer on the ship. \"Tank,\" she says, \"load us up!\"\n",
      "\n",
      "Meanwhile Agent Smith continues to share his musings with a brutalized Morpheus. Because humans spread to an area, consume the natural resources and, to survive, must spread to another area, Smith says we are not mammals but viruses, the only other creature that acts that way.\n",
      "\n",
      "In the Construct, Neo and Trinity get armaments. \"Neo,\" protests Trinity, \"No one has ever done anything like this.\" \"That's why it's going to work,\" he replies.\n",
      "\n",
      "Morpheus has yet to break and Smith asks the other Agents why the serum isn't working. \"Maybe we're asking the wrong questions,\" responds one. To that Smith commands the other Agents to leave him alone with Morpheus. Smith removes his earphone and his glasses and confides that he hates the Matrix, \"this zoo, this prison.\" Smith admits that he must get out of this \"reality.\" He hates the stench. He's sure that some element of the humans will rub off on him and that Morpheus holds the key to his release. If there is no Zion there's no need for Smith to be in the Matrix. \"You are going to tell me, or you are going to die.\"\n",
      "\n",
      "Downstairs, in the lobby, Trinity and Neo enter, heavily armed. They shoot their way past the guards and a group of soldiers and make their way into the elevator.\n",
      "\n",
      "Agents Brown and Jones enter the interrogation room to find Smith with his hands still fixed on Morpheus's head. Smith looks embarrassed and befuddled and the others tell him about the attack occurring downstairs. They realize that the humans are trying to save Morpheus.\n",
      "\n",
      "In the elevator, Trinity arms a bomb. They both climb through a hatch to the elevator roof, attaching a clamp to the elevator cable. Neo says \"There is no spoon\" before he severs the cable with a few shots. The counterweight drops, propelling Neo and Trinity upward. The elevator falls to the lobby exploding upon impact and filling the floor with flames.\n",
      "\n",
      "The Agents feel the rumble of the explosion and the sprinkers come on in the building. \"Find them and destroy them!\" Smith commands.\n",
      "\n",
      "On the roof, a helicopter pilot is calling \"Mayday\" as Trinity and Neo take out the soldiers there. Agent Brown takes over the pilot and appears behind Neo. Neo shoots several rounds at the Agent, who dodges them and pulls his own weapon.\n",
      "\n",
      "\"Trinity,\" yells Neo, \"Help!\" But it's too late. The Agent begins to shoot. Instead of being shot, Neo dodges most of the bullets, though two of them nick him. As the Agent approaches Neo, who is lying on the ground, he levels a kill shot but Trinity shoots him before he can fire. Trinity marvels at how fast Neo has just moved; she's never seen anyone move that quickly.\n",
      "\n",
      "Tank downloads the ability to fly the helicopter to Trinity, who can now pilot the aircraft. Trinity brings the helicopter down to the floor that Morpheus is on and Neo opens fire on the three Agents. The Agents quickly fall and Morpheus is alone in the room. Just as quickly the Agents take over other soldiers stationed nearby. Morpheus breaks his bonds and begins to run to the helicopter. The Agents fire on him, hitting his leg. Morpheus leaps but Neo realizes that he is not going to make the leap and throws himself out of the helicopter, a safety harness attached.\n",
      "\n",
      "He catches Morpheus, but Agent Smith shoots the helicopter's hydraulic line.\n",
      "\n",
      "Unable to control the helicopter, Trinity miraculously gets it close enough to drop Morpheus and Neo on a rooftop. Neo grabs the safety line as the helicopter falls towards a building. Trinity severs the safety line connecting Neo to the helicopter and jumps on it herself as the vehicle smashes into the side of a building, causing a bizarre ripple in the fabric of the building's reality as it does.\n",
      "\n",
      "On the ship Tank says, \"I knew it; he's the One.\"\n",
      "\n",
      "Neo hauls Trinity up to them. \"Do you believe it now, Trinity?\" asks Morpheus as he approaches the two. Neo tries to tell him that the Oracle told him the opposite but Morpheus says, \"She told you exactly what you needed to hear.\" They call Tank, who tells them of an exit in a subway near them.\n",
      "\n",
      "The Agents arrive on the rooftop but find only the safety harness and line. Though Agent Smith is angered, the other two are satisfied. A trace has been completed in the real world and the Sentinels have been dispatched to attack the Nebuchadnezzar.\n",
      "\n",
      "In the subway, they quickly find the phone booth and Morpheus exits out of the Matrix. A wino watches this occur. On the rooftop Agent Smith locks in to their whereabouts through the wino and appropriates his body.\n",
      "\n",
      "Meanwhile, as the phone rings, providing Trinity's exit, she confides to Neo that everything that the Oracle has told her has come true, except for one thing. She doesn't say what that thing is and picks up the phone just as she sees the approaching Agent Smith. Smith shatters the ear piece of the phone; it's impossible for Neo to exit there now.\n",
      "\n",
      "Instead of running, which Trinity implores him to do as she looks on from the ship, Neo turns to face Smith. They empty their guns on each other, neither hitting the other. They then move into close combat, trading blows. Neo sweeps Agent Smith's head, breaking his glasses. \"I'm going to enjoy watching you die, Mr. Anderson,\" says Smith. They trade some thunderous blows with Smith hitting Neo so hard he spits up blood in the Matrix and in the chair aboard the ship.\n",
      "\n",
      "\"He's killing him,\" says Trinity.\n",
      "\n",
      "Neo gets back up, sets himself and beckons Smith to start again. This time it's Neo who delivers devastating blow after blow. But Smith counters, throwing Neo into a wall then pummeling him with body blows. A wind from the tunnel signals that a subway train is approaching and Smith has a wicked notion. He throws Neo into the subway tracks then drops down there himself. He puts Neo in a headlock and, in the glow of the oncoming subway says, \"You hear that, Mr. Anderson? That is the sound of inevitability. It is the sound of your death. Good-bye, Mr. Anderson.\"\n",
      "\n",
      "\"My name,\" he replies, \"is Neo.\" Then, with a mighty leap, Neo propels them to the ceiling of the tunnel. They fall back down and Neo backflips off the tracks, leaving Agent Smith to the oncoming train.\n",
      "\n",
      "Neo heads for the stairs, but Smith has already appropriated another body and emerges from the doors of the train.\n",
      "\n",
      "Meanwhile the Sentinels have arrived to attack the Nebuchadnezzar; there are five of them and they are closing fast.\n",
      "\n",
      "Morpheus tells Tank to charge the EMP. Trinity reminds Morpheus that they can't use the EMP while Neo is in the Matrix.\n",
      "\n",
      "\"I know, Trinity, don't worry,\" says Morpheus, \"He's going to make it.\"\n",
      "\n",
      "Back in the streets of the Matrix, Neo swipes a cell phone from a nearby suit. He calls Tank: \"Mr. Wizard, get me the hell out of here.\" He races through a crowded market while Agents appropriate bodies right and left. They force Neo down a dark alley. He kicks in a door and rushes through an apartment complex where the Agents appropriate more bodies, including that of a sweet little old lady who throws a knife at Neo as Agent Smith. Neo leaps down into a pile of garbage with the Agents in hot pursuit.\n",
      "\n",
      "On the Nebuchadnezzar the Sentinels have arrived. They begin to tear the ship apart.\n",
      "\n",
      "In the Matrix, Neo arrives back at the Heart O' the City Hotel. Tank tells him to go to room 303. The Agents are literally at his heels.\n",
      "\n",
      "The Sentinels breach the hull of the ship. They are inside. Trinity, standing next to Neo's body in the chair, begs him to hurry.\n",
      "\n",
      "Neo reaches room 303 and enters. He's immediately shot, point blank in the gut, by Agent Smith. Smith empties his magazine into Neo's body. Neo slumps to the floor, dead.\n",
      "\n",
      "On the ship Neo's vital signs drop to nothing. \"It can't be,\" says Morpheus.\n",
      "\n",
      "Agent Smith instructs the others to check Neo. \"He's gone,\" one replies. \"Good-bye, Mr. Anderson,\" says Smith.\n",
      "\n",
      "The Sentinels' lasers are beginning to cut through the major parts of the hovercraft. Trinity leans over his dead body.\n",
      "\n",
      "\"Neo,\" she says, \"I'm not afraid anymore. The Oracle told me that I would fall in love and that that man... the man that I loved would be the One. So you see, you can't be dead. You can't be... because I love you. You hear me? I love you.\" She kisses him. In the chair Neo suddenly breathes. In the Matrix, Neo opens his eyes. \"Now get up,\" orders Trinity.\n",
      "\n",
      "The Agents hear Neo rise behind them and they open fire. \"No,\" Neo says calmly, raising his hands. He stops their bullets in mid-air. They drop harmlessly to the floor.\n",
      "\n",
      "\"What's happening?\" asks Tank. \"He is the One,\" says Morpheus.\n",
      "\n",
      "Back in the Matrix, Neo can see things for what they really are, green cascading code.\n",
      "\n",
      "Agent Smith is furious. He runs to Neo and attacks him. Neo blocks Smith's blows effortlessly before he sends Smith flying with one well-placed kick. Neo then leaps into Smith's body and appropriates him. Smith's shell explodes in a sea of code and Neo is all that is left, the walls buckling in waves as they did when the helicopter crashed. Agents Brown and Jones look at one another and run away.\n",
      "\n",
      "The Sentinels are now fully in the ship. They are right above Trinity and Morpheus.\n",
      "\n",
      "Back in the Matrix Neo sprints to the ringing phone in the room.\n",
      "\n",
      "Morpheus has no choice but to engage the EMP. He does and the Sentinels fall inert to the floor.\n",
      "\n",
      "Neo has made it back. He kisses Trinity.\n",
      "\n",
      "The screen is black. A command prompt appears: \"Call trans opt: received. 9-18-99 14:32:21 REC: Log>\" then \"Carrier anomaly\" \"Trace program: running\" As the grid of numbers appears again a warning appears \"System Failure.\" Over it all is Neo's voice:\n",
      "\n",
      "\"I know you're out there. I can feel you now. I know that you're afraid... you're afraid of us. You're afraid of change. I don't know the future. I didn't come here to tell you how this is going to end. I came here to tell you how it's going to begin. I'm going to hang up this phone, and then I'm going to show these people what you don't want them to see. I'm going to show them a world without you. A world without rules and controls, without borders or boundaries. A world where anything is possible. Where we go from there is a choice I leave to you.\"\n",
      "\n",
      "In the Matrix world, Neo hangs up the phone. He looks at the mindless masses around him, puts on his glasses and then looks up. From high above the city we see him take flight. The story is picked up in The Matrix Reloaded, the second of three Matrix movies.\n",
      "\n",
      "\n"
     ]
    }
   ],
   "source": [
    "print('Summary:')\n",
    "print(summarize(text, ratio=0.005))"
   ]
  },
  {
   "cell_type": "code",
   "execution_count": 6,
   "metadata": {},
   "outputs": [
    {
     "name": "stdout",
     "output_type": "stream",
     "text": [
      "Summary:\n",
      "['Morpheus, Trinity, Neo, Apoc, Switch, Mouse and Cypher are jacked into the Matrix.', 'Trinity brings the helicopter down to the floor that Morpheus is on and Neo opens fire on the three Agents.']\n",
      "<class 'str'>\n"
     ]
    }
   ],
   "source": [
    "print('Summary:')\n",
    "print(summarize(text, ratio=0.005, split=True))"
   ]
  },
  {
   "cell_type": "code",
   "execution_count": 56,
   "metadata": {},
   "outputs": [
    {
     "name": "stdout",
     "output_type": "stream",
     "text": [
      "Summary:\n",
      "Trinity takes Neo to Morpheus.\n",
      "Morpheus, Trinity, Neo, Apoc, Switch, Mouse and Cypher are jacked into the Matrix.\n",
      "Trinity brings the helicopter down to the floor that Morpheus is on and Neo opens fire on the three Agents.\n"
     ]
    }
   ],
   "source": [
    "print('Summary:')\n",
    "print(summarize(text, words=50))"
   ]
  }
 ],
 "metadata": {
  "kernelspec": {
   "display_name": "Python 3.10.4 ('tensorflow': venv)",
   "language": "python",
   "name": "python3"
  },
  "language_info": {
   "codemirror_mode": {
    "name": "ipython",
    "version": 3
   },
   "file_extension": ".py",
   "mimetype": "text/x-python",
   "name": "python",
   "nbconvert_exporter": "python",
   "pygments_lexer": "ipython3",
   "version": "3.10.4"
  },
  "orig_nbformat": 4,
  "vscode": {
   "interpreter": {
    "hash": "d3d548dbc07dac0e24bbfeb6e932dc9e9a9d93b0bdd3d2fd0655f4be29fd0580"
   }
  }
 },
 "nbformat": 4,
 "nbformat_minor": 2
}
