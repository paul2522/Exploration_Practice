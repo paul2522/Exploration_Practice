{
 "cells": [
  {
   "cell_type": "markdown",
   "metadata": {},
   "source": [
    "EP_03. 나의 첫 번째 캐글 경진대회, 무작정 따라해보기\n",
    "-----\n",
    "## 학습 전제\n",
    "---\n",
    "- 정형 데이터를 활용해 EDA와 간단한 분류, 회귀 문제를 해결해본 적이 있다.\n",
    "- numpy, pandas, matplotlib을 활용해 정형 데이터를 자유자재로 다룰 수 있다.\n",
    "- 정형 데이터를 활용해 다양한 모델을 학습시켜보고, 예측 결과를 도출하는 것까지의 과정을 코드로 진행할 수 있다.\n",
    "## 학습 목표\n",
    "---\n",
    "- 데이터 사이언스 관련 최대 커뮤니티인 캐글의 경진대회에 직접 참여해서 문제를 해결해본다.\n",
    "- 캐글에서 데이터를 내려받는 것으로부터 시작해서, 로컬 서버에서 자유롭게 다루어보며 문제 해결을 위한 고민을 해본다.\n",
    "- 앙상블 기법의 개념과 강점을 이해하고, 여러 모델의 예측 결과를 Averaging 한 최종 결과로 캐글에 제출해본다.\n",
    "- 하이퍼 파라미터 튜닝의 필요성과 의미를 이해하고, Grid Search, Random Search 등의 기법을 알아본다.\n",
    "- Grid Search 기법을 활용해서 직접 하이퍼 파라미터 튜닝 실험을 해보고, 모델의 성능을 최대한 끌어올려본다.\n"
   ]
  },
  {
   "cell_type": "markdown",
   "metadata": {},
   "source": [
    "### 대회의 시작 (1) 참가 규칙, 평가 기준 살펴보기"
   ]
  },
  {
   "cell_type": "markdown",
   "metadata": {},
   "source": [
    "Q1. RMSE는 무엇의 약자이며, 그 수식은 무엇인가? 어떤 의미를 가지고 있는가?"
   ]
  },
  {
   "cell_type": "markdown",
   "metadata": {},
   "source": [
    "* Root Mean Square Error, 오차 제곱 평균 제곱근"
   ]
  },
  {
   "cell_type": "markdown",
   "metadata": {},
   "source": [
    "이번 대회에서는 집값을 예측합니다. 우리가 예측해야하는 값과 실제 정답값이 모두 실숫값입니다.  \n",
    "두 가지 값의 차이를 사용해 얼마나 떨어져 있는지 계산할 수 있는 RMSE를 평가 척도로 사용하겠습니다."
   ]
  },
  {
   "cell_type": "markdown",
   "metadata": {},
   "source": [
    "Q2. 그렇다면 이번 대회에서 푸는 문제는 분류 문제일까요, 회귀 문제일까요?"
   ]
  },
  {
   "cell_type": "markdown",
   "metadata": {},
   "source": [
    "* 가지고 있던 numeric 데이터를 가지고 특정 위치의 numeric 값을 예측하는 것이기 때문에 회귀입니다."
   ]
  },
  {
   "cell_type": "markdown",
   "metadata": {},
   "source": [
    "### 대회의 시작 (2) 데이터 살펴보기"
   ]
  },
  {
   "cell_type": "markdown",
   "metadata": {},
   "source": [
    "총 21 columns 중에서 우리가 예측해야 하느 column 은 price 입니다.  \n",
    "우리는 train.csv 와 test.csv 그리고 제출용 파일인 sample_submission.csv 이 제공됩니다.  \n",
    "train으로 훈련하고 test로 price를 예측해서 sample_submission.csv 의 형식에 맞는 형태로 제출 할 것입니다.  \n",
    "Download로 데이터를 다운받을 수 있지만 데이터가 한번 바뀌었다고 합니다. LMS에서 다운받거나 cloud로 받습니다."
   ]
  },
  {
   "cell_type": "markdown",
   "metadata": {},
   "source": [
    "### 일단 제출하고 시작해! Baseline 모델 (1) Baseline 셋팅하기"
   ]
  },
  {
   "cell_type": "markdown",
   "metadata": {},
   "source": [
    "주최자 쪽에서 Baseline을 제공하였습니다. Baseline은 기본적으로 문제 해결을 시작할 때 쉽게 사용해볼 수 있는 샘플입니다.  \n",
    "Baseline으로 빠르게 제출해보도록 하겠습니다."
   ]
  },
  {
   "cell_type": "markdown",
   "metadata": {},
   "source": [
    "* 다른 사람의 커널을 ipynb 파일로 다운받아 사용하기"
   ]
  },
  {
   "cell_type": "markdown",
   "metadata": {},
   "source": [
    "캐글의 커널 : 우리가 쓰는 주피터 노트북 형태의 파일이 캐글 서버에 실행될 때 그 프로그램을 일컫는 개념.  \n",
    "우리도 캐글 자체 서버에서 baseline 노트북 파일을 돌리고 모델 학습을 시킬 수 있습니다,  \n",
    "그러기 위해 Copy and Edit 버튼을 사용합니다.  \n",
    "거기서 노트북 파일을 직접 사용하기 위해 File - Download를 클릭합니다.  \n",
    "다운로드한 주피터 노트북 파일과 Data를 알맞은 위치에 두고 해당 주피터 노트북에서 계속 진행하도록 하겠습니다."
   ]
  },
  {
   "cell_type": "markdown",
   "metadata": {},
   "source": [
    "2019-ml-month-2nd-baseline.ipynb로 가시면 됩니다."
   ]
  }
 ],
 "metadata": {
  "kernelspec": {
   "display_name": "Python 3.10.4 64-bit",
   "language": "python",
   "name": "python3"
  },
  "language_info": {
   "name": "python",
   "version": "3.10.4"
  },
  "orig_nbformat": 4,
  "vscode": {
   "interpreter": {
    "hash": "916dbcbb3f70747c44a77c7bcd40155683ae19c65e1c03b4aa3499c5328201f1"
   }
  }
 },
 "nbformat": 4,
 "nbformat_minor": 2
}
