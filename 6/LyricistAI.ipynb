{
 "cells": [
  {
   "cell_type": "markdown",
   "metadata": {},
   "source": [
    "# LyricistAI"
   ]
  },
  {
   "cell_type": "markdown",
   "metadata": {},
   "source": [
    "## Sequence, Sequential?"
   ]
  },
  {
   "cell_type": "markdown",
   "metadata": {},
   "source": [
    "* Sequence data : 나열된 데이터(비슷한 특징을 가지거나 같은 속성이여야 하는 것은 아니다.)\n",
    "* 다만 인공지능에서는 예측을 위해서 data들이 서로 유사한 특징을 가져야한다. 이러한 데이터를 Sequential Data라 한다.\n",
    "* AI가 문법을 익히기는 힘드니 통계적인 방법을 사용한다."
   ]
  },
  {
   "cell_type": "markdown",
   "metadata": {},
   "source": [
    "## 문장 만들기"
   ]
  },
  {
   "cell_type": "markdown",
   "metadata": {},
   "source": [
    "### 문장 연결"
   ]
  },
  {
   "cell_type": "markdown",
   "metadata": {},
   "source": [
    "* 수많은 글을 읽게 함으로써 다음 단어를 예측을 잘 할 수 있게 한다.\n",
    "* start 를 주고 나온 결과를 다음 뉴런의 input으로 사용을 반복하고 end가 나옴 이러한 순환적 특징 때문에 순환 신경망(RNN)이라한다."
   ]
  },
  {
   "cell_type": "code",
   "execution_count": 1,
   "metadata": {},
   "outputs": [
    {
     "name": "stdout",
     "output_type": "stream",
     "text": [
      "Source 문장: <start> 나는 밥을 먹었다 \n",
      "Target 문장:  나는 밥을 먹었다 <end>\n"
     ]
    }
   ],
   "source": [
    "sentence = \" 나는 밥을 먹었다 \"\n",
    "\n",
    "source_sentence = \"<start>\" + sentence\n",
    "target_sentence = sentence + \"<end>\"\n",
    "\n",
    "print(\"Source 문장:\", source_sentence)\n",
    "print(\"Target 문장:\", target_sentence)"
   ]
  },
  {
   "cell_type": "markdown",
   "metadata": {},
   "source": [
    "### 언어 모델"
   ]
  },
  {
   "cell_type": "markdown",
   "metadata": {},
   "source": [
    "* 단어 다음에 무슨 단어가 나올지 예측하는 확률 모델을 언어 모델이라 한다.\n",
    "* P(w<sub>n</sub>​∣w<sub>1</sub> ,...,w<sub>n−1</sub>; θ)"
   ]
  },
  {
   "cell_type": "markdown",
   "metadata": {},
   "source": [
    "## 데이터 다듬기"
   ]
  },
  {
   "cell_type": "markdown",
   "metadata": {},
   "source": [
    "### 데이터 불러오기"
   ]
  },
  {
   "cell_type": "markdown",
   "metadata": {},
   "source": [
    "* 파일을 읽기로 열고 라인 단위로 끊어서 list 형태로 읽어옵니다.\n",
    "* 앞에서부터 10라인만 화면에 출력해 볼까요?"
   ]
  },
  {
   "cell_type": "code",
   "execution_count": 2,
   "metadata": {},
   "outputs": [
    {
     "name": "stdout",
     "output_type": "stream",
     "text": [
      "['First Citizen:', 'Before we proceed any further, hear me speak.', '', 'All:', 'Speak, speak.', '', 'First Citizen:', 'You are all resolved rather to die than to famish?', '']\n"
     ]
    }
   ],
   "source": [
    "import os, re \n",
    "import numpy as np\n",
    "import tensorflow as tf\n",
    "\n",
    "# file_path = os.getenv('HOME') + '/aiffel/lyricist/data/shakespeare.txt'\n",
    "file_path = 'data/shakespeare.txt'\n",
    "\n",
    "with open(file_path, \"r\") as f:\n",
    "    raw_corpus = f.read().splitlines()\n",
    "\n",
    "# 앞에서부터 10라인만 화면에 출력해 볼까요?\n",
    "print(raw_corpus[:9])"
   ]
  },
  {
   "cell_type": "markdown",
   "metadata": {},
   "source": [
    "### 데이터 전처리 : 공백과 화자 제거"
   ]
  },
  {
   "cell_type": "markdown",
   "metadata": {},
   "source": [
    "* 여기서 공백인 문장과 화자가 표시된 문장을 삭제해주고 싶습니다.\n",
    "* 길이가 0인 문장과 문장의 끝이 : 인 문장은 건너뜁니다.\n",
    "* 그리고 문장을 10개만 확인합니다."
   ]
  },
  {
   "cell_type": "code",
   "execution_count": 3,
   "metadata": {},
   "outputs": [
    {
     "name": "stdout",
     "output_type": "stream",
     "text": [
      "Before we proceed any further, hear me speak.\n",
      "Speak, speak.\n",
      "You are all resolved rather to die than to famish?\n"
     ]
    }
   ],
   "source": [
    "for idx, sentence in enumerate(raw_corpus):\n",
    "    if len(sentence) == 0:\n",
    "        continue\n",
    "    if sentence[-1] == \":\":\n",
    "        continue\n",
    "    if idx > 9:\n",
    "        break\n",
    "    print(sentence)"
   ]
  },
  {
   "cell_type": "markdown",
   "metadata": {},
   "source": [
    "토근화(Tokenize) : 문장을 일정한 기준으로 쪼개서 단어로 만드는 것"
   ]
  },
  {
   "cell_type": "markdown",
   "metadata": {},
   "source": [
    "### 데이터 전처리 함수 설정 - 단어"
   ]
  },
  {
   "cell_type": "markdown",
   "metadata": {},
   "source": [
    "1. 소문자로 바꾸고(lower) 양쪽 공백을 지웁니다(strip).\n",
    "2. 특수 문자 양쪽에 공백을 넣습니다.\n",
    "3. 여러 개의 공백을 하나로 만듭니다.\n",
    "4. a-zA-Z?.!,¿가 아닌 모든 문자를 하나의 공백으로 바꿉니다.\n",
    "5. 다시 양쪽 공백을 지웁니다.\n",
    "6. 문장의 시작에는 <start>, 끝에는 <end>를 추가합니다."
   ]
  },
  {
   "cell_type": "code",
   "execution_count": 4,
   "metadata": {},
   "outputs": [
    {
     "name": "stdout",
     "output_type": "stream",
     "text": [
      "<start> this is sample sentence . <end>\n"
     ]
    }
   ],
   "source": [
    "def preprocess_sentence(sentence):\n",
    "    sentence = sentence.lower().strip() # 1\n",
    "    sentence = re.sub(r\"([?.!,¿])\", r\" \\1 \", sentence) # 2\n",
    "    sentence = re.sub(r'[\" \"]+', \" \", sentence) # 3\n",
    "    sentence = re.sub(r\"[^a-zA-Z?.!,¿]+\", \" \", sentence) # 4\n",
    "    sentence = sentence.strip() # 5\n",
    "    sentence = '<start> ' + sentence + ' <end>' # 6\n",
    "    return sentence\n",
    "\n",
    "# 이 문장이 어떻게 필터링되는지 확인해 보세요.\n",
    "print(preprocess_sentence(\"This @_is ;;;sample        sentence.\"))"
   ]
  },
  {
   "cell_type": "markdown",
   "metadata": {},
   "source": [
    "### 데이터 전처리 함수 적용"
   ]
  },
  {
   "cell_type": "markdown",
   "metadata": {},
   "source": [
    "* 문장의 길이가 0이거나 문자의 마지막이 : 인 경우는 제외합니다.\n",
    "* 문장에 전처리 함수를 적용하고 저장합니다."
   ]
  },
  {
   "cell_type": "code",
   "execution_count": 5,
   "metadata": {},
   "outputs": [
    {
     "data": {
      "text/plain": [
       "['<start> before we proceed any further , hear me speak . <end>',\n",
       " '<start> speak , speak . <end>',\n",
       " '<start> you are all resolved rather to die than to famish ? <end>',\n",
       " '<start> resolved . resolved . <end>',\n",
       " '<start> first , you know caius marcius is chief enemy to the people . <end>',\n",
       " '<start> we know t , we know t . <end>',\n",
       " '<start> let us kill him , and we ll have corn at our own price . <end>',\n",
       " '<start> is t a verdict ? <end>',\n",
       " '<start> no more talking on t let it be done away , away ! <end>',\n",
       " '<start> one word , good citizens . <end>']"
      ]
     },
     "execution_count": 5,
     "metadata": {},
     "output_type": "execute_result"
    }
   ],
   "source": [
    "corpus = []\n",
    "\n",
    "for sentence in raw_corpus:\n",
    "    if len(sentence) == 0:\n",
    "        continue\n",
    "    if sentence[-1] == \":\":\n",
    "        continue\n",
    "    \n",
    "    preprocessed_sentence = preprocess_sentence(sentence)\n",
    "    corpus.append(preprocessed_sentence)\n",
    "        \n",
    "corpus[:10]"
   ]
  },
  {
   "cell_type": "markdown",
   "metadata": {},
   "source": [
    "### Tokenizer 함수 설정"
   ]
  },
  {
   "cell_type": "markdown",
   "metadata": {},
   "source": [
    "* 자연어 처리용 모듈 : tf.keras.preprocessing.text.Tokenizer\n",
    "* 벡터화(vectorize) : 정제된 데이터를 토큰화 -> 단어 사전 생성 -> 데이터를 숫자로 변환\n",
    "* tensor : 숫자로 변환된 데이터"
   ]
  },
  {
   "cell_type": "markdown",
   "metadata": {},
   "source": [
    "링크 참조  \n",
    "* [Tokenizer](https://www.tensorflow.org/api_docs/python/tf/keras/preprocessing/text/Tokenizer) : 토큰화 관련 클래스\n",
    "* [pad_sequences](https://www.tensorflow.org/api_docs/python/tf/keras/preprocessing/sequence/pad_sequences) : 시퀀스를 같은 길이가 되도록 pad 합니다."
   ]
  },
  {
   "cell_type": "markdown",
   "metadata": {},
   "source": [
    "Tokenizer args\n",
    "* num_words : 저장할 단어의 개수\n",
    "* filters : 필터링 될 문자열(제거할 구두점 같은 것들), default 는 '!\"#$%&()*+,-./:;<=>?@[\\]^_`{|}~\\t\\n' 이다.\n",
    "* lower : 텍스트를 소문자로 만들 것인가? - boolean\n",
    "* split : 단어를 나눌 기준(스페이스바 단위로 나눈다고 할때 ' ' 넣기)\n",
    "* char_level : True 면 모든 캐릭터가 token화가 된다.\n",
    "* oov_token : 적용하면 단어 index가 생기고 단어 사전에 저장되지 않는 값들을 이것으로 바꾼다(text_to_sequence call 동안)\n",
    "* analyzer : 함수, 텍스트를 나눌 특정 분석. 기본 분석은 text_to_word_sequence 이다.  \n",
    "\n",
    "Tokenizer method\n",
    "* fit_on_sequences : sequence 에 따라 사전 최신화\n",
    "* fit_on_texts : texts 에 따라 사전 최신화\n",
    "* text_to_sequences : texts 를 정수 시퀀스로 변환"
   ]
  },
  {
   "cell_type": "markdown",
   "metadata": {},
   "source": [
    "pad_sequences args\n",
    "* sequence : 변환할 시퀀스\n",
    "* maxlen : 최대 길이\n",
    "* dtype : 데이터 타입(default : int32)\n",
    "* padding : pre or past(pre: 앞에서부터 채움, past: 뒤에서부터 채움, pre 패딩이 더 좋다는 중론, default = pre)\n",
    "* truncating : pre or past(maxlen보다 클 경우 앞부분을 지울지 뒷부분을 지울지 결정, default = pre)\n",
    "* value : padding시 넣는 값(default : 0)"
   ]
  },
  {
   "cell_type": "code",
   "execution_count": 6,
   "metadata": {},
   "outputs": [
    {
     "name": "stdout",
     "output_type": "stream",
     "text": [
      "[[   2  143   40 ...    0    0    0]\n",
      " [   2  110    4 ...    0    0    0]\n",
      " [   2   11   50 ...    0    0    0]\n",
      " ...\n",
      " [   2  149 4553 ...    0    0    0]\n",
      " [   2   34   71 ...    0    0    0]\n",
      " [   2  945   34 ...    0    0    0]] <keras.preprocessing.text.Tokenizer object at 0x7f442c5a64a0>\n"
     ]
    }
   ],
   "source": [
    "def tokenize(corpus):\n",
    "    tokenizer = tf.keras.preprocessing.text.Tokenizer(\n",
    "        num_words=7000, \n",
    "        filters=' ',\n",
    "        oov_token=\"<unk>\"\n",
    "    )\n",
    "    tokenizer.fit_on_texts(corpus)\n",
    "    tensor = tokenizer.texts_to_sequences(corpus)   \n",
    "    tensor = tf.keras.preprocessing.sequence.pad_sequences(tensor, padding='post')  \n",
    "    \n",
    "    print(tensor,tokenizer)\n",
    "    return tensor, tokenizer\n",
    "\n",
    "tensor, tokenizer = tokenize(corpus)"
   ]
  },
  {
   "cell_type": "code",
   "execution_count": 7,
   "metadata": {},
   "outputs": [
    {
     "data": {
      "text/plain": [
       "array([[   2,  143,   40,  933,  140,  591,    4,  124,   24,  110,    5,\n",
       "           3,    0,    0,    0,    0,    0,    0,    0,    0,    0],\n",
       "       [   2,  110,    4,  110,    5,    3,    0,    0,    0,    0,    0,\n",
       "           0,    0,    0,    0,    0,    0,    0,    0,    0,    0],\n",
       "       [   2,   11,   50,   43, 1201,  316,    9,  201,   74,    9, 3034,\n",
       "          15,    3,    0,    0,    0,    0,    0,    0,    0,    0]],\n",
       "      dtype=int32)"
      ]
     },
     "execution_count": 7,
     "metadata": {},
     "output_type": "execute_result"
    }
   ],
   "source": [
    "tensor[:3]"
   ]
  },
  {
   "cell_type": "code",
   "execution_count": 8,
   "metadata": {},
   "outputs": [],
   "source": [
    "for idx in tokenizer.index_word.values():\n",
    "    if idx == 0:\n",
    "        print('Find 0!')"
   ]
  },
  {
   "cell_type": "code",
   "execution_count": 9,
   "metadata": {},
   "outputs": [
    {
     "name": "stdout",
     "output_type": "stream",
     "text": [
      "1 : <unk>\n",
      "2 : <start>\n",
      "3 : <end>\n",
      "4 : ,\n",
      "5 : .\n",
      "6 : the\n",
      "7 : and\n",
      "8 : i\n",
      "9 : to\n",
      "10 : of\n"
     ]
    }
   ],
   "source": [
    "for idx in tokenizer.index_word:\n",
    "    print(idx, \":\", tokenizer.index_word[idx])\n",
    "\n",
    "    if idx >= 10: break"
   ]
  },
  {
   "cell_type": "markdown",
   "metadata": {},
   "source": [
    "* 단어사전의 key = 1 에 사전에 들어가지 못한 단어들이 들어가며 value 는 <'unk'> 입니다.\n",
    "* 사이즈에 맞춰서 뒤에 0이 생기지만 결국 마지막은 3(<'end'>)이며 시작은 2(<'start'>)입니다.\n",
    "* 그렇기에 마지막 값은 <'pad'>일 가능성이 높습니다."
   ]
  },
  {
   "cell_type": "markdown",
   "metadata": {},
   "source": [
    "### 소스 및 타겟 문장 생성"
   ]
  },
  {
   "cell_type": "code",
   "execution_count": 10,
   "metadata": {},
   "outputs": [
    {
     "name": "stdout",
     "output_type": "stream",
     "text": [
      "['First Citizen:', 'Before we proceed any further, hear me speak.', '', 'All:', 'Speak, speak.', '', 'First Citizen:', 'You are all resolved rather to die than to famish?', '']\n",
      "[  2 143  40 933 140 591   4 124  24 110   5   3   0   0   0   0   0   0\n",
      "   0   0]\n",
      "[143  40 933 140 591   4 124  24 110   5   3   0   0   0   0   0   0   0\n",
      "   0   0]\n"
     ]
    }
   ],
   "source": [
    "# tensor에서 마지막 토큰을 잘라내서 소스 문장을 생성합니다\n",
    "# 마지막 토큰은 <end>가 아니라 <pad>일 가능성이 높습니다.\n",
    "src_input = tensor[:, :-1]\n",
    "\n",
    "# tensor에서 <start>를 잘라내서 타겟 문장을 생성합니다.\n",
    "tgt_input = tensor[:, 1:]\n",
    "\n",
    "print(raw_corpus[:9])\n",
    "print(src_input[0])\n",
    "print(tgt_input[0])"
   ]
  },
  {
   "cell_type": "markdown",
   "metadata": {},
   "source": [
    "소스 문장은 맨뒤를 짜름.  \n",
    "모델 코드에서 계산 할 때 시간 단축을 위해 뒤에 있는 0을 건너 뛰도록 end 나오면 종료함.  \n",
    "그러므로 소스 문장은 end 부분을 짜르는게 아닌 마지막 0 부분을 짜름.  \n",
    "만약 가장 긴 문장이여서 잘리는 부분이 0이 아닌 end라도 <'start'>, <'end'> 둘 다 내가 추가해준 것이므로 그냥 삭제.  \n",
    "\n",
    "타겟 문장은 정답인 문장이므로 맨앞을 짜름.  \n",
    "지금은 padding을 'post'로 했으니 그렇지만 'pre'로 하게되면 결국 0이 앞에 생김,  \n",
    "이 경우에도 <'start'> 가 아닌 padding 값을 자르게 될 것.  \n",
    "결국 그냥 한칸씩만 비워주는 개념으로 생각."
   ]
  },
  {
   "cell_type": "markdown",
   "metadata": {},
   "source": [
    "### Dataset 사용"
   ]
  },
  {
   "cell_type": "markdown",
   "metadata": {},
   "source": [
    "[tensorflow Dataset](https://www.tensorflow.org/api_docs/python/tf/data/Dataset)\n",
    "\n",
    "기존의 numpy array 로 train/test 나눠서 훈련 시키는게 아닌  \n",
    "텐서로 만들어진 data를 이용해 Dataset 객체를 생성할 것.  \n",
    "이미 데이터가 tensor 형태이므로 slice를 통해 객체 생성"
   ]
  },
  {
   "cell_type": "code",
   "execution_count": 11,
   "metadata": {},
   "outputs": [
    {
     "name": "stdout",
     "output_type": "stream",
     "text": [
      "<class 'numpy.ndarray'> <class 'numpy.ndarray'>\n",
      "<class 'tensorflow.python.data.ops.dataset_ops.BatchDataset'>\n"
     ]
    },
    {
     "name": "stderr",
     "output_type": "stream",
     "text": [
      "2022-08-08 10:01:22.843378: I tensorflow/stream_executor/cuda/cuda_gpu_executor.cc:975] successful NUMA node read from SysFS had negative value (-1), but there must be at least one NUMA node, so returning NUMA node zero\n",
      "2022-08-08 10:01:22.914787: I tensorflow/stream_executor/cuda/cuda_gpu_executor.cc:975] successful NUMA node read from SysFS had negative value (-1), but there must be at least one NUMA node, so returning NUMA node zero\n",
      "2022-08-08 10:01:22.914952: I tensorflow/stream_executor/cuda/cuda_gpu_executor.cc:975] successful NUMA node read from SysFS had negative value (-1), but there must be at least one NUMA node, so returning NUMA node zero\n",
      "2022-08-08 10:01:22.917021: I tensorflow/core/platform/cpu_feature_guard.cc:193] This TensorFlow binary is optimized with oneAPI Deep Neural Network Library (oneDNN) to use the following CPU instructions in performance-critical operations:  AVX2 FMA\n",
      "To enable them in other operations, rebuild TensorFlow with the appropriate compiler flags.\n",
      "2022-08-08 10:01:22.918576: I tensorflow/stream_executor/cuda/cuda_gpu_executor.cc:975] successful NUMA node read from SysFS had negative value (-1), but there must be at least one NUMA node, so returning NUMA node zero\n",
      "2022-08-08 10:01:22.918787: I tensorflow/stream_executor/cuda/cuda_gpu_executor.cc:975] successful NUMA node read from SysFS had negative value (-1), but there must be at least one NUMA node, so returning NUMA node zero\n",
      "2022-08-08 10:01:22.918897: I tensorflow/stream_executor/cuda/cuda_gpu_executor.cc:975] successful NUMA node read from SysFS had negative value (-1), but there must be at least one NUMA node, so returning NUMA node zero\n",
      "2022-08-08 10:01:23.661512: I tensorflow/stream_executor/cuda/cuda_gpu_executor.cc:975] successful NUMA node read from SysFS had negative value (-1), but there must be at least one NUMA node, so returning NUMA node zero\n",
      "2022-08-08 10:01:23.661750: I tensorflow/stream_executor/cuda/cuda_gpu_executor.cc:975] successful NUMA node read from SysFS had negative value (-1), but there must be at least one NUMA node, so returning NUMA node zero\n",
      "2022-08-08 10:01:23.661860: I tensorflow/stream_executor/cuda/cuda_gpu_executor.cc:975] successful NUMA node read from SysFS had negative value (-1), but there must be at least one NUMA node, so returning NUMA node zero\n",
      "2022-08-08 10:01:23.661960: I tensorflow/core/common_runtime/gpu/gpu_device.cc:1532] Created device /job:localhost/replica:0/task:0/device:GPU:0 with 6668 MB memory:  -> device: 0, name: NVIDIA GeForce RTX 2070, pci bus id: 0000:01:00.0, compute capability: 7.5\n"
     ]
    },
    {
     "data": {
      "text/plain": [
       "<BatchDataset element_spec=(TensorSpec(shape=(256, 20), dtype=tf.int32, name=None), TensorSpec(shape=(256, 20), dtype=tf.int32, name=None))>"
      ]
     },
     "execution_count": 11,
     "metadata": {},
     "output_type": "execute_result"
    }
   ],
   "source": [
    "BUFFER_SIZE = len(src_input)\n",
    "BATCH_SIZE = 256\n",
    "steps_per_epoch = len(src_input) // BATCH_SIZE\n",
    "\n",
    "# tokenizer가 구축한 단어사전 내 7000개와, 여기 포함되지 않은 0:<pad>를 포함하여 7001개\n",
    "VOCAB_SIZE = tokenizer.num_words + 1   \n",
    "\n",
    "print(type(src_input), type(tgt_input))\n",
    "\n",
    "dataset = tf.data.Dataset.from_tensor_slices((src_input, tgt_input))\n",
    "dataset = dataset.shuffle(BUFFER_SIZE)\n",
    "dataset = dataset.batch(BATCH_SIZE, drop_remainder=True)\n",
    "print(type(dataset))\n",
    "dataset"
   ]
  },
  {
   "cell_type": "markdown",
   "metadata": {},
   "source": [
    "* 소스 문장의 크기만큼 버퍼 사이즈를 잡는다.\n",
    "* buffer : 전송하는 동안 그 데이터를 보관하는 메모리 영역\n",
    "* batch size : 일괄처리량\n",
    "* step\n",
    "* 단어장의 전체 크기 : 원래 크기 + <'pad'>인 0 = 원래 크기 + 1\n",
    "* 주어진 tensor 들로 나눠진 Dataset 만들기\n",
    "* 해당 사이즈 만큼 셔플\n",
    "* BATCH_SIZE 잡고, drop_remainder : 마지막에 batchsize보다 작은게 나오면 batch를 drop 함."
   ]
  },
  {
   "cell_type": "markdown",
   "metadata": {},
   "source": [
    "* 정규표현식을 이용한 corpus 생성\n",
    "* tf.keras.preprocessing.text.Tokenizer를 이용해 corpus를 텐서로 변환\n",
    "* tf.data.Dataset.from_tensor_slices()를 이용해 corpus 텐서를 tf.data.Dataset객체로 변환  \n",
    "  를 통해 데이터 다듬기 과정이 끝났습니다."
   ]
  },
  {
   "cell_type": "markdown",
   "metadata": {},
   "source": [
    "## 인공지능 학습"
   ]
  },
  {
   "cell_type": "markdown",
   "metadata": {},
   "source": [
    "모델을 1개의 Embedding, 2개의 LSTM, 1개의 Dense Layer 들로 구성 할 것."
   ]
  },
  {
   "cell_type": "code",
   "execution_count": 12,
   "metadata": {},
   "outputs": [],
   "source": [
    "class TextGenerator(tf.keras.Model):\n",
    "    def __init__(self, vocab_size, embedding_size, hidden_size):\n",
    "        super().__init__()\n",
    "        \n",
    "        self.embedding = tf.keras.layers.Embedding(vocab_size, embedding_size)\n",
    "        self.rnn_1 = tf.keras.layers.LSTM(hidden_size, return_sequences=True)\n",
    "        self.rnn_2 = tf.keras.layers.LSTM(hidden_size, return_sequences=True)\n",
    "        self.linear = tf.keras.layers.Dense(vocab_size)\n",
    "        \n",
    "    def call(self, x):\n",
    "        out = self.embedding(x)\n",
    "        out = self.rnn_1(out)\n",
    "        out = self.rnn_2(out)\n",
    "        out = self.linear(out)\n",
    "        \n",
    "        return out\n",
    "    \n",
    "embedding_size = 256\n",
    "hidden_size = 1024\n",
    "model = TextGenerator(tokenizer.num_words + 1, embedding_size , hidden_size)"
   ]
  },
  {
   "cell_type": "markdown",
   "metadata": {},
   "source": [
    "* embedding_size : 단어 벡터의 차원 수\n",
    "* hidden_size : hidden layer 깊이 같은데?"
   ]
  },
  {
   "cell_type": "markdown",
   "metadata": {},
   "source": [
    "dataset 에서 배치 1개만 불러와서 모델에 넣기"
   ]
  },
  {
   "cell_type": "code",
   "execution_count": 13,
   "metadata": {},
   "outputs": [
    {
     "name": "stderr",
     "output_type": "stream",
     "text": [
      "2022-08-08 10:01:25.849791: I tensorflow/stream_executor/cuda/cuda_dnn.cc:384] Loaded cuDNN version 8204\n"
     ]
    },
    {
     "data": {
      "text/plain": [
       "<tf.Tensor: shape=(256, 20, 7001), dtype=float32, numpy=\n",
       "array([[[ 5.27822005e-04,  4.00538935e-04, -3.24389694e-04, ...,\n",
       "          2.38754656e-04,  1.72172106e-04, -1.27445412e-04],\n",
       "        [ 1.02338195e-03,  6.99171738e-04, -2.87780509e-04, ...,\n",
       "          3.58307734e-04,  4.27360705e-04, -3.67908884e-04],\n",
       "        [ 1.15139468e-03,  7.27311999e-04, -5.54709055e-04, ...,\n",
       "          7.97548331e-04,  9.88477026e-04, -1.38388554e-04],\n",
       "        ...,\n",
       "        [ 8.31462035e-04, -9.24486085e-04,  4.09787812e-04, ...,\n",
       "          2.46728491e-03, -4.07283660e-03, -7.44014746e-04],\n",
       "        [ 8.83519766e-04, -1.07495172e-03,  7.32855930e-04, ...,\n",
       "          2.82456540e-03, -4.53445874e-03, -5.97644306e-04],\n",
       "        [ 9.49400885e-04, -1.19806943e-03,  1.05003337e-03, ...,\n",
       "          3.17598321e-03, -4.95734671e-03, -4.37945098e-04]],\n",
       "\n",
       "       [[ 5.27822005e-04,  4.00538935e-04, -3.24389694e-04, ...,\n",
       "          2.38754656e-04,  1.72172106e-04, -1.27445412e-04],\n",
       "        [ 7.81894254e-04,  5.82162000e-04, -4.71551291e-04, ...,\n",
       "          4.52125620e-04,  4.02308535e-04, -5.32971535e-05],\n",
       "        [ 4.94643289e-04,  6.21595478e-04, -7.27850304e-04, ...,\n",
       "          2.34710824e-04,  6.75259042e-04, -8.76736522e-06],\n",
       "        ...,\n",
       "        [ 3.06472619e-04,  5.39757486e-04,  1.23205001e-03, ...,\n",
       "          1.43346714e-03, -2.26177811e-03,  4.08392953e-04],\n",
       "        [ 2.96231417e-04,  2.29822865e-04,  1.46657939e-03, ...,\n",
       "          1.77008577e-03, -2.67267670e-03,  2.23436553e-04],\n",
       "        [ 3.10735952e-04, -5.75529339e-05,  1.68490317e-03, ...,\n",
       "          2.12568976e-03, -3.09984689e-03,  1.02045029e-04]],\n",
       "\n",
       "       [[ 5.27822005e-04,  4.00538935e-04, -3.24389694e-04, ...,\n",
       "          2.38754656e-04,  1.72172106e-04, -1.27445412e-04],\n",
       "        [ 7.77089444e-04,  3.24584951e-04, -7.75402703e-04, ...,\n",
       "          1.41224373e-04,  3.23000771e-04,  2.60583154e-04],\n",
       "        [ 8.22393689e-04,  1.15513656e-04, -8.57829174e-04, ...,\n",
       "         -1.71752363e-05,  3.74965690e-04,  6.13757991e-04],\n",
       "        ...,\n",
       "        [-3.60022786e-05,  1.02505810e-03,  1.51682820e-03, ...,\n",
       "          1.13619643e-03, -2.65577319e-03, -9.74941868e-05],\n",
       "        [-2.82317105e-05,  6.83232385e-04,  1.77454250e-03, ...,\n",
       "          1.44855562e-03, -3.15864151e-03, -2.23697862e-04],\n",
       "        [ 9.94412676e-06,  3.63933679e-04,  2.00361968e-03, ...,\n",
       "          1.79528084e-03, -3.65012512e-03, -2.79419939e-04]],\n",
       "\n",
       "       ...,\n",
       "\n",
       "       [[ 5.27822005e-04,  4.00538935e-04, -3.24389694e-04, ...,\n",
       "          2.38754656e-04,  1.72172106e-04, -1.27445412e-04],\n",
       "        [ 7.17735733e-04,  4.67378210e-04, -3.33913602e-04, ...,\n",
       "          7.15064758e-04,  2.13921783e-04, -4.26753541e-04],\n",
       "        [ 4.70284751e-04,  4.07548359e-04, -5.04870666e-04, ...,\n",
       "          1.35031960e-03,  3.47883528e-04, -9.97779542e-04],\n",
       "        ...,\n",
       "        [ 3.54966352e-04, -8.58375919e-04,  1.74887513e-03, ...,\n",
       "          3.61838960e-03, -5.01151709e-03, -2.70608696e-04],\n",
       "        [ 4.92455787e-04, -1.03203068e-03,  1.97990541e-03, ...,\n",
       "          3.90021154e-03, -5.36710210e-03, -1.36962219e-04],\n",
       "        [ 6.44738262e-04, -1.17564015e-03,  2.18322407e-03, ...,\n",
       "          4.15912969e-03, -5.68477949e-03, -1.67227836e-06]],\n",
       "\n",
       "       [[ 5.27822005e-04,  4.00538935e-04, -3.24389694e-04, ...,\n",
       "          2.38754656e-04,  1.72172106e-04, -1.27445412e-04],\n",
       "        [ 8.21174239e-04,  4.41701064e-04, -4.25827282e-04, ...,\n",
       "          4.07693558e-04,  3.11785756e-04, -3.67422239e-04],\n",
       "        [ 9.72836278e-04,  9.43721025e-05, -7.97309505e-04, ...,\n",
       "          1.82522621e-04,  4.01659665e-04,  5.88841467e-05],\n",
       "        ...,\n",
       "        [ 9.73426329e-04, -5.57546271e-04,  1.22675055e-03, ...,\n",
       "          1.68451853e-03, -3.07980762e-03, -8.68094503e-04],\n",
       "        [ 9.45114996e-04, -7.63507502e-04,  1.51663728e-03, ...,\n",
       "          2.20886827e-03, -3.66174383e-03, -7.76670931e-04],\n",
       "        [ 9.51703754e-04, -9.34687559e-04,  1.77538733e-03, ...,\n",
       "          2.69635115e-03, -4.20299312e-03, -6.46057306e-04]],\n",
       "\n",
       "       [[ 5.27822005e-04,  4.00538935e-04, -3.24389694e-04, ...,\n",
       "          2.38754656e-04,  1.72172106e-04, -1.27445412e-04],\n",
       "        [ 5.88014722e-04,  6.93993410e-04, -5.23643976e-04, ...,\n",
       "          1.81454016e-04,  5.97965147e-04, -1.58838404e-04],\n",
       "        [ 5.74715959e-04,  9.89827211e-04, -8.99605104e-04, ...,\n",
       "          8.75870828e-05,  8.54696496e-04, -3.57346551e-04],\n",
       "        ...,\n",
       "        [ 4.13133996e-04, -2.50687532e-04,  9.53470822e-04, ...,\n",
       "          2.13153823e-03, -3.21227475e-03, -5.76256833e-04],\n",
       "        [ 4.60092357e-04, -4.81304276e-04,  1.25378929e-03, ...,\n",
       "          2.49105808e-03, -3.68097005e-03, -5.87336777e-04],\n",
       "        [ 5.31061727e-04, -6.77668606e-04,  1.52836146e-03, ...,\n",
       "          2.84811202e-03, -4.13166452e-03, -5.43930917e-04]]],\n",
       "      dtype=float32)>"
      ]
     },
     "execution_count": 13,
     "metadata": {},
     "output_type": "execute_result"
    }
   ],
   "source": [
    "for src_sample, tgt_sample in dataset.take(1):\n",
    "    break\n",
    "\n",
    "model(src_sample)"
   ]
  },
  {
   "cell_type": "markdown",
   "metadata": {},
   "source": [
    "* shape=(256, 20, 7001)\n",
    "  - 7001은 단어의 개수이자 dense layer의 출력 수\n",
    "  - 256은 이전에 지정해준 batch size, 배치를 하나만 가져왔기 때문\n",
    "  - 20은 tf.keras.layers.LSTM(hidden_size, return_sequences=True)에서  \n",
    "  - return_sequences=True를 해줬기 때문에 자신에게 입력된 시퀀스의 길이만큼 출력, False면 1개의 벡터만 출력"
   ]
  },
  {
   "cell_type": "code",
   "execution_count": 14,
   "metadata": {},
   "outputs": [
    {
     "name": "stdout",
     "output_type": "stream",
     "text": [
      "Model: \"text_generator\"\n",
      "_________________________________________________________________\n",
      " Layer (type)                Output Shape              Param #   \n",
      "=================================================================\n",
      " embedding (Embedding)       multiple                  1792256   \n",
      "                                                                 \n",
      " lstm (LSTM)                 multiple                  5246976   \n",
      "                                                                 \n",
      " lstm_1 (LSTM)               multiple                  8392704   \n",
      "                                                                 \n",
      " dense (Dense)               multiple                  7176025   \n",
      "                                                                 \n",
      "=================================================================\n",
      "Total params: 22,607,961\n",
      "Trainable params: 22,607,961\n",
      "Non-trainable params: 0\n",
      "_________________________________________________________________\n"
     ]
    }
   ],
   "source": [
    "model.summary()"
   ]
  },
  {
   "cell_type": "markdown",
   "metadata": {},
   "source": [
    "이제 모델을 학습시켜봅시다."
   ]
  },
  {
   "cell_type": "code",
   "execution_count": 15,
   "metadata": {},
   "outputs": [
    {
     "name": "stdout",
     "output_type": "stream",
     "text": [
      "Epoch 1/30\n",
      "93/93 [==============================] - 13s 118ms/step - loss: 3.5896\n",
      "Epoch 2/30\n",
      "93/93 [==============================] - 11s 119ms/step - loss: 2.8304\n",
      "Epoch 3/30\n",
      "93/93 [==============================] - 11s 120ms/step - loss: 2.7629\n",
      "Epoch 4/30\n",
      "93/93 [==============================] - 11s 121ms/step - loss: 2.6832\n",
      "Epoch 5/30\n",
      "93/93 [==============================] - 11s 121ms/step - loss: 2.6092\n",
      "Epoch 6/30\n",
      "93/93 [==============================] - 11s 121ms/step - loss: 2.5530\n",
      "Epoch 7/30\n",
      "93/93 [==============================] - 11s 122ms/step - loss: 2.4980\n",
      "Epoch 8/30\n",
      "93/93 [==============================] - 11s 122ms/step - loss: 2.4492\n",
      "Epoch 9/30\n",
      "93/93 [==============================] - 11s 122ms/step - loss: 2.4048\n",
      "Epoch 10/30\n",
      "93/93 [==============================] - 11s 122ms/step - loss: 2.3663\n",
      "Epoch 11/30\n",
      "93/93 [==============================] - 11s 122ms/step - loss: 2.3288\n",
      "Epoch 12/30\n",
      "93/93 [==============================] - 11s 122ms/step - loss: 2.2956\n",
      "Epoch 13/30\n",
      "93/93 [==============================] - 11s 122ms/step - loss: 2.2631\n",
      "Epoch 14/30\n",
      "93/93 [==============================] - 11s 123ms/step - loss: 2.2330\n",
      "Epoch 15/30\n",
      "93/93 [==============================] - 11s 122ms/step - loss: 2.2021\n",
      "Epoch 16/30\n",
      "93/93 [==============================] - 11s 123ms/step - loss: 2.1721\n",
      "Epoch 17/30\n",
      "93/93 [==============================] - 11s 123ms/step - loss: 2.1417\n",
      "Epoch 18/30\n",
      "93/93 [==============================] - 11s 122ms/step - loss: 2.1138\n",
      "Epoch 19/30\n",
      "93/93 [==============================] - 11s 123ms/step - loss: 2.0840\n",
      "Epoch 20/30\n",
      "93/93 [==============================] - 11s 123ms/step - loss: 2.0529\n",
      "Epoch 21/30\n",
      "93/93 [==============================] - 11s 123ms/step - loss: 2.0223\n",
      "Epoch 22/30\n",
      "93/93 [==============================] - 11s 123ms/step - loss: 1.9921\n",
      "Epoch 23/30\n",
      "93/93 [==============================] - 11s 122ms/step - loss: 1.9602\n",
      "Epoch 24/30\n",
      "93/93 [==============================] - 11s 123ms/step - loss: 1.9286\n",
      "Epoch 25/30\n",
      "93/93 [==============================] - 11s 123ms/step - loss: 1.8980\n",
      "Epoch 26/30\n",
      "93/93 [==============================] - 11s 122ms/step - loss: 1.8665\n",
      "Epoch 27/30\n",
      "93/93 [==============================] - 11s 123ms/step - loss: 1.8354\n",
      "Epoch 28/30\n",
      "93/93 [==============================] - 11s 123ms/step - loss: 1.8065\n",
      "Epoch 29/30\n",
      "93/93 [==============================] - 11s 123ms/step - loss: 1.7744\n",
      "Epoch 30/30\n",
      "93/93 [==============================] - 11s 123ms/step - loss: 1.7445\n"
     ]
    },
    {
     "data": {
      "text/plain": [
       "<keras.callbacks.History at 0x7f43762258d0>"
      ]
     },
     "execution_count": 15,
     "metadata": {},
     "output_type": "execute_result"
    }
   ],
   "source": [
    "# optimizer와 loss등은 차차 배웁니다 \n",
    "# 혹시 미리 알고 싶다면 아래 문서를 참고하세요\n",
    "\n",
    "# https://www.tensorflow.org/api_docs/python/tf/keras/optimizers\n",
    "# https://www.tensorflow.org/api_docs/python/tf/keras/losses\n",
    "# 양이 상당히 많은 편이니 지금 보는 것은 추천하지 않습니다\n",
    "\n",
    "optimizer = tf.keras.optimizers.Adam()\n",
    "loss = tf.keras.losses.SparseCategoricalCrossentropy(\n",
    "    from_logits=True,\n",
    "    reduction='none'\n",
    ")\n",
    "\n",
    "model.compile(loss=loss, optimizer=optimizer)\n",
    "\n",
    "# model.fit() 함수에 들어가는 다양한 인자를 알고 싶다면 아래의 문서를 참고하세요. \n",
    "# https://www.tensorflow.org/api_docs/python/tf/keras/Model#fit\n",
    "\n",
    "model.fit(dataset, epochs=30)"
   ]
  },
  {
   "cell_type": "markdown",
   "metadata": {},
   "source": [
    "## 잘 만들어졌는지 평가"
   ]
  },
  {
   "cell_type": "markdown",
   "metadata": {},
   "source": [
    "* generate_text 함수는 모델에게 시작 문장을 전달하면 모델이 시작 문장을 바탕으로 작문을 진행하게 합니다."
   ]
  },
  {
   "cell_type": "code",
   "execution_count": 16,
   "metadata": {},
   "outputs": [],
   "source": [
    "def generate_text(model, tokenizer, init_sentence=\"<start>\", max_len=20):\n",
    "    # 테스트를 위해서 입력받은 init_sentence도 텐서로 변환합니다\n",
    "    test_input = tokenizer.texts_to_sequences([init_sentence])\n",
    "    test_tensor = tf.convert_to_tensor(test_input, dtype=tf.int64)\n",
    "    end_token = tokenizer.word_index[\"<end>\"]\n",
    "\n",
    "    # 단어 하나씩 예측해 문장을 만듭니다\n",
    "    #    1. 입력받은 문장의 텐서를 입력합니다\n",
    "    #    2. 예측된 값 중 가장 높은 확률인 word index를 뽑아냅니다\n",
    "    #    3. 2에서 예측된 word index를 문장 뒤에 붙입니다\n",
    "    #    4. 모델이 <end>를 예측했거나, max_len에 도달했다면 문장 생성을 마칩니다\n",
    "    while True:\n",
    "        # 1\n",
    "        predict = model(test_tensor) \n",
    "        # 2\n",
    "        predict_word = tf.argmax(tf.nn.softmax(predict, axis=-1), axis=-1)[:, -1] \n",
    "        # 3 \n",
    "        test_tensor = tf.concat([test_tensor, tf.expand_dims(predict_word, axis=0)], axis=-1)\n",
    "        # 4\n",
    "        if predict_word.numpy()[0] == end_token: break\n",
    "        if test_tensor.shape[1] >= max_len: break\n",
    "\n",
    "    generated = \"\"\n",
    "    # tokenizer를 이용해 word index를 단어로 하나씩 변환합니다 \n",
    "    for word_index in test_tensor[0].numpy():\n",
    "        generated += tokenizer.index_word[word_index] + \" \"\n",
    "\n",
    "    return generated"
   ]
  },
  {
   "cell_type": "markdown",
   "metadata": {},
   "source": [
    "* generate_text() 함수에서 init_sentence를 인자로 받고는 있습니다. 이렇게 받은 인자를 일단 텐서로 만들고 있습니다. 디폴트로는 <start> 단어 하나만 받는군요.\n",
    "* while의 첫 번째 루프에서 test_tensor에 <start> 하나만 들어갔다고 합시다. 우리의 모델이 출력으로 7001개의 단어 중 A를 골랐다고 합시다.\n",
    "* while의 두 번째 루프에서 test_tensor에는 <start> A가 들어갑니다. 그래서 우리의 모델이 그다음 B를 골랐다고 합시다.\n",
    "* while의 세 번째 루프에서 test_tensor에는 <start> A B가 들어갑니다. 그래서..... (이하 후략)"
   ]
  },
  {
   "cell_type": "code",
   "execution_count": 17,
   "metadata": {},
   "outputs": [
    {
     "data": {
      "text/plain": [
       "'<start> he s a <unk> , and i will not be so , <end> '"
      ]
     },
     "execution_count": 17,
     "metadata": {},
     "output_type": "execute_result"
    }
   ],
   "source": [
    "generate_text(model, tokenizer, init_sentence=\"<start> he\")"
   ]
  }
 ],
 "metadata": {
  "kernelspec": {
   "display_name": "Python 3.10.4 64-bit",
   "language": "python",
   "name": "python3"
  },
  "language_info": {
   "codemirror_mode": {
    "name": "ipython",
    "version": 3
   },
   "file_extension": ".py",
   "mimetype": "text/x-python",
   "name": "python",
   "nbconvert_exporter": "python",
   "pygments_lexer": "ipython3",
   "version": "3.10.4"
  },
  "orig_nbformat": 4,
  "vscode": {
   "interpreter": {
    "hash": "916dbcbb3f70747c44a77c7bcd40155683ae19c65e1c03b4aa3499c5328201f1"
   }
  }
 },
 "nbformat": 4,
 "nbformat_minor": 2
}
